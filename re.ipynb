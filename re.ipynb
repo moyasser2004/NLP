{
 "cells": [
  {
   "cell_type": "markdown",
   "metadata": {},
   "source": [
    "### String Operations"
   ]
  },
  {
   "cell_type": "code",
   "execution_count": null,
   "metadata": {},
   "outputs": [],
   "source": [
    "inputt='Mohamed'"
   ]
  },
  {
   "cell_type": "code",
   "execution_count": 1,
   "metadata": {},
   "outputs": [],
   "source": [
    "text='My name mohamed _elhaj-abdou'"
   ]
  },
  {
   "cell_type": "code",
   "execution_count": null,
   "metadata": {},
   "outputs": [],
   "source": [
    "'mohamed is playing football in the club'\n",
    "'mohamed  playing football  club'"
   ]
  },
  {
   "cell_type": "code",
   "execution_count": 2,
   "metadata": {},
   "outputs": [
    {
     "data": {
      "text/plain": [
       "'my name is mohamed_elhaj-abdou'"
      ]
     },
     "execution_count": 2,
     "metadata": {},
     "output_type": "execute_result"
    }
   ],
   "source": [
    "text.lower()"
   ]
  },
  {
   "cell_type": "code",
   "execution_count": 3,
   "metadata": {},
   "outputs": [
    {
     "data": {
      "text/plain": [
       "'MY NAME IS MOHAMED_ELHAJ-ABDOU'"
      ]
     },
     "execution_count": 3,
     "metadata": {},
     "output_type": "execute_result"
    }
   ],
   "source": [
    "text.upper()"
   ]
  },
  {
   "cell_type": "code",
   "execution_count": 4,
   "metadata": {},
   "outputs": [
    {
     "data": {
      "text/plain": [
       "'My Name Is Mohamed_Elhaj-Abdou'"
      ]
     },
     "execution_count": 4,
     "metadata": {},
     "output_type": "execute_result"
    }
   ],
   "source": [
    "text.title()"
   ]
  },
  {
   "cell_type": "code",
   "execution_count": 5,
   "metadata": {},
   "outputs": [
    {
     "data": {
      "text/plain": [
       "'My name is mohamed_elhaj-abdou'"
      ]
     },
     "execution_count": 5,
     "metadata": {},
     "output_type": "execute_result"
    }
   ],
   "source": [
    "text.capitalize()"
   ]
  },
  {
   "cell_type": "code",
   "execution_count": 24,
   "metadata": {},
   "outputs": [
    {
     "data": {
      "text/plain": [
       "['I', 'Love', 'Machine', 'learning']"
      ]
     },
     "execution_count": 24,
     "metadata": {},
     "output_type": "execute_result"
    }
   ],
   "source": [
    "listt=['I','Love','Machine','learning']\n",
    "listt"
   ]
  },
  {
   "cell_type": "code",
   "execution_count": 30,
   "metadata": {},
   "outputs": [
    {
     "data": {
      "text/plain": [
       "'I Love Machine learning'"
      ]
     },
     "execution_count": 30,
     "metadata": {},
     "output_type": "execute_result"
    }
   ],
   "source": [
    "listt_join=' '.join(listt)\n",
    "listt_join"
   ]
  },
  {
   "cell_type": "code",
   "execution_count": 31,
   "metadata": {},
   "outputs": [
    {
     "data": {
      "text/plain": [
       "'I_Love_Machine_learning'"
      ]
     },
     "execution_count": 31,
     "metadata": {},
     "output_type": "execute_result"
    }
   ],
   "source": [
    "listt_join='_'.join(listt)\n",
    "listt_join"
   ]
  },
  {
   "cell_type": "code",
   "execution_count": 32,
   "metadata": {},
   "outputs": [
    {
     "data": {
      "text/plain": [
       "'I,Love,Machine,learning'"
      ]
     },
     "execution_count": 32,
     "metadata": {},
     "output_type": "execute_result"
    }
   ],
   "source": [
    "listt_join=','.join(listt)\n",
    "listt_join"
   ]
  },
  {
   "cell_type": "code",
   "execution_count": 33,
   "metadata": {},
   "outputs": [
    {
     "data": {
      "text/plain": [
       "'I**Love**Machine**learning'"
      ]
     },
     "execution_count": 33,
     "metadata": {},
     "output_type": "execute_result"
    }
   ],
   "source": [
    "listt_join='**'.join(listt)\n",
    "listt_join"
   ]
  },
  {
   "cell_type": "markdown",
   "metadata": {},
   "source": [
    "## Break up a string using y as separator. "
   ]
  },
  {
   "cell_type": "code",
   "execution_count": 1,
   "metadata": {},
   "outputs": [],
   "source": [
    "listt='Mohamed, elhaj, abdou'"
   ]
  },
  {
   "cell_type": "code",
   "execution_count": 2,
   "metadata": {},
   "outputs": [
    {
     "data": {
      "text/plain": [
       "['Mohamed', ' elhaj', ' abdou']"
      ]
     },
     "execution_count": 2,
     "metadata": {},
     "output_type": "execute_result"
    }
   ],
   "source": [
    "listt.split(',')"
   ]
  },
  {
   "cell_type": "code",
   "execution_count": 281,
   "metadata": {},
   "outputs": [],
   "source": [
    "listt='Mohamed  elhaj abdou'"
   ]
  },
  {
   "cell_type": "code",
   "execution_count": 3,
   "metadata": {},
   "outputs": [
    {
     "data": {
      "text/plain": [
       "['Mohamed,', 'elhaj,', 'abdou']"
      ]
     },
     "execution_count": 3,
     "metadata": {},
     "output_type": "execute_result"
    }
   ],
   "source": [
    "listt.split(' ')"
   ]
  },
  {
   "cell_type": "code",
   "execution_count": 4,
   "metadata": {},
   "outputs": [],
   "source": [
    "listt='Mohamed*elhaj*abdou'"
   ]
  },
  {
   "cell_type": "code",
   "execution_count": 5,
   "metadata": {},
   "outputs": [
    {
     "data": {
      "text/plain": [
       "['Mohamed', 'elhaj', 'abdou']"
      ]
     },
     "execution_count": 5,
     "metadata": {},
     "output_type": "execute_result"
    }
   ],
   "source": [
    "listt.split('*')"
   ]
  },
  {
   "cell_type": "code",
   "execution_count": 6,
   "metadata": {},
   "outputs": [],
   "source": [
    "listt='Mohamedddddddddddddddddddddddddddddddddd. elfffffffffffffffffffffffffhaj ejehegegeg. abffffffffffffffffffffffffffdou.'"
   ]
  },
  {
   "cell_type": "code",
   "execution_count": 8,
   "metadata": {},
   "outputs": [
    {
     "data": {
      "text/plain": [
       "['Mohamedddddddddddddddddddddddddddddddddd',\n",
       " ' elfffffffffffffffffffffffffhaj',\n",
       " ' abffffffffffffffffffffffffffdou',\n",
       " '']"
      ]
     },
     "execution_count": 8,
     "metadata": {},
     "output_type": "execute_result"
    }
   ],
   "source": [
    "listt.split('.')"
   ]
  },
  {
   "cell_type": "markdown",
   "metadata": {},
   "source": [
    "## what if i want to count the number of words or chars in the text"
   ]
  },
  {
   "cell_type": "code",
   "execution_count": 11,
   "metadata": {},
   "outputs": [
    {
     "data": {
      "text/plain": [
       "'Mohamedddddddddddddddddddddddddddddddddd. elfffffffffffffffffffffffffhaj. abffffffffffffffffffffffffffdou.'"
      ]
     },
     "execution_count": 11,
     "metadata": {},
     "output_type": "execute_result"
    }
   ],
   "source": [
    "listt"
   ]
  },
  {
   "cell_type": "code",
   "execution_count": 10,
   "metadata": {},
   "outputs": [
    {
     "data": {
      "text/plain": [
       "3"
      ]
     },
     "execution_count": 10,
     "metadata": {},
     "output_type": "execute_result"
    }
   ],
   "source": [
    "listt.count(\".\")"
   ]
  },
  {
   "cell_type": "code",
   "execution_count": 13,
   "metadata": {},
   "outputs": [
    {
     "data": {
      "text/plain": [
       "0"
      ]
     },
     "execution_count": 13,
     "metadata": {},
     "output_type": "execute_result"
    }
   ],
   "source": [
    "listt.count(\"I\")"
   ]
  },
  {
   "cell_type": "code",
   "execution_count": 14,
   "metadata": {},
   "outputs": [
    {
     "data": {
      "text/plain": [
       "1"
      ]
     },
     "execution_count": 14,
     "metadata": {},
     "output_type": "execute_result"
    }
   ],
   "source": [
    "listt.count(\"M\")"
   ]
  },
  {
   "cell_type": "code",
   "execution_count": 15,
   "metadata": {},
   "outputs": [
    {
     "data": {
      "text/plain": [
       "1"
      ]
     },
     "execution_count": 15,
     "metadata": {},
     "output_type": "execute_result"
    }
   ],
   "source": [
    "listt.count('m')"
   ]
  },
  {
   "cell_type": "code",
   "execution_count": 42,
   "metadata": {},
   "outputs": [
    {
     "data": {
      "text/plain": [
       "1"
      ]
     },
     "execution_count": 42,
     "metadata": {},
     "output_type": "execute_result"
    }
   ],
   "source": [
    "listt_join.count('l')"
   ]
  },
  {
   "cell_type": "code",
   "execution_count": 43,
   "metadata": {},
   "outputs": [
    {
     "data": {
      "text/plain": [
       "2"
      ]
     },
     "execution_count": 43,
     "metadata": {},
     "output_type": "execute_result"
    }
   ],
   "source": [
    "listt_join.count('a')"
   ]
  },
  {
   "cell_type": "code",
   "execution_count": 45,
   "metadata": {},
   "outputs": [
    {
     "data": {
      "text/plain": [
       "6"
      ]
     },
     "execution_count": 45,
     "metadata": {},
     "output_type": "execute_result"
    }
   ],
   "source": [
    "listt_join.count('*')"
   ]
  },
  {
   "cell_type": "code",
   "execution_count": 29,
   "metadata": {},
   "outputs": [
    {
     "data": {
      "text/plain": [
       "'My name is Mohamed_elhaj-abdou'"
      ]
     },
     "execution_count": 29,
     "metadata": {},
     "output_type": "execute_result"
    }
   ],
   "source": [
    "text"
   ]
  },
  {
   "cell_type": "code",
   "execution_count": 19,
   "metadata": {},
   "outputs": [
    {
     "data": {
      "text/plain": [
       "4"
      ]
     },
     "execution_count": 19,
     "metadata": {},
     "output_type": "execute_result"
    }
   ],
   "source": [
    "text.count('a')"
   ]
  },
  {
   "cell_type": "markdown",
   "metadata": {},
   "source": [
    "## lets say that we want to find of the text starts with spesific word or char"
   ]
  },
  {
   "cell_type": "code",
   "execution_count": 58,
   "metadata": {},
   "outputs": [
    {
     "data": {
      "text/plain": [
       "'My name is Mohamed_elhaj-abdou'"
      ]
     },
     "execution_count": 58,
     "metadata": {},
     "output_type": "execute_result"
    }
   ],
   "source": [
    "text"
   ]
  },
  {
   "cell_type": "code",
   "execution_count": 59,
   "metadata": {},
   "outputs": [
    {
     "name": "stdout",
     "output_type": "stream",
     "text": [
      "no\n"
     ]
    }
   ],
   "source": [
    "if text.startswith('ahmed'):\n",
    "    print('ok')\n",
    "else :\n",
    "    print('no')"
   ]
  },
  {
   "cell_type": "code",
   "execution_count": 60,
   "metadata": {},
   "outputs": [
    {
     "name": "stdout",
     "output_type": "stream",
     "text": [
      "no\n"
     ]
    }
   ],
   "source": [
    "if text.startswith('my'):\n",
    "    print('ok')\n",
    "else :\n",
    "    print('no')"
   ]
  },
  {
   "cell_type": "code",
   "execution_count": 61,
   "metadata": {},
   "outputs": [
    {
     "name": "stdout",
     "output_type": "stream",
     "text": [
      "ok\n"
     ]
    }
   ],
   "source": [
    "if text.startswith('My'):\n",
    "    print('ok')\n",
    "else :\n",
    "    print('no')"
   ]
  },
  {
   "cell_type": "markdown",
   "metadata": {},
   "source": [
    "## Ends with"
   ]
  },
  {
   "cell_type": "code",
   "execution_count": 62,
   "metadata": {},
   "outputs": [
    {
     "data": {
      "text/plain": [
       "'My name is Mohamed_elhaj-abdou'"
      ]
     },
     "execution_count": 62,
     "metadata": {},
     "output_type": "execute_result"
    }
   ],
   "source": [
    "text"
   ]
  },
  {
   "cell_type": "code",
   "execution_count": 64,
   "metadata": {},
   "outputs": [
    {
     "name": "stdout",
     "output_type": "stream",
     "text": [
      "ok\n"
     ]
    }
   ],
   "source": [
    "if text.endswith('u'):\n",
    "    print('ok')\n",
    "else :\n",
    "    print('no')"
   ]
  },
  {
   "cell_type": "code",
   "execution_count": 65,
   "metadata": {},
   "outputs": [
    {
     "name": "stdout",
     "output_type": "stream",
     "text": [
      "no\n"
     ]
    }
   ],
   "source": [
    "if text.endswith('o'):\n",
    "    print('ok')\n",
    "else :\n",
    "    print('no')"
   ]
  },
  {
   "cell_type": "code",
   "execution_count": 66,
   "metadata": {},
   "outputs": [
    {
     "name": "stdout",
     "output_type": "stream",
     "text": [
      "no\n"
     ]
    }
   ],
   "source": [
    "if text.endswith('gggg'):\n",
    "    print('ok')\n",
    "else :\n",
    "    print('no')"
   ]
  },
  {
   "cell_type": "code",
   "execution_count": 63,
   "metadata": {},
   "outputs": [
    {
     "name": "stdout",
     "output_type": "stream",
     "text": [
      "ok\n"
     ]
    }
   ],
   "source": [
    "if text.endswith('ou'):\n",
    "    print('ok')\n",
    "else :\n",
    "    print('no')"
   ]
  },
  {
   "cell_type": "markdown",
   "metadata": {},
   "source": [
    "## check if the text is chars only no numbers or any other things"
   ]
  },
  {
   "cell_type": "code",
   "execution_count": 67,
   "metadata": {},
   "outputs": [
    {
     "data": {
      "text/plain": [
       "True"
      ]
     },
     "execution_count": 67,
     "metadata": {},
     "output_type": "execute_result"
    }
   ],
   "source": [
    "text='Mohamed'\n",
    "text.isalpha()"
   ]
  },
  {
   "cell_type": "code",
   "execution_count": 68,
   "metadata": {},
   "outputs": [
    {
     "data": {
      "text/plain": [
       "False"
      ]
     },
     "execution_count": 68,
     "metadata": {},
     "output_type": "execute_result"
    }
   ],
   "source": [
    "text='Mohamed123'\n",
    "text.isalpha()"
   ]
  },
  {
   "cell_type": "markdown",
   "metadata": {},
   "source": [
    "## Remove space on the left."
   ]
  },
  {
   "cell_type": "code",
   "execution_count": 79,
   "metadata": {},
   "outputs": [
    {
     "data": {
      "text/plain": [
       "'Mohamed elhaj'"
      ]
     },
     "execution_count": 79,
     "metadata": {},
     "output_type": "execute_result"
    }
   ],
   "source": [
    "text='  Mohamed elhaj'\n",
    "text.lstrip()\n"
   ]
  },
  {
   "cell_type": "markdown",
   "metadata": {},
   "source": [
    "## Remove space on the right."
   ]
  },
  {
   "cell_type": "code",
   "execution_count": 81,
   "metadata": {},
   "outputs": [
    {
     "data": {
      "text/plain": [
       "'Mohamed elhaj'"
      ]
     },
     "execution_count": 81,
     "metadata": {},
     "output_type": "execute_result"
    }
   ],
   "source": [
    "text='Mohamed elhaj  '\n",
    "text.rstrip()\n"
   ]
  },
  {
   "cell_type": "markdown",
   "metadata": {},
   "source": [
    "## Remove space on both sides."
   ]
  },
  {
   "cell_type": "code",
   "execution_count": 82,
   "metadata": {},
   "outputs": [
    {
     "data": {
      "text/plain": [
       "'Mohamed elhaj'"
      ]
     },
     "execution_count": 82,
     "metadata": {},
     "output_type": "execute_result"
    }
   ],
   "source": [
    "text='   Mohamed elhaj  '\n",
    "text.strip()\n"
   ]
  },
  {
   "cell_type": "code",
   "execution_count": null,
   "metadata": {},
   "outputs": [],
   "source": []
  },
  {
   "cell_type": "markdown",
   "metadata": {},
   "source": [
    "## Replace the substring str1 by str2."
   ]
  },
  {
   "cell_type": "code",
   "execution_count": 83,
   "metadata": {},
   "outputs": [
    {
     "data": {
      "text/plain": [
       "'Ahmed elhaj'"
      ]
     },
     "execution_count": 83,
     "metadata": {},
     "output_type": "execute_result"
    }
   ],
   "source": [
    "text='Mohamed elhaj'\n",
    "str_1='Mohamed'\n",
    "str_2='Ahmed'\n",
    "\n",
    "text.replace(str_1,str_2)\n"
   ]
  },
  {
   "cell_type": "code",
   "execution_count": 84,
   "metadata": {},
   "outputs": [
    {
     "data": {
      "text/plain": [
       "'Mohamed abdou'"
      ]
     },
     "execution_count": 84,
     "metadata": {},
     "output_type": "execute_result"
    }
   ],
   "source": [
    "text='Mohamed elhaj'\n",
    "str_1='elhaj'\n",
    "str_2='abdou'\n",
    "\n",
    "text.replace(str_1,str_2)\n"
   ]
  },
  {
   "cell_type": "markdown",
   "metadata": {},
   "source": [
    "## Number of occurrences of str in x.\n",
    "\n"
   ]
  },
  {
   "cell_type": "code",
   "execution_count": 85,
   "metadata": {},
   "outputs": [
    {
     "data": {
      "text/plain": [
       "2"
      ]
     },
     "execution_count": 85,
     "metadata": {},
     "output_type": "execute_result"
    }
   ],
   "source": [
    "text='Mohamed elhaj'\n",
    "str_1='ha'\n",
    "\n",
    "text.count(str_1)\n"
   ]
  },
  {
   "cell_type": "markdown",
   "metadata": {},
   "source": [
    "## Find the sub-string str. \n",
    "\n",
    "## Returns -1 if not found!"
   ]
  },
  {
   "cell_type": "code",
   "execution_count": 90,
   "metadata": {},
   "outputs": [
    {
     "data": {
      "text/plain": [
       "-1"
      ]
     },
     "execution_count": 90,
     "metadata": {},
     "output_type": "execute_result"
    }
   ],
   "source": [
    "text='Mohamed elhaj Mo'\n",
    "str_1='mo'\n",
    "\n",
    "text.find(str_1)\n"
   ]
  },
  {
   "cell_type": "code",
   "execution_count": 91,
   "metadata": {},
   "outputs": [
    {
     "data": {
      "text/plain": [
       "4"
      ]
     },
     "execution_count": 91,
     "metadata": {},
     "output_type": "execute_result"
    }
   ],
   "source": [
    "text='Mohamed elhaj Mo'\n",
    "str_1='m'\n",
    "\n",
    "text.find(str_1)\n"
   ]
  },
  {
   "cell_type": "code",
   "execution_count": 92,
   "metadata": {},
   "outputs": [
    {
     "data": {
      "text/plain": [
       "-1"
      ]
     },
     "execution_count": 92,
     "metadata": {},
     "output_type": "execute_result"
    }
   ],
   "source": [
    "text='Mohamed elhaj Mo'\n",
    "str_1='x'\n",
    "\n",
    "text.find(str_1)\n"
   ]
  },
  {
   "cell_type": "code",
   "execution_count": 104,
   "metadata": {},
   "outputs": [],
   "source": [
    "text='mohamed'"
   ]
  },
  {
   "cell_type": "code",
   "execution_count": 105,
   "metadata": {},
   "outputs": [
    {
     "data": {
      "text/plain": [
       "(True, False)"
      ]
     },
     "execution_count": 105,
     "metadata": {},
     "output_type": "execute_result"
    }
   ],
   "source": [
    "text.islower(),text.isupper()"
   ]
  },
  {
   "cell_type": "markdown",
   "metadata": {},
   "source": [
    "# lets make a validator for a spesific text such as email "
   ]
  },
  {
   "cell_type": "markdown",
   "metadata": {},
   "source": [
    "lets open Regexr [Link](https://regexr.com/)\n",
    "\n",
    "Regular expression tester with syntax highlighting, PHP / PCRE & JS Support, contextual help, cheat sheet, reference, and searchable community patterns."
   ]
  },
  {
   "cell_type": "markdown",
   "metadata": {},
   "source": [
    "## lets go to the powerpoint slide 5"
   ]
  },
  {
   "cell_type": "code",
   "execution_count": 1,
   "metadata": {},
   "outputs": [],
   "source": [
    "import re"
   ]
  },
  {
   "cell_type": "markdown",
   "metadata": {},
   "source": [
    "### Regualar Expression dictionary\n",
    "\n",
    "`.` --> **any charachter except new line**\n",
    "\n",
    "`\\d` --> **Digit (0-9)**\n",
    "\n",
    "`\\D` --> **Not Digit (0-9)\n",
    "\n",
    "`\\w` --> **word character (a-z,A-Z, 0-9, _)**\n",
    "\n",
    "`\\W` --> **Not a word character **\n",
    "\n",
    "`\\s` --> **Whitespace (space, tab, newline)**\n",
    "\n",
    "`\\S` --> **Not Whitespace (space, tab, newline)**\n",
    "\n",
    "`\\b` --> **word boundry**\n",
    "\n"
   ]
  },
  {
   "cell_type": "markdown",
   "metadata": {},
   "source": [
    "## different between \n",
    "\n",
    "`re.findall` **it returns the output in tuple**\n",
    "\n",
    "`re.finditer` **it return the outout in an object --> you need to make for loop to look inside it**"
   ]
  },
  {
   "cell_type": "markdown",
   "metadata": {},
   "source": [
    "### i want to search for a pattern abc"
   ]
  },
  {
   "cell_type": "code",
   "execution_count": 2,
   "metadata": {},
   "outputs": [
    {
     "name": "stderr",
     "output_type": "stream",
     "text": [
      "<>:1: SyntaxWarning: invalid escape sequence '\\ '\n",
      "<>:1: SyntaxWarning: invalid escape sequence '\\ '\n",
      "C:\\Users\\Mohamed Yasser\\AppData\\Local\\Temp\\ipykernel_3276\\3805605336.py:1: SyntaxWarning: invalid escape sequence '\\ '\n",
      "  text_to_search ='''\n"
     ]
    }
   ],
   "source": [
    "text_to_search ='''\n",
    "abcdefghijklmnopqurtuvwxyz\n",
    "ABCDEFGHIJKLMNOPQRSTUVWXYZ\n",
    "1234567890\n",
    "Ha HaHa\n",
    "MetaCharacters (Need to be escaped):\n",
    ". ^ $ * + ? { } [ ] \\ | ( )\n",
    "coreyms.com\n",
    "321-555-4321\n",
    "123.555.1234\n",
    "123*555*1234\n",
    "800-555-1234\n",
    "900-555-1234\n",
    "Mr. Schafer\n",
    "Mr Smith\n",
    "Ms Davis\n",
    "Mrs. Robinson\n",
    "Mr. T\n",
    "'''"
   ]
  },
  {
   "cell_type": "code",
   "execution_count": 4,
   "metadata": {},
   "outputs": [
    {
     "name": "stdout",
     "output_type": "stream",
     "text": [
      "<re.Match object; span=(1, 4), match='abc'>\n"
     ]
    }
   ],
   "source": [
    "pattern = re.compile(\"abc\")\n",
    "matches = pattern.finditer(text_to_search)\n",
    "\n",
    "for matche in matches:\n",
    "    print(matche)"
   ]
  },
  {
   "cell_type": "code",
   "execution_count": 5,
   "metadata": {},
   "outputs": [
    {
     "name": "stdout",
     "output_type": "stream",
     "text": [
      "['abc']\n"
     ]
    }
   ],
   "source": [
    "pattern = re.compile(\"abc\")\n",
    "matches = pattern.findall(text_to_search)\n",
    "print(matches)"
   ]
  },
  {
   "cell_type": "code",
   "execution_count": 6,
   "metadata": {},
   "outputs": [],
   "source": [
    "pattern=re.compile(r'cba')\n",
    "matches=pattern.finditer(text_to_search )\n",
    "\n",
    "for match in matches:\n",
    "    print(match)"
   ]
  },
  {
   "cell_type": "markdown",
   "metadata": {},
   "source": [
    "### search for at least one period (at least one thing)"
   ]
  },
  {
   "cell_type": "code",
   "execution_count": 9,
   "metadata": {},
   "outputs": [
    {
     "name": "stdout",
     "output_type": "stream",
     "text": [
      "<re.Match object; span=(1, 2), match='a'>\n",
      "<re.Match object; span=(2, 3), match='b'>\n",
      "<re.Match object; span=(3, 4), match='c'>\n",
      "<re.Match object; span=(4, 5), match='d'>\n",
      "<re.Match object; span=(5, 6), match='e'>\n",
      "<re.Match object; span=(6, 7), match='f'>\n",
      "<re.Match object; span=(7, 8), match='g'>\n",
      "<re.Match object; span=(8, 9), match='h'>\n",
      "<re.Match object; span=(9, 10), match='i'>\n",
      "<re.Match object; span=(10, 11), match='j'>\n",
      "<re.Match object; span=(11, 12), match='k'>\n",
      "<re.Match object; span=(12, 13), match='l'>\n",
      "<re.Match object; span=(13, 14), match='m'>\n",
      "<re.Match object; span=(14, 15), match='n'>\n",
      "<re.Match object; span=(15, 16), match='o'>\n",
      "<re.Match object; span=(16, 17), match='p'>\n",
      "<re.Match object; span=(17, 18), match='q'>\n",
      "<re.Match object; span=(18, 19), match='u'>\n",
      "<re.Match object; span=(19, 20), match='r'>\n",
      "<re.Match object; span=(20, 21), match='t'>\n",
      "<re.Match object; span=(21, 22), match='u'>\n",
      "<re.Match object; span=(22, 23), match='v'>\n",
      "<re.Match object; span=(23, 24), match='w'>\n",
      "<re.Match object; span=(24, 25), match='x'>\n",
      "<re.Match object; span=(25, 26), match='y'>\n",
      "<re.Match object; span=(26, 27), match='z'>\n",
      "<re.Match object; span=(28, 29), match='A'>\n",
      "<re.Match object; span=(29, 30), match='B'>\n",
      "<re.Match object; span=(30, 31), match='C'>\n",
      "<re.Match object; span=(31, 32), match='D'>\n",
      "<re.Match object; span=(32, 33), match='E'>\n",
      "<re.Match object; span=(33, 34), match='F'>\n",
      "<re.Match object; span=(34, 35), match='G'>\n",
      "<re.Match object; span=(35, 36), match='H'>\n",
      "<re.Match object; span=(36, 37), match='I'>\n",
      "<re.Match object; span=(37, 38), match='J'>\n",
      "<re.Match object; span=(38, 39), match='K'>\n",
      "<re.Match object; span=(39, 40), match='L'>\n",
      "<re.Match object; span=(40, 41), match='M'>\n",
      "<re.Match object; span=(41, 42), match='N'>\n",
      "<re.Match object; span=(42, 43), match='O'>\n",
      "<re.Match object; span=(43, 44), match='P'>\n",
      "<re.Match object; span=(44, 45), match='Q'>\n",
      "<re.Match object; span=(45, 46), match='R'>\n",
      "<re.Match object; span=(46, 47), match='S'>\n",
      "<re.Match object; span=(47, 48), match='T'>\n",
      "<re.Match object; span=(48, 49), match='U'>\n",
      "<re.Match object; span=(49, 50), match='V'>\n",
      "<re.Match object; span=(50, 51), match='W'>\n",
      "<re.Match object; span=(51, 52), match='X'>\n",
      "<re.Match object; span=(52, 53), match='Y'>\n",
      "<re.Match object; span=(53, 54), match='Z'>\n",
      "<re.Match object; span=(55, 56), match='1'>\n",
      "<re.Match object; span=(56, 57), match='2'>\n",
      "<re.Match object; span=(57, 58), match='3'>\n",
      "<re.Match object; span=(58, 59), match='4'>\n",
      "<re.Match object; span=(59, 60), match='5'>\n",
      "<re.Match object; span=(60, 61), match='6'>\n",
      "<re.Match object; span=(61, 62), match='7'>\n",
      "<re.Match object; span=(62, 63), match='8'>\n",
      "<re.Match object; span=(63, 64), match='9'>\n",
      "<re.Match object; span=(64, 65), match='0'>\n",
      "<re.Match object; span=(66, 67), match='H'>\n",
      "<re.Match object; span=(67, 68), match='a'>\n",
      "<re.Match object; span=(68, 69), match=' '>\n",
      "<re.Match object; span=(69, 70), match='H'>\n",
      "<re.Match object; span=(70, 71), match='a'>\n",
      "<re.Match object; span=(71, 72), match='H'>\n",
      "<re.Match object; span=(72, 73), match='a'>\n",
      "<re.Match object; span=(74, 75), match='M'>\n",
      "<re.Match object; span=(75, 76), match='e'>\n",
      "<re.Match object; span=(76, 77), match='t'>\n",
      "<re.Match object; span=(77, 78), match='a'>\n",
      "<re.Match object; span=(78, 79), match='C'>\n",
      "<re.Match object; span=(79, 80), match='h'>\n",
      "<re.Match object; span=(80, 81), match='a'>\n",
      "<re.Match object; span=(81, 82), match='r'>\n",
      "<re.Match object; span=(82, 83), match='a'>\n",
      "<re.Match object; span=(83, 84), match='c'>\n",
      "<re.Match object; span=(84, 85), match='t'>\n",
      "<re.Match object; span=(85, 86), match='e'>\n",
      "<re.Match object; span=(86, 87), match='r'>\n",
      "<re.Match object; span=(87, 88), match='s'>\n",
      "<re.Match object; span=(88, 89), match=' '>\n",
      "<re.Match object; span=(89, 90), match='('>\n",
      "<re.Match object; span=(90, 91), match='N'>\n",
      "<re.Match object; span=(91, 92), match='e'>\n",
      "<re.Match object; span=(92, 93), match='e'>\n",
      "<re.Match object; span=(93, 94), match='d'>\n",
      "<re.Match object; span=(94, 95), match=' '>\n",
      "<re.Match object; span=(95, 96), match='t'>\n",
      "<re.Match object; span=(96, 97), match='o'>\n",
      "<re.Match object; span=(97, 98), match=' '>\n",
      "<re.Match object; span=(98, 99), match='b'>\n",
      "<re.Match object; span=(99, 100), match='e'>\n",
      "<re.Match object; span=(100, 101), match=' '>\n",
      "<re.Match object; span=(101, 102), match='e'>\n",
      "<re.Match object; span=(102, 103), match='s'>\n",
      "<re.Match object; span=(103, 104), match='c'>\n",
      "<re.Match object; span=(104, 105), match='a'>\n",
      "<re.Match object; span=(105, 106), match='p'>\n",
      "<re.Match object; span=(106, 107), match='e'>\n",
      "<re.Match object; span=(107, 108), match='d'>\n",
      "<re.Match object; span=(108, 109), match=')'>\n",
      "<re.Match object; span=(109, 110), match=':'>\n",
      "<re.Match object; span=(111, 112), match='.'>\n",
      "<re.Match object; span=(112, 113), match=' '>\n",
      "<re.Match object; span=(113, 114), match='^'>\n",
      "<re.Match object; span=(114, 115), match=' '>\n",
      "<re.Match object; span=(115, 116), match='$'>\n",
      "<re.Match object; span=(116, 117), match=' '>\n",
      "<re.Match object; span=(117, 118), match='*'>\n",
      "<re.Match object; span=(118, 119), match=' '>\n",
      "<re.Match object; span=(119, 120), match='+'>\n",
      "<re.Match object; span=(120, 121), match=' '>\n",
      "<re.Match object; span=(121, 122), match='?'>\n",
      "<re.Match object; span=(122, 123), match=' '>\n",
      "<re.Match object; span=(123, 124), match='{'>\n",
      "<re.Match object; span=(124, 125), match=' '>\n",
      "<re.Match object; span=(125, 126), match='}'>\n",
      "<re.Match object; span=(126, 127), match=' '>\n",
      "<re.Match object; span=(127, 128), match='['>\n",
      "<re.Match object; span=(128, 129), match=' '>\n",
      "<re.Match object; span=(129, 130), match=']'>\n",
      "<re.Match object; span=(130, 131), match=' '>\n",
      "<re.Match object; span=(131, 132), match='\\\\'>\n",
      "<re.Match object; span=(132, 133), match=' '>\n",
      "<re.Match object; span=(133, 134), match='|'>\n",
      "<re.Match object; span=(134, 135), match=' '>\n",
      "<re.Match object; span=(135, 136), match='('>\n",
      "<re.Match object; span=(136, 137), match=' '>\n",
      "<re.Match object; span=(137, 138), match=')'>\n",
      "<re.Match object; span=(139, 140), match='c'>\n",
      "<re.Match object; span=(140, 141), match='o'>\n",
      "<re.Match object; span=(141, 142), match='r'>\n",
      "<re.Match object; span=(142, 143), match='e'>\n",
      "<re.Match object; span=(143, 144), match='y'>\n",
      "<re.Match object; span=(144, 145), match='m'>\n",
      "<re.Match object; span=(145, 146), match='s'>\n",
      "<re.Match object; span=(146, 147), match='.'>\n",
      "<re.Match object; span=(147, 148), match='c'>\n",
      "<re.Match object; span=(148, 149), match='o'>\n",
      "<re.Match object; span=(149, 150), match='m'>\n",
      "<re.Match object; span=(151, 152), match='3'>\n",
      "<re.Match object; span=(152, 153), match='2'>\n",
      "<re.Match object; span=(153, 154), match='1'>\n",
      "<re.Match object; span=(154, 155), match='-'>\n",
      "<re.Match object; span=(155, 156), match='5'>\n",
      "<re.Match object; span=(156, 157), match='5'>\n",
      "<re.Match object; span=(157, 158), match='5'>\n",
      "<re.Match object; span=(158, 159), match='-'>\n",
      "<re.Match object; span=(159, 160), match='4'>\n",
      "<re.Match object; span=(160, 161), match='3'>\n",
      "<re.Match object; span=(161, 162), match='2'>\n",
      "<re.Match object; span=(162, 163), match='1'>\n",
      "<re.Match object; span=(164, 165), match='1'>\n",
      "<re.Match object; span=(165, 166), match='2'>\n",
      "<re.Match object; span=(166, 167), match='3'>\n",
      "<re.Match object; span=(167, 168), match='.'>\n",
      "<re.Match object; span=(168, 169), match='5'>\n",
      "<re.Match object; span=(169, 170), match='5'>\n",
      "<re.Match object; span=(170, 171), match='5'>\n",
      "<re.Match object; span=(171, 172), match='.'>\n",
      "<re.Match object; span=(172, 173), match='1'>\n",
      "<re.Match object; span=(173, 174), match='2'>\n",
      "<re.Match object; span=(174, 175), match='3'>\n",
      "<re.Match object; span=(175, 176), match='4'>\n",
      "<re.Match object; span=(177, 178), match='1'>\n",
      "<re.Match object; span=(178, 179), match='2'>\n",
      "<re.Match object; span=(179, 180), match='3'>\n",
      "<re.Match object; span=(180, 181), match='*'>\n",
      "<re.Match object; span=(181, 182), match='5'>\n",
      "<re.Match object; span=(182, 183), match='5'>\n",
      "<re.Match object; span=(183, 184), match='5'>\n",
      "<re.Match object; span=(184, 185), match='*'>\n",
      "<re.Match object; span=(185, 186), match='1'>\n",
      "<re.Match object; span=(186, 187), match='2'>\n",
      "<re.Match object; span=(187, 188), match='3'>\n",
      "<re.Match object; span=(188, 189), match='4'>\n",
      "<re.Match object; span=(190, 191), match='8'>\n",
      "<re.Match object; span=(191, 192), match='0'>\n",
      "<re.Match object; span=(192, 193), match='0'>\n",
      "<re.Match object; span=(193, 194), match='-'>\n",
      "<re.Match object; span=(194, 195), match='5'>\n",
      "<re.Match object; span=(195, 196), match='5'>\n",
      "<re.Match object; span=(196, 197), match='5'>\n",
      "<re.Match object; span=(197, 198), match='-'>\n",
      "<re.Match object; span=(198, 199), match='1'>\n",
      "<re.Match object; span=(199, 200), match='2'>\n",
      "<re.Match object; span=(200, 201), match='3'>\n",
      "<re.Match object; span=(201, 202), match='4'>\n",
      "<re.Match object; span=(203, 204), match='9'>\n",
      "<re.Match object; span=(204, 205), match='0'>\n",
      "<re.Match object; span=(205, 206), match='0'>\n",
      "<re.Match object; span=(206, 207), match='-'>\n",
      "<re.Match object; span=(207, 208), match='5'>\n",
      "<re.Match object; span=(208, 209), match='5'>\n",
      "<re.Match object; span=(209, 210), match='5'>\n",
      "<re.Match object; span=(210, 211), match='-'>\n",
      "<re.Match object; span=(211, 212), match='1'>\n",
      "<re.Match object; span=(212, 213), match='2'>\n",
      "<re.Match object; span=(213, 214), match='3'>\n",
      "<re.Match object; span=(214, 215), match='4'>\n",
      "<re.Match object; span=(216, 217), match='M'>\n",
      "<re.Match object; span=(217, 218), match='r'>\n",
      "<re.Match object; span=(218, 219), match='.'>\n",
      "<re.Match object; span=(219, 220), match=' '>\n",
      "<re.Match object; span=(220, 221), match='S'>\n",
      "<re.Match object; span=(221, 222), match='c'>\n",
      "<re.Match object; span=(222, 223), match='h'>\n",
      "<re.Match object; span=(223, 224), match='a'>\n",
      "<re.Match object; span=(224, 225), match='f'>\n",
      "<re.Match object; span=(225, 226), match='e'>\n",
      "<re.Match object; span=(226, 227), match='r'>\n",
      "<re.Match object; span=(228, 229), match='M'>\n",
      "<re.Match object; span=(229, 230), match='r'>\n",
      "<re.Match object; span=(230, 231), match=' '>\n",
      "<re.Match object; span=(231, 232), match='S'>\n",
      "<re.Match object; span=(232, 233), match='m'>\n",
      "<re.Match object; span=(233, 234), match='i'>\n",
      "<re.Match object; span=(234, 235), match='t'>\n",
      "<re.Match object; span=(235, 236), match='h'>\n",
      "<re.Match object; span=(237, 238), match='M'>\n",
      "<re.Match object; span=(238, 239), match='s'>\n",
      "<re.Match object; span=(239, 240), match=' '>\n",
      "<re.Match object; span=(240, 241), match='D'>\n",
      "<re.Match object; span=(241, 242), match='a'>\n",
      "<re.Match object; span=(242, 243), match='v'>\n",
      "<re.Match object; span=(243, 244), match='i'>\n",
      "<re.Match object; span=(244, 245), match='s'>\n",
      "<re.Match object; span=(246, 247), match='M'>\n",
      "<re.Match object; span=(247, 248), match='r'>\n",
      "<re.Match object; span=(248, 249), match='s'>\n",
      "<re.Match object; span=(249, 250), match='.'>\n",
      "<re.Match object; span=(250, 251), match=' '>\n",
      "<re.Match object; span=(251, 252), match='R'>\n",
      "<re.Match object; span=(252, 253), match='o'>\n",
      "<re.Match object; span=(253, 254), match='b'>\n",
      "<re.Match object; span=(254, 255), match='i'>\n",
      "<re.Match object; span=(255, 256), match='n'>\n",
      "<re.Match object; span=(256, 257), match='s'>\n",
      "<re.Match object; span=(257, 258), match='o'>\n",
      "<re.Match object; span=(258, 259), match='n'>\n",
      "<re.Match object; span=(260, 261), match='M'>\n",
      "<re.Match object; span=(261, 262), match='r'>\n",
      "<re.Match object; span=(262, 263), match='.'>\n",
      "<re.Match object; span=(263, 264), match=' '>\n",
      "<re.Match object; span=(264, 265), match='T'>\n"
     ]
    }
   ],
   "source": [
    "pattern = re.compile(r'.')\n",
    "matches=pattern.finditer(text_to_search )\n",
    "\n",
    "for match in matches:\n",
    "    print(match)"
   ]
  },
  {
   "cell_type": "markdown",
   "metadata": {},
   "source": [
    "### what if i want to search out the actual `.` dot in the data then i need to put `\\` before it so it will be `\\.`"
   ]
  },
  {
   "cell_type": "markdown",
   "metadata": {},
   "source": [
    "- why we do that --> becuase the period (.) is used to indicate the end of a sentence."
   ]
  },
  {
   "cell_type": "code",
   "execution_count": 10,
   "metadata": {},
   "outputs": [
    {
     "name": "stdout",
     "output_type": "stream",
     "text": [
      "<re.Match object; span=(111, 112), match='.'>\n",
      "<re.Match object; span=(146, 147), match='.'>\n",
      "<re.Match object; span=(167, 168), match='.'>\n",
      "<re.Match object; span=(171, 172), match='.'>\n",
      "<re.Match object; span=(218, 219), match='.'>\n",
      "<re.Match object; span=(249, 250), match='.'>\n",
      "<re.Match object; span=(262, 263), match='.'>\n"
     ]
    }
   ],
   "source": [
    "pattern = re.compile(r'\\.')\n",
    "matches = pattern.finditer(text_to_search )\n",
    "\n",
    "for match in matches:\n",
    "    print(match)"
   ]
  },
  {
   "cell_type": "code",
   "execution_count": 11,
   "metadata": {},
   "outputs": [],
   "source": [
    "text_to_search ='Mohamed want to go to Canada. Mohamed likes sports. '"
   ]
  },
  {
   "cell_type": "code",
   "execution_count": 12,
   "metadata": {},
   "outputs": [
    {
     "name": "stdout",
     "output_type": "stream",
     "text": [
      "<re.Match object; span=(28, 29), match='.'>\n",
      "<re.Match object; span=(50, 51), match='.'>\n"
     ]
    }
   ],
   "source": [
    "pattern=re.compile(r'\\.')\n",
    "matches=pattern.finditer(text_to_search )\n",
    "\n",
    "for match in matches:\n",
    "    print(match)"
   ]
  },
  {
   "cell_type": "markdown",
   "metadata": {},
   "source": [
    "### if i want to search for a spesific url"
   ]
  },
  {
   "cell_type": "code",
   "execution_count": 37,
   "metadata": {},
   "outputs": [
    {
     "name": "stderr",
     "output_type": "stream",
     "text": [
      "<>:1: SyntaxWarning: invalid escape sequence '\\ '\n",
      "<>:1: SyntaxWarning: invalid escape sequence '\\ '\n",
      "C:\\Users\\Mohamed Yasser\\AppData\\Local\\Temp\\ipykernel_3276\\2936144428.py:1: SyntaxWarning: invalid escape sequence '\\ '\n",
      "  text_to_search = \"\"\"\n"
     ]
    }
   ],
   "source": [
    "text_to_search = \"\"\"\n",
    "abcdefghijklmnopqurtuvwxyz\n",
    "ABCDEFGHIJKLMNOPQRSTUVWXYZ\n",
    "1234567890\n",
    "Ha HaHa\n",
    "MetaCharacters (Need to be escaped):\n",
    ". ^ $ * + ? { } [ ] \\ | ( )\n",
    "coreyms#com\n",
    "coreyms.com\n",
    "coreymscom\n",
    "321-555-4321\n",
    "123.555.1234\n",
    "123*555*1234\n",
    "800-555-1234\n",
    "900-555-1234\n",
    "Mr. Schafer\n",
    "Mr Smith\n",
    "Ms Davis\n",
    "Mrs. Robinson\n",
    "Mr. T\n",
    "\"\"\""
   ]
  },
  {
   "cell_type": "code",
   "execution_count": 39,
   "metadata": {},
   "outputs": [
    {
     "name": "stdout",
     "output_type": "stream",
     "text": [
      "<re.Match object; span=(139, 150), match='coreyms#com'>\n",
      "<re.Match object; span=(151, 162), match='coreyms.com'>\n"
     ]
    }
   ],
   "source": [
    "pattern = re.compile(\"coreyms.com\")\n",
    "matches = pattern.finditer(text_to_search)\n",
    "for match in matches:\n",
    "    print(match)"
   ]
  },
  {
   "cell_type": "code",
   "execution_count": 22,
   "metadata": {},
   "outputs": [
    {
     "name": "stdout",
     "output_type": "stream",
     "text": [
      "<re.Match object; span=(151, 162), match='coreyms.com'>\n"
     ]
    }
   ],
   "source": [
    "pattern = re.compile(r'coreyms[.]com')\n",
    "matches = pattern.finditer(text_to_search)\n",
    "for match in matches:\n",
    "    print(match)"
   ]
  },
  {
   "cell_type": "code",
   "execution_count": 38,
   "metadata": {},
   "outputs": [
    {
     "name": "stdout",
     "output_type": "stream",
     "text": [
      "<re.Match object; span=(139, 150), match='coreyms#com'>\n",
      "<re.Match object; span=(151, 162), match='coreyms.com'>\n",
      "<re.Match object; span=(163, 173), match='coreymscom'>\n"
     ]
    }
   ],
   "source": [
    "pattern=re.compile(r'coreyms.?com')\n",
    "matches=pattern.finditer(text_to_search )\n",
    "\n",
    "for match in matches:\n",
    "    print(match)"
   ]
  },
  {
   "cell_type": "code",
   "execution_count": 40,
   "metadata": {},
   "outputs": [
    {
     "name": "stdout",
     "output_type": "stream",
     "text": [
      "<re.Match object; span=(151, 162), match='coreyms.com'>\n"
     ]
    }
   ],
   "source": [
    "pattern = re.compile(r'coreyms\\.com')\n",
    "matches=pattern.finditer(text_to_search )\n",
    "    \n",
    "for match in matches:\n",
    "    print(match)"
   ]
  },
  {
   "cell_type": "code",
   "execution_count": 41,
   "metadata": {},
   "outputs": [],
   "source": [
    "text_to_search='google.com Ahmed.com mohamed@gmail.com'"
   ]
  },
  {
   "cell_type": "code",
   "execution_count": 46,
   "metadata": {},
   "outputs": [
    {
     "name": "stdout",
     "output_type": "stream",
     "text": [
      "<re.Match object; span=(0, 10), match='google.com'>\n"
     ]
    }
   ],
   "source": [
    "pattern = re.compile(r\"google[.]com\")\n",
    "matches = pattern.finditer(text_to_search)\n",
    "\n",
    "for match in matches:\n",
    "    print(match)"
   ]
  },
  {
   "cell_type": "code",
   "execution_count": 47,
   "metadata": {},
   "outputs": [
    {
     "name": "stdout",
     "output_type": "stream",
     "text": [
      "<re.Match object; span=(6, 10), match='.com'>\n",
      "<re.Match object; span=(16, 20), match='.com'>\n",
      "<re.Match object; span=(34, 38), match='.com'>\n"
     ]
    }
   ],
   "source": [
    "pattern=re.compile(r'\\.com')\n",
    "matches=pattern.finditer(text_to_search )\n",
    "\n",
    "for match in matches:\n",
    "    print(match)"
   ]
  },
  {
   "cell_type": "markdown",
   "metadata": {},
   "source": [
    "## Get any thing not a digit"
   ]
  },
  {
   "cell_type": "code",
   "execution_count": 48,
   "metadata": {},
   "outputs": [
    {
     "name": "stderr",
     "output_type": "stream",
     "text": [
      "<>:1: SyntaxWarning: invalid escape sequence '\\ '\n",
      "<>:1: SyntaxWarning: invalid escape sequence '\\ '\n",
      "C:\\Users\\Mohamed Yasser\\AppData\\Local\\Temp\\ipykernel_3276\\3805605336.py:1: SyntaxWarning: invalid escape sequence '\\ '\n",
      "  text_to_search ='''\n"
     ]
    }
   ],
   "source": [
    "text_to_search ='''\n",
    "abcdefghijklmnopqurtuvwxyz\n",
    "ABCDEFGHIJKLMNOPQRSTUVWXYZ\n",
    "1234567890\n",
    "Ha HaHa\n",
    "MetaCharacters (Need to be escaped):\n",
    ". ^ $ * + ? { } [ ] \\ | ( )\n",
    "coreyms.com\n",
    "321-555-4321\n",
    "123.555.1234\n",
    "123*555*1234\n",
    "800-555-1234\n",
    "900-555-1234\n",
    "Mr. Schafer\n",
    "Mr Smith\n",
    "Ms Davis\n",
    "Mrs. Robinson\n",
    "Mr. T\n",
    "'''"
   ]
  },
  {
   "cell_type": "code",
   "execution_count": 49,
   "metadata": {},
   "outputs": [
    {
     "name": "stdout",
     "output_type": "stream",
     "text": [
      "<re.Match object; span=(0, 1), match='\\n'>\n",
      "<re.Match object; span=(1, 2), match='a'>\n",
      "<re.Match object; span=(2, 3), match='b'>\n",
      "<re.Match object; span=(3, 4), match='c'>\n",
      "<re.Match object; span=(4, 5), match='d'>\n",
      "<re.Match object; span=(5, 6), match='e'>\n",
      "<re.Match object; span=(6, 7), match='f'>\n",
      "<re.Match object; span=(7, 8), match='g'>\n",
      "<re.Match object; span=(8, 9), match='h'>\n",
      "<re.Match object; span=(9, 10), match='i'>\n",
      "<re.Match object; span=(10, 11), match='j'>\n",
      "<re.Match object; span=(11, 12), match='k'>\n",
      "<re.Match object; span=(12, 13), match='l'>\n",
      "<re.Match object; span=(13, 14), match='m'>\n",
      "<re.Match object; span=(14, 15), match='n'>\n",
      "<re.Match object; span=(15, 16), match='o'>\n",
      "<re.Match object; span=(16, 17), match='p'>\n",
      "<re.Match object; span=(17, 18), match='q'>\n",
      "<re.Match object; span=(18, 19), match='u'>\n",
      "<re.Match object; span=(19, 20), match='r'>\n",
      "<re.Match object; span=(20, 21), match='t'>\n",
      "<re.Match object; span=(21, 22), match='u'>\n",
      "<re.Match object; span=(22, 23), match='v'>\n",
      "<re.Match object; span=(23, 24), match='w'>\n",
      "<re.Match object; span=(24, 25), match='x'>\n",
      "<re.Match object; span=(25, 26), match='y'>\n",
      "<re.Match object; span=(26, 27), match='z'>\n",
      "<re.Match object; span=(27, 28), match='\\n'>\n",
      "<re.Match object; span=(28, 29), match='A'>\n",
      "<re.Match object; span=(29, 30), match='B'>\n",
      "<re.Match object; span=(30, 31), match='C'>\n",
      "<re.Match object; span=(31, 32), match='D'>\n",
      "<re.Match object; span=(32, 33), match='E'>\n",
      "<re.Match object; span=(33, 34), match='F'>\n",
      "<re.Match object; span=(34, 35), match='G'>\n",
      "<re.Match object; span=(35, 36), match='H'>\n",
      "<re.Match object; span=(36, 37), match='I'>\n",
      "<re.Match object; span=(37, 38), match='J'>\n",
      "<re.Match object; span=(38, 39), match='K'>\n",
      "<re.Match object; span=(39, 40), match='L'>\n",
      "<re.Match object; span=(40, 41), match='M'>\n",
      "<re.Match object; span=(41, 42), match='N'>\n",
      "<re.Match object; span=(42, 43), match='O'>\n",
      "<re.Match object; span=(43, 44), match='P'>\n",
      "<re.Match object; span=(44, 45), match='Q'>\n",
      "<re.Match object; span=(45, 46), match='R'>\n",
      "<re.Match object; span=(46, 47), match='S'>\n",
      "<re.Match object; span=(47, 48), match='T'>\n",
      "<re.Match object; span=(48, 49), match='U'>\n",
      "<re.Match object; span=(49, 50), match='V'>\n",
      "<re.Match object; span=(50, 51), match='W'>\n",
      "<re.Match object; span=(51, 52), match='X'>\n",
      "<re.Match object; span=(52, 53), match='Y'>\n",
      "<re.Match object; span=(53, 54), match='Z'>\n",
      "<re.Match object; span=(54, 55), match='\\n'>\n",
      "<re.Match object; span=(65, 66), match='\\n'>\n",
      "<re.Match object; span=(66, 67), match='H'>\n",
      "<re.Match object; span=(67, 68), match='a'>\n",
      "<re.Match object; span=(68, 69), match=' '>\n",
      "<re.Match object; span=(69, 70), match='H'>\n",
      "<re.Match object; span=(70, 71), match='a'>\n",
      "<re.Match object; span=(71, 72), match='H'>\n",
      "<re.Match object; span=(72, 73), match='a'>\n",
      "<re.Match object; span=(73, 74), match='\\n'>\n",
      "<re.Match object; span=(74, 75), match='M'>\n",
      "<re.Match object; span=(75, 76), match='e'>\n",
      "<re.Match object; span=(76, 77), match='t'>\n",
      "<re.Match object; span=(77, 78), match='a'>\n",
      "<re.Match object; span=(78, 79), match='C'>\n",
      "<re.Match object; span=(79, 80), match='h'>\n",
      "<re.Match object; span=(80, 81), match='a'>\n",
      "<re.Match object; span=(81, 82), match='r'>\n",
      "<re.Match object; span=(82, 83), match='a'>\n",
      "<re.Match object; span=(83, 84), match='c'>\n",
      "<re.Match object; span=(84, 85), match='t'>\n",
      "<re.Match object; span=(85, 86), match='e'>\n",
      "<re.Match object; span=(86, 87), match='r'>\n",
      "<re.Match object; span=(87, 88), match='s'>\n",
      "<re.Match object; span=(88, 89), match=' '>\n",
      "<re.Match object; span=(89, 90), match='('>\n",
      "<re.Match object; span=(90, 91), match='N'>\n",
      "<re.Match object; span=(91, 92), match='e'>\n",
      "<re.Match object; span=(92, 93), match='e'>\n",
      "<re.Match object; span=(93, 94), match='d'>\n",
      "<re.Match object; span=(94, 95), match=' '>\n",
      "<re.Match object; span=(95, 96), match='t'>\n",
      "<re.Match object; span=(96, 97), match='o'>\n",
      "<re.Match object; span=(97, 98), match=' '>\n",
      "<re.Match object; span=(98, 99), match='b'>\n",
      "<re.Match object; span=(99, 100), match='e'>\n",
      "<re.Match object; span=(100, 101), match=' '>\n",
      "<re.Match object; span=(101, 102), match='e'>\n",
      "<re.Match object; span=(102, 103), match='s'>\n",
      "<re.Match object; span=(103, 104), match='c'>\n",
      "<re.Match object; span=(104, 105), match='a'>\n",
      "<re.Match object; span=(105, 106), match='p'>\n",
      "<re.Match object; span=(106, 107), match='e'>\n",
      "<re.Match object; span=(107, 108), match='d'>\n",
      "<re.Match object; span=(108, 109), match=')'>\n",
      "<re.Match object; span=(109, 110), match=':'>\n",
      "<re.Match object; span=(110, 111), match='\\n'>\n",
      "<re.Match object; span=(111, 112), match='.'>\n",
      "<re.Match object; span=(112, 113), match=' '>\n",
      "<re.Match object; span=(113, 114), match='^'>\n",
      "<re.Match object; span=(114, 115), match=' '>\n",
      "<re.Match object; span=(115, 116), match='$'>\n",
      "<re.Match object; span=(116, 117), match=' '>\n",
      "<re.Match object; span=(117, 118), match='*'>\n",
      "<re.Match object; span=(118, 119), match=' '>\n",
      "<re.Match object; span=(119, 120), match='+'>\n",
      "<re.Match object; span=(120, 121), match=' '>\n",
      "<re.Match object; span=(121, 122), match='?'>\n",
      "<re.Match object; span=(122, 123), match=' '>\n",
      "<re.Match object; span=(123, 124), match='{'>\n",
      "<re.Match object; span=(124, 125), match=' '>\n",
      "<re.Match object; span=(125, 126), match='}'>\n",
      "<re.Match object; span=(126, 127), match=' '>\n",
      "<re.Match object; span=(127, 128), match='['>\n",
      "<re.Match object; span=(128, 129), match=' '>\n",
      "<re.Match object; span=(129, 130), match=']'>\n",
      "<re.Match object; span=(130, 131), match=' '>\n",
      "<re.Match object; span=(131, 132), match='\\\\'>\n",
      "<re.Match object; span=(132, 133), match=' '>\n",
      "<re.Match object; span=(133, 134), match='|'>\n",
      "<re.Match object; span=(134, 135), match=' '>\n",
      "<re.Match object; span=(135, 136), match='('>\n",
      "<re.Match object; span=(136, 137), match=' '>\n",
      "<re.Match object; span=(137, 138), match=')'>\n",
      "<re.Match object; span=(138, 139), match='\\n'>\n",
      "<re.Match object; span=(139, 140), match='c'>\n",
      "<re.Match object; span=(140, 141), match='o'>\n",
      "<re.Match object; span=(141, 142), match='r'>\n",
      "<re.Match object; span=(142, 143), match='e'>\n",
      "<re.Match object; span=(143, 144), match='y'>\n",
      "<re.Match object; span=(144, 145), match='m'>\n",
      "<re.Match object; span=(145, 146), match='s'>\n",
      "<re.Match object; span=(146, 147), match='.'>\n",
      "<re.Match object; span=(147, 148), match='c'>\n",
      "<re.Match object; span=(148, 149), match='o'>\n",
      "<re.Match object; span=(149, 150), match='m'>\n",
      "<re.Match object; span=(150, 151), match='\\n'>\n",
      "<re.Match object; span=(154, 155), match='-'>\n",
      "<re.Match object; span=(158, 159), match='-'>\n",
      "<re.Match object; span=(163, 164), match='\\n'>\n",
      "<re.Match object; span=(167, 168), match='.'>\n",
      "<re.Match object; span=(171, 172), match='.'>\n",
      "<re.Match object; span=(176, 177), match='\\n'>\n",
      "<re.Match object; span=(180, 181), match='*'>\n",
      "<re.Match object; span=(184, 185), match='*'>\n",
      "<re.Match object; span=(189, 190), match='\\n'>\n",
      "<re.Match object; span=(193, 194), match='-'>\n",
      "<re.Match object; span=(197, 198), match='-'>\n",
      "<re.Match object; span=(202, 203), match='\\n'>\n",
      "<re.Match object; span=(206, 207), match='-'>\n",
      "<re.Match object; span=(210, 211), match='-'>\n",
      "<re.Match object; span=(215, 216), match='\\n'>\n",
      "<re.Match object; span=(216, 217), match='M'>\n",
      "<re.Match object; span=(217, 218), match='r'>\n",
      "<re.Match object; span=(218, 219), match='.'>\n",
      "<re.Match object; span=(219, 220), match=' '>\n",
      "<re.Match object; span=(220, 221), match='S'>\n",
      "<re.Match object; span=(221, 222), match='c'>\n",
      "<re.Match object; span=(222, 223), match='h'>\n",
      "<re.Match object; span=(223, 224), match='a'>\n",
      "<re.Match object; span=(224, 225), match='f'>\n",
      "<re.Match object; span=(225, 226), match='e'>\n",
      "<re.Match object; span=(226, 227), match='r'>\n",
      "<re.Match object; span=(227, 228), match='\\n'>\n",
      "<re.Match object; span=(228, 229), match='M'>\n",
      "<re.Match object; span=(229, 230), match='r'>\n",
      "<re.Match object; span=(230, 231), match=' '>\n",
      "<re.Match object; span=(231, 232), match='S'>\n",
      "<re.Match object; span=(232, 233), match='m'>\n",
      "<re.Match object; span=(233, 234), match='i'>\n",
      "<re.Match object; span=(234, 235), match='t'>\n",
      "<re.Match object; span=(235, 236), match='h'>\n",
      "<re.Match object; span=(236, 237), match='\\n'>\n",
      "<re.Match object; span=(237, 238), match='M'>\n",
      "<re.Match object; span=(238, 239), match='s'>\n",
      "<re.Match object; span=(239, 240), match=' '>\n",
      "<re.Match object; span=(240, 241), match='D'>\n",
      "<re.Match object; span=(241, 242), match='a'>\n",
      "<re.Match object; span=(242, 243), match='v'>\n",
      "<re.Match object; span=(243, 244), match='i'>\n",
      "<re.Match object; span=(244, 245), match='s'>\n",
      "<re.Match object; span=(245, 246), match='\\n'>\n",
      "<re.Match object; span=(246, 247), match='M'>\n",
      "<re.Match object; span=(247, 248), match='r'>\n",
      "<re.Match object; span=(248, 249), match='s'>\n",
      "<re.Match object; span=(249, 250), match='.'>\n",
      "<re.Match object; span=(250, 251), match=' '>\n",
      "<re.Match object; span=(251, 252), match='R'>\n",
      "<re.Match object; span=(252, 253), match='o'>\n",
      "<re.Match object; span=(253, 254), match='b'>\n",
      "<re.Match object; span=(254, 255), match='i'>\n",
      "<re.Match object; span=(255, 256), match='n'>\n",
      "<re.Match object; span=(256, 257), match='s'>\n",
      "<re.Match object; span=(257, 258), match='o'>\n",
      "<re.Match object; span=(258, 259), match='n'>\n",
      "<re.Match object; span=(259, 260), match='\\n'>\n",
      "<re.Match object; span=(260, 261), match='M'>\n",
      "<re.Match object; span=(261, 262), match='r'>\n",
      "<re.Match object; span=(262, 263), match='.'>\n",
      "<re.Match object; span=(263, 264), match=' '>\n",
      "<re.Match object; span=(264, 265), match='T'>\n",
      "<re.Match object; span=(265, 266), match='\\n'>\n"
     ]
    },
    {
     "name": "stderr",
     "output_type": "stream",
     "text": [
      "<>:1: SyntaxWarning: invalid escape sequence '\\D'\n",
      "<>:1: SyntaxWarning: invalid escape sequence '\\D'\n",
      "C:\\Users\\Mohamed Yasser\\AppData\\Local\\Temp\\ipykernel_3276\\309525789.py:1: SyntaxWarning: invalid escape sequence '\\D'\n",
      "  pattern = re.compile('\\D')\n"
     ]
    }
   ],
   "source": [
    "pattern = re.compile('\\D')\n",
    "matches = pattern.finditer(text_to_search )\n",
    "\n",
    "for match in matches:\n",
    "    print(match)"
   ]
  },
  {
   "cell_type": "markdown",
   "metadata": {},
   "source": [
    "## Digit search  `\\d` --> **Digit (0-9)**"
   ]
  },
  {
   "cell_type": "code",
   "execution_count": 50,
   "metadata": {
    "scrolled": true
   },
   "outputs": [
    {
     "name": "stdout",
     "output_type": "stream",
     "text": [
      "<re.Match object; span=(55, 56), match='1'>\n",
      "<re.Match object; span=(56, 57), match='2'>\n",
      "<re.Match object; span=(57, 58), match='3'>\n",
      "<re.Match object; span=(58, 59), match='4'>\n",
      "<re.Match object; span=(59, 60), match='5'>\n",
      "<re.Match object; span=(60, 61), match='6'>\n",
      "<re.Match object; span=(61, 62), match='7'>\n",
      "<re.Match object; span=(62, 63), match='8'>\n",
      "<re.Match object; span=(63, 64), match='9'>\n",
      "<re.Match object; span=(64, 65), match='0'>\n",
      "<re.Match object; span=(151, 152), match='3'>\n",
      "<re.Match object; span=(152, 153), match='2'>\n",
      "<re.Match object; span=(153, 154), match='1'>\n",
      "<re.Match object; span=(155, 156), match='5'>\n",
      "<re.Match object; span=(156, 157), match='5'>\n",
      "<re.Match object; span=(157, 158), match='5'>\n",
      "<re.Match object; span=(159, 160), match='4'>\n",
      "<re.Match object; span=(160, 161), match='3'>\n",
      "<re.Match object; span=(161, 162), match='2'>\n",
      "<re.Match object; span=(162, 163), match='1'>\n",
      "<re.Match object; span=(164, 165), match='1'>\n",
      "<re.Match object; span=(165, 166), match='2'>\n",
      "<re.Match object; span=(166, 167), match='3'>\n",
      "<re.Match object; span=(168, 169), match='5'>\n",
      "<re.Match object; span=(169, 170), match='5'>\n",
      "<re.Match object; span=(170, 171), match='5'>\n",
      "<re.Match object; span=(172, 173), match='1'>\n",
      "<re.Match object; span=(173, 174), match='2'>\n",
      "<re.Match object; span=(174, 175), match='3'>\n",
      "<re.Match object; span=(175, 176), match='4'>\n",
      "<re.Match object; span=(177, 178), match='1'>\n",
      "<re.Match object; span=(178, 179), match='2'>\n",
      "<re.Match object; span=(179, 180), match='3'>\n",
      "<re.Match object; span=(181, 182), match='5'>\n",
      "<re.Match object; span=(182, 183), match='5'>\n",
      "<re.Match object; span=(183, 184), match='5'>\n",
      "<re.Match object; span=(185, 186), match='1'>\n",
      "<re.Match object; span=(186, 187), match='2'>\n",
      "<re.Match object; span=(187, 188), match='3'>\n",
      "<re.Match object; span=(188, 189), match='4'>\n",
      "<re.Match object; span=(190, 191), match='8'>\n",
      "<re.Match object; span=(191, 192), match='0'>\n",
      "<re.Match object; span=(192, 193), match='0'>\n",
      "<re.Match object; span=(194, 195), match='5'>\n",
      "<re.Match object; span=(195, 196), match='5'>\n",
      "<re.Match object; span=(196, 197), match='5'>\n",
      "<re.Match object; span=(198, 199), match='1'>\n",
      "<re.Match object; span=(199, 200), match='2'>\n",
      "<re.Match object; span=(200, 201), match='3'>\n",
      "<re.Match object; span=(201, 202), match='4'>\n",
      "<re.Match object; span=(203, 204), match='9'>\n",
      "<re.Match object; span=(204, 205), match='0'>\n",
      "<re.Match object; span=(205, 206), match='0'>\n",
      "<re.Match object; span=(207, 208), match='5'>\n",
      "<re.Match object; span=(208, 209), match='5'>\n",
      "<re.Match object; span=(209, 210), match='5'>\n",
      "<re.Match object; span=(211, 212), match='1'>\n",
      "<re.Match object; span=(212, 213), match='2'>\n",
      "<re.Match object; span=(213, 214), match='3'>\n",
      "<re.Match object; span=(214, 215), match='4'>\n"
     ]
    }
   ],
   "source": [
    "pattern = re.compile(r'\\d')\n",
    "matches = pattern.finditer(text_to_search )\n",
    "\n",
    "for match in matches:\n",
    "    print(match)"
   ]
  },
  {
   "cell_type": "markdown",
   "metadata": {},
   "source": [
    "## `\\w` --> **word character (a-z,A-Z, 0-9, _)**"
   ]
  },
  {
   "cell_type": "code",
   "execution_count": 312,
   "metadata": {},
   "outputs": [],
   "source": [
    "text_to_search ='''\n",
    "abcdefghijklmnopqurtuvwxyz\n",
    "ABCDEFGHIJKLMNOPQRSTUVWXYZ\n",
    "1234567890\n",
    "Ha HaHa\n",
    "MetaCharacters (Need to be escaped):\n",
    ". ^ $ * + ? { } [ ] \\ | ( )\n",
    "coreyms.com\n",
    "321-555-4321\n",
    "123.555.1234\n",
    "123*555*1234\n",
    "800-555-1234\n",
    "900-555-1234\n",
    "Mr. Schafer\n",
    "Mr Smith\n",
    "Ms Davis\n",
    "Mrs. Robinson\n",
    "Mr. T_\n",
    "Ha\tHaHa\n",
    "'''"
   ]
  },
  {
   "cell_type": "code",
   "execution_count": 307,
   "metadata": {
    "scrolled": true
   },
   "outputs": [
    {
     "name": "stdout",
     "output_type": "stream",
     "text": [
      "<_sre.SRE_Match object; span=(1, 2), match='a'>\n",
      "<_sre.SRE_Match object; span=(2, 3), match='b'>\n",
      "<_sre.SRE_Match object; span=(3, 4), match='c'>\n",
      "<_sre.SRE_Match object; span=(4, 5), match='d'>\n",
      "<_sre.SRE_Match object; span=(5, 6), match='e'>\n",
      "<_sre.SRE_Match object; span=(6, 7), match='f'>\n",
      "<_sre.SRE_Match object; span=(7, 8), match='g'>\n",
      "<_sre.SRE_Match object; span=(8, 9), match='h'>\n",
      "<_sre.SRE_Match object; span=(9, 10), match='i'>\n",
      "<_sre.SRE_Match object; span=(10, 11), match='j'>\n",
      "<_sre.SRE_Match object; span=(11, 12), match='k'>\n",
      "<_sre.SRE_Match object; span=(12, 13), match='l'>\n",
      "<_sre.SRE_Match object; span=(13, 14), match='m'>\n",
      "<_sre.SRE_Match object; span=(14, 15), match='n'>\n",
      "<_sre.SRE_Match object; span=(15, 16), match='o'>\n",
      "<_sre.SRE_Match object; span=(16, 17), match='p'>\n",
      "<_sre.SRE_Match object; span=(17, 18), match='q'>\n",
      "<_sre.SRE_Match object; span=(18, 19), match='u'>\n",
      "<_sre.SRE_Match object; span=(19, 20), match='r'>\n",
      "<_sre.SRE_Match object; span=(20, 21), match='t'>\n",
      "<_sre.SRE_Match object; span=(21, 22), match='u'>\n",
      "<_sre.SRE_Match object; span=(22, 23), match='v'>\n",
      "<_sre.SRE_Match object; span=(23, 24), match='w'>\n",
      "<_sre.SRE_Match object; span=(24, 25), match='x'>\n",
      "<_sre.SRE_Match object; span=(25, 26), match='y'>\n",
      "<_sre.SRE_Match object; span=(26, 27), match='z'>\n",
      "<_sre.SRE_Match object; span=(28, 29), match='A'>\n",
      "<_sre.SRE_Match object; span=(29, 30), match='B'>\n",
      "<_sre.SRE_Match object; span=(30, 31), match='C'>\n",
      "<_sre.SRE_Match object; span=(31, 32), match='D'>\n",
      "<_sre.SRE_Match object; span=(32, 33), match='E'>\n",
      "<_sre.SRE_Match object; span=(33, 34), match='F'>\n",
      "<_sre.SRE_Match object; span=(34, 35), match='G'>\n",
      "<_sre.SRE_Match object; span=(35, 36), match='H'>\n",
      "<_sre.SRE_Match object; span=(36, 37), match='I'>\n",
      "<_sre.SRE_Match object; span=(37, 38), match='J'>\n",
      "<_sre.SRE_Match object; span=(38, 39), match='K'>\n",
      "<_sre.SRE_Match object; span=(39, 40), match='L'>\n",
      "<_sre.SRE_Match object; span=(40, 41), match='M'>\n",
      "<_sre.SRE_Match object; span=(41, 42), match='N'>\n",
      "<_sre.SRE_Match object; span=(42, 43), match='O'>\n",
      "<_sre.SRE_Match object; span=(43, 44), match='P'>\n",
      "<_sre.SRE_Match object; span=(44, 45), match='Q'>\n",
      "<_sre.SRE_Match object; span=(45, 46), match='R'>\n",
      "<_sre.SRE_Match object; span=(46, 47), match='S'>\n",
      "<_sre.SRE_Match object; span=(47, 48), match='T'>\n",
      "<_sre.SRE_Match object; span=(48, 49), match='U'>\n",
      "<_sre.SRE_Match object; span=(49, 50), match='V'>\n",
      "<_sre.SRE_Match object; span=(50, 51), match='W'>\n",
      "<_sre.SRE_Match object; span=(51, 52), match='X'>\n",
      "<_sre.SRE_Match object; span=(52, 53), match='Y'>\n",
      "<_sre.SRE_Match object; span=(53, 54), match='Z'>\n",
      "<_sre.SRE_Match object; span=(55, 56), match='1'>\n",
      "<_sre.SRE_Match object; span=(56, 57), match='2'>\n",
      "<_sre.SRE_Match object; span=(57, 58), match='3'>\n",
      "<_sre.SRE_Match object; span=(58, 59), match='4'>\n",
      "<_sre.SRE_Match object; span=(59, 60), match='5'>\n",
      "<_sre.SRE_Match object; span=(60, 61), match='6'>\n",
      "<_sre.SRE_Match object; span=(61, 62), match='7'>\n",
      "<_sre.SRE_Match object; span=(62, 63), match='8'>\n",
      "<_sre.SRE_Match object; span=(63, 64), match='9'>\n",
      "<_sre.SRE_Match object; span=(64, 65), match='0'>\n",
      "<_sre.SRE_Match object; span=(66, 67), match='H'>\n",
      "<_sre.SRE_Match object; span=(67, 68), match='a'>\n",
      "<_sre.SRE_Match object; span=(69, 70), match='H'>\n",
      "<_sre.SRE_Match object; span=(70, 71), match='a'>\n",
      "<_sre.SRE_Match object; span=(71, 72), match='H'>\n",
      "<_sre.SRE_Match object; span=(72, 73), match='a'>\n",
      "<_sre.SRE_Match object; span=(74, 75), match='M'>\n",
      "<_sre.SRE_Match object; span=(75, 76), match='e'>\n",
      "<_sre.SRE_Match object; span=(76, 77), match='t'>\n",
      "<_sre.SRE_Match object; span=(77, 78), match='a'>\n",
      "<_sre.SRE_Match object; span=(78, 79), match='C'>\n",
      "<_sre.SRE_Match object; span=(79, 80), match='h'>\n",
      "<_sre.SRE_Match object; span=(80, 81), match='a'>\n",
      "<_sre.SRE_Match object; span=(81, 82), match='r'>\n",
      "<_sre.SRE_Match object; span=(82, 83), match='a'>\n",
      "<_sre.SRE_Match object; span=(83, 84), match='c'>\n",
      "<_sre.SRE_Match object; span=(84, 85), match='t'>\n",
      "<_sre.SRE_Match object; span=(85, 86), match='e'>\n",
      "<_sre.SRE_Match object; span=(86, 87), match='r'>\n",
      "<_sre.SRE_Match object; span=(87, 88), match='s'>\n",
      "<_sre.SRE_Match object; span=(90, 91), match='N'>\n",
      "<_sre.SRE_Match object; span=(91, 92), match='e'>\n",
      "<_sre.SRE_Match object; span=(92, 93), match='e'>\n",
      "<_sre.SRE_Match object; span=(93, 94), match='d'>\n",
      "<_sre.SRE_Match object; span=(95, 96), match='t'>\n",
      "<_sre.SRE_Match object; span=(96, 97), match='o'>\n",
      "<_sre.SRE_Match object; span=(98, 99), match='b'>\n",
      "<_sre.SRE_Match object; span=(99, 100), match='e'>\n",
      "<_sre.SRE_Match object; span=(101, 102), match='e'>\n",
      "<_sre.SRE_Match object; span=(102, 103), match='s'>\n",
      "<_sre.SRE_Match object; span=(103, 104), match='c'>\n",
      "<_sre.SRE_Match object; span=(104, 105), match='a'>\n",
      "<_sre.SRE_Match object; span=(105, 106), match='p'>\n",
      "<_sre.SRE_Match object; span=(106, 107), match='e'>\n",
      "<_sre.SRE_Match object; span=(107, 108), match='d'>\n",
      "<_sre.SRE_Match object; span=(139, 140), match='c'>\n",
      "<_sre.SRE_Match object; span=(140, 141), match='o'>\n",
      "<_sre.SRE_Match object; span=(141, 142), match='r'>\n",
      "<_sre.SRE_Match object; span=(142, 143), match='e'>\n",
      "<_sre.SRE_Match object; span=(143, 144), match='y'>\n",
      "<_sre.SRE_Match object; span=(144, 145), match='m'>\n",
      "<_sre.SRE_Match object; span=(145, 146), match='s'>\n",
      "<_sre.SRE_Match object; span=(147, 148), match='c'>\n",
      "<_sre.SRE_Match object; span=(148, 149), match='o'>\n",
      "<_sre.SRE_Match object; span=(149, 150), match='m'>\n",
      "<_sre.SRE_Match object; span=(151, 152), match='3'>\n",
      "<_sre.SRE_Match object; span=(152, 153), match='2'>\n",
      "<_sre.SRE_Match object; span=(153, 154), match='1'>\n",
      "<_sre.SRE_Match object; span=(155, 156), match='5'>\n",
      "<_sre.SRE_Match object; span=(156, 157), match='5'>\n",
      "<_sre.SRE_Match object; span=(157, 158), match='5'>\n",
      "<_sre.SRE_Match object; span=(159, 160), match='4'>\n",
      "<_sre.SRE_Match object; span=(160, 161), match='3'>\n",
      "<_sre.SRE_Match object; span=(161, 162), match='2'>\n",
      "<_sre.SRE_Match object; span=(162, 163), match='1'>\n",
      "<_sre.SRE_Match object; span=(164, 165), match='1'>\n",
      "<_sre.SRE_Match object; span=(165, 166), match='2'>\n",
      "<_sre.SRE_Match object; span=(166, 167), match='3'>\n",
      "<_sre.SRE_Match object; span=(168, 169), match='5'>\n",
      "<_sre.SRE_Match object; span=(169, 170), match='5'>\n",
      "<_sre.SRE_Match object; span=(170, 171), match='5'>\n",
      "<_sre.SRE_Match object; span=(172, 173), match='1'>\n",
      "<_sre.SRE_Match object; span=(173, 174), match='2'>\n",
      "<_sre.SRE_Match object; span=(174, 175), match='3'>\n",
      "<_sre.SRE_Match object; span=(175, 176), match='4'>\n",
      "<_sre.SRE_Match object; span=(177, 178), match='1'>\n",
      "<_sre.SRE_Match object; span=(178, 179), match='2'>\n",
      "<_sre.SRE_Match object; span=(179, 180), match='3'>\n",
      "<_sre.SRE_Match object; span=(181, 182), match='5'>\n",
      "<_sre.SRE_Match object; span=(182, 183), match='5'>\n",
      "<_sre.SRE_Match object; span=(183, 184), match='5'>\n",
      "<_sre.SRE_Match object; span=(185, 186), match='1'>\n",
      "<_sre.SRE_Match object; span=(186, 187), match='2'>\n",
      "<_sre.SRE_Match object; span=(187, 188), match='3'>\n",
      "<_sre.SRE_Match object; span=(188, 189), match='4'>\n",
      "<_sre.SRE_Match object; span=(190, 191), match='8'>\n",
      "<_sre.SRE_Match object; span=(191, 192), match='0'>\n",
      "<_sre.SRE_Match object; span=(192, 193), match='0'>\n",
      "<_sre.SRE_Match object; span=(194, 195), match='5'>\n",
      "<_sre.SRE_Match object; span=(195, 196), match='5'>\n",
      "<_sre.SRE_Match object; span=(196, 197), match='5'>\n",
      "<_sre.SRE_Match object; span=(198, 199), match='1'>\n",
      "<_sre.SRE_Match object; span=(199, 200), match='2'>\n",
      "<_sre.SRE_Match object; span=(200, 201), match='3'>\n",
      "<_sre.SRE_Match object; span=(201, 202), match='4'>\n",
      "<_sre.SRE_Match object; span=(203, 204), match='9'>\n",
      "<_sre.SRE_Match object; span=(204, 205), match='0'>\n",
      "<_sre.SRE_Match object; span=(205, 206), match='0'>\n",
      "<_sre.SRE_Match object; span=(207, 208), match='5'>\n",
      "<_sre.SRE_Match object; span=(208, 209), match='5'>\n",
      "<_sre.SRE_Match object; span=(209, 210), match='5'>\n",
      "<_sre.SRE_Match object; span=(211, 212), match='1'>\n",
      "<_sre.SRE_Match object; span=(212, 213), match='2'>\n",
      "<_sre.SRE_Match object; span=(213, 214), match='3'>\n",
      "<_sre.SRE_Match object; span=(214, 215), match='4'>\n",
      "<_sre.SRE_Match object; span=(216, 217), match='M'>\n",
      "<_sre.SRE_Match object; span=(217, 218), match='r'>\n",
      "<_sre.SRE_Match object; span=(220, 221), match='S'>\n",
      "<_sre.SRE_Match object; span=(221, 222), match='c'>\n",
      "<_sre.SRE_Match object; span=(222, 223), match='h'>\n",
      "<_sre.SRE_Match object; span=(223, 224), match='a'>\n",
      "<_sre.SRE_Match object; span=(224, 225), match='f'>\n",
      "<_sre.SRE_Match object; span=(225, 226), match='e'>\n",
      "<_sre.SRE_Match object; span=(226, 227), match='r'>\n",
      "<_sre.SRE_Match object; span=(228, 229), match='M'>\n",
      "<_sre.SRE_Match object; span=(229, 230), match='r'>\n",
      "<_sre.SRE_Match object; span=(231, 232), match='S'>\n",
      "<_sre.SRE_Match object; span=(232, 233), match='m'>\n",
      "<_sre.SRE_Match object; span=(233, 234), match='i'>\n",
      "<_sre.SRE_Match object; span=(234, 235), match='t'>\n",
      "<_sre.SRE_Match object; span=(235, 236), match='h'>\n",
      "<_sre.SRE_Match object; span=(237, 238), match='M'>\n",
      "<_sre.SRE_Match object; span=(238, 239), match='s'>\n",
      "<_sre.SRE_Match object; span=(240, 241), match='D'>\n",
      "<_sre.SRE_Match object; span=(241, 242), match='a'>\n",
      "<_sre.SRE_Match object; span=(242, 243), match='v'>\n",
      "<_sre.SRE_Match object; span=(243, 244), match='i'>\n",
      "<_sre.SRE_Match object; span=(244, 245), match='s'>\n",
      "<_sre.SRE_Match object; span=(246, 247), match='M'>\n",
      "<_sre.SRE_Match object; span=(247, 248), match='r'>\n",
      "<_sre.SRE_Match object; span=(248, 249), match='s'>\n",
      "<_sre.SRE_Match object; span=(251, 252), match='R'>\n",
      "<_sre.SRE_Match object; span=(252, 253), match='o'>\n",
      "<_sre.SRE_Match object; span=(253, 254), match='b'>\n",
      "<_sre.SRE_Match object; span=(254, 255), match='i'>\n",
      "<_sre.SRE_Match object; span=(255, 256), match='n'>\n",
      "<_sre.SRE_Match object; span=(256, 257), match='s'>\n",
      "<_sre.SRE_Match object; span=(257, 258), match='o'>\n",
      "<_sre.SRE_Match object; span=(258, 259), match='n'>\n",
      "<_sre.SRE_Match object; span=(260, 261), match='M'>\n",
      "<_sre.SRE_Match object; span=(261, 262), match='r'>\n",
      "<_sre.SRE_Match object; span=(264, 265), match='T'>\n",
      "<_sre.SRE_Match object; span=(265, 266), match='_'>\n",
      "<_sre.SRE_Match object; span=(267, 268), match='H'>\n",
      "<_sre.SRE_Match object; span=(268, 269), match='a'>\n",
      "<_sre.SRE_Match object; span=(273, 274), match='H'>\n",
      "<_sre.SRE_Match object; span=(274, 275), match='a'>\n"
     ]
    }
   ],
   "source": [
    "pattern=re.compile(r'\\w')\n",
    "matches=pattern.finditer(text_to_search )\n",
    "\n",
    "for match in matches:\n",
    "    print(match)"
   ]
  },
  {
   "cell_type": "markdown",
   "metadata": {},
   "source": [
    "## `\\W` --> **Not a word character **"
   ]
  },
  {
   "cell_type": "code",
   "execution_count": 308,
   "metadata": {
    "scrolled": true
   },
   "outputs": [
    {
     "name": "stdout",
     "output_type": "stream",
     "text": [
      "<_sre.SRE_Match object; span=(0, 1), match='\\n'>\n",
      "<_sre.SRE_Match object; span=(27, 28), match='\\n'>\n",
      "<_sre.SRE_Match object; span=(54, 55), match='\\n'>\n",
      "<_sre.SRE_Match object; span=(65, 66), match='\\n'>\n",
      "<_sre.SRE_Match object; span=(68, 69), match=' '>\n",
      "<_sre.SRE_Match object; span=(73, 74), match='\\n'>\n",
      "<_sre.SRE_Match object; span=(88, 89), match=' '>\n",
      "<_sre.SRE_Match object; span=(89, 90), match='('>\n",
      "<_sre.SRE_Match object; span=(94, 95), match=' '>\n",
      "<_sre.SRE_Match object; span=(97, 98), match=' '>\n",
      "<_sre.SRE_Match object; span=(100, 101), match=' '>\n",
      "<_sre.SRE_Match object; span=(108, 109), match=')'>\n",
      "<_sre.SRE_Match object; span=(109, 110), match=':'>\n",
      "<_sre.SRE_Match object; span=(110, 111), match='\\n'>\n",
      "<_sre.SRE_Match object; span=(111, 112), match='.'>\n",
      "<_sre.SRE_Match object; span=(112, 113), match=' '>\n",
      "<_sre.SRE_Match object; span=(113, 114), match='^'>\n",
      "<_sre.SRE_Match object; span=(114, 115), match=' '>\n",
      "<_sre.SRE_Match object; span=(115, 116), match='$'>\n",
      "<_sre.SRE_Match object; span=(116, 117), match=' '>\n",
      "<_sre.SRE_Match object; span=(117, 118), match='*'>\n",
      "<_sre.SRE_Match object; span=(118, 119), match=' '>\n",
      "<_sre.SRE_Match object; span=(119, 120), match='+'>\n",
      "<_sre.SRE_Match object; span=(120, 121), match=' '>\n",
      "<_sre.SRE_Match object; span=(121, 122), match='?'>\n",
      "<_sre.SRE_Match object; span=(122, 123), match=' '>\n",
      "<_sre.SRE_Match object; span=(123, 124), match='{'>\n",
      "<_sre.SRE_Match object; span=(124, 125), match=' '>\n",
      "<_sre.SRE_Match object; span=(125, 126), match='}'>\n",
      "<_sre.SRE_Match object; span=(126, 127), match=' '>\n",
      "<_sre.SRE_Match object; span=(127, 128), match='['>\n",
      "<_sre.SRE_Match object; span=(128, 129), match=' '>\n",
      "<_sre.SRE_Match object; span=(129, 130), match=']'>\n",
      "<_sre.SRE_Match object; span=(130, 131), match=' '>\n",
      "<_sre.SRE_Match object; span=(131, 132), match='\\\\'>\n",
      "<_sre.SRE_Match object; span=(132, 133), match=' '>\n",
      "<_sre.SRE_Match object; span=(133, 134), match='|'>\n",
      "<_sre.SRE_Match object; span=(134, 135), match=' '>\n",
      "<_sre.SRE_Match object; span=(135, 136), match='('>\n",
      "<_sre.SRE_Match object; span=(136, 137), match=' '>\n",
      "<_sre.SRE_Match object; span=(137, 138), match=')'>\n",
      "<_sre.SRE_Match object; span=(138, 139), match='\\n'>\n",
      "<_sre.SRE_Match object; span=(146, 147), match='.'>\n",
      "<_sre.SRE_Match object; span=(150, 151), match='\\n'>\n",
      "<_sre.SRE_Match object; span=(154, 155), match='-'>\n",
      "<_sre.SRE_Match object; span=(158, 159), match='-'>\n",
      "<_sre.SRE_Match object; span=(163, 164), match='\\n'>\n",
      "<_sre.SRE_Match object; span=(167, 168), match='.'>\n",
      "<_sre.SRE_Match object; span=(171, 172), match='.'>\n",
      "<_sre.SRE_Match object; span=(176, 177), match='\\n'>\n",
      "<_sre.SRE_Match object; span=(180, 181), match='*'>\n",
      "<_sre.SRE_Match object; span=(184, 185), match='*'>\n",
      "<_sre.SRE_Match object; span=(189, 190), match='\\n'>\n",
      "<_sre.SRE_Match object; span=(193, 194), match='-'>\n",
      "<_sre.SRE_Match object; span=(197, 198), match='-'>\n",
      "<_sre.SRE_Match object; span=(202, 203), match='\\n'>\n",
      "<_sre.SRE_Match object; span=(206, 207), match='-'>\n",
      "<_sre.SRE_Match object; span=(210, 211), match='-'>\n",
      "<_sre.SRE_Match object; span=(215, 216), match='\\n'>\n",
      "<_sre.SRE_Match object; span=(218, 219), match='.'>\n",
      "<_sre.SRE_Match object; span=(219, 220), match=' '>\n",
      "<_sre.SRE_Match object; span=(227, 228), match='\\n'>\n",
      "<_sre.SRE_Match object; span=(230, 231), match=' '>\n",
      "<_sre.SRE_Match object; span=(236, 237), match='\\n'>\n",
      "<_sre.SRE_Match object; span=(239, 240), match=' '>\n",
      "<_sre.SRE_Match object; span=(245, 246), match='\\n'>\n",
      "<_sre.SRE_Match object; span=(249, 250), match='.'>\n",
      "<_sre.SRE_Match object; span=(250, 251), match=' '>\n",
      "<_sre.SRE_Match object; span=(259, 260), match='\\n'>\n",
      "<_sre.SRE_Match object; span=(262, 263), match='.'>\n",
      "<_sre.SRE_Match object; span=(263, 264), match=' '>\n",
      "<_sre.SRE_Match object; span=(266, 267), match='\\n'>\n",
      "<_sre.SRE_Match object; span=(269, 270), match=' '>\n",
      "<_sre.SRE_Match object; span=(270, 271), match=' '>\n",
      "<_sre.SRE_Match object; span=(271, 272), match=' '>\n",
      "<_sre.SRE_Match object; span=(272, 273), match=' '>\n",
      "<_sre.SRE_Match object; span=(275, 276), match='\\n'>\n"
     ]
    }
   ],
   "source": [
    "pattern=re.compile(r'\\W')\n",
    "matches=pattern.finditer(text_to_search )\n",
    "\n",
    "for match in matches:\n",
    "    print(match)"
   ]
  },
  {
   "cell_type": "markdown",
   "metadata": {},
   "source": [
    "## `\\s` --> **Whitespace (space, tab, newline)**"
   ]
  },
  {
   "cell_type": "code",
   "execution_count": 314,
   "metadata": {
    "scrolled": true
   },
   "outputs": [
    {
     "name": "stdout",
     "output_type": "stream",
     "text": [
      "<_sre.SRE_Match object; span=(0, 1), match='\\n'>\n",
      "<_sre.SRE_Match object; span=(27, 28), match='\\n'>\n",
      "<_sre.SRE_Match object; span=(54, 55), match='\\n'>\n",
      "<_sre.SRE_Match object; span=(65, 66), match='\\n'>\n",
      "<_sre.SRE_Match object; span=(68, 69), match=' '>\n",
      "<_sre.SRE_Match object; span=(73, 74), match='\\n'>\n",
      "<_sre.SRE_Match object; span=(88, 89), match=' '>\n",
      "<_sre.SRE_Match object; span=(94, 95), match=' '>\n",
      "<_sre.SRE_Match object; span=(97, 98), match=' '>\n",
      "<_sre.SRE_Match object; span=(100, 101), match=' '>\n",
      "<_sre.SRE_Match object; span=(110, 111), match='\\n'>\n",
      "<_sre.SRE_Match object; span=(112, 113), match=' '>\n",
      "<_sre.SRE_Match object; span=(114, 115), match=' '>\n",
      "<_sre.SRE_Match object; span=(116, 117), match=' '>\n",
      "<_sre.SRE_Match object; span=(118, 119), match=' '>\n",
      "<_sre.SRE_Match object; span=(120, 121), match=' '>\n",
      "<_sre.SRE_Match object; span=(122, 123), match=' '>\n",
      "<_sre.SRE_Match object; span=(124, 125), match=' '>\n",
      "<_sre.SRE_Match object; span=(126, 127), match=' '>\n",
      "<_sre.SRE_Match object; span=(128, 129), match=' '>\n",
      "<_sre.SRE_Match object; span=(130, 131), match=' '>\n",
      "<_sre.SRE_Match object; span=(132, 133), match=' '>\n",
      "<_sre.SRE_Match object; span=(134, 135), match=' '>\n",
      "<_sre.SRE_Match object; span=(136, 137), match=' '>\n",
      "<_sre.SRE_Match object; span=(138, 139), match='\\n'>\n",
      "<_sre.SRE_Match object; span=(150, 151), match='\\n'>\n",
      "<_sre.SRE_Match object; span=(163, 164), match='\\n'>\n",
      "<_sre.SRE_Match object; span=(176, 177), match='\\n'>\n",
      "<_sre.SRE_Match object; span=(189, 190), match='\\n'>\n",
      "<_sre.SRE_Match object; span=(202, 203), match='\\n'>\n",
      "<_sre.SRE_Match object; span=(215, 216), match='\\n'>\n",
      "<_sre.SRE_Match object; span=(219, 220), match=' '>\n",
      "<_sre.SRE_Match object; span=(227, 228), match='\\n'>\n",
      "<_sre.SRE_Match object; span=(230, 231), match=' '>\n",
      "<_sre.SRE_Match object; span=(236, 237), match='\\n'>\n",
      "<_sre.SRE_Match object; span=(239, 240), match=' '>\n",
      "<_sre.SRE_Match object; span=(245, 246), match='\\n'>\n",
      "<_sre.SRE_Match object; span=(250, 251), match=' '>\n",
      "<_sre.SRE_Match object; span=(259, 260), match='\\n'>\n",
      "<_sre.SRE_Match object; span=(263, 264), match=' '>\n",
      "<_sre.SRE_Match object; span=(266, 267), match='\\n'>\n",
      "<_sre.SRE_Match object; span=(269, 270), match='\\t'>\n",
      "<_sre.SRE_Match object; span=(274, 275), match='\\n'>\n"
     ]
    }
   ],
   "source": [
    "pattern=re.compile(r'\\s')\n",
    "matches=pattern.finditer(text_to_search )\n",
    "\n",
    "for match in matches:\n",
    "    print(match)"
   ]
  },
  {
   "cell_type": "markdown",
   "metadata": {},
   "source": [
    "## `\\S` --> **Not Whitespace (space, tab, newline)**"
   ]
  },
  {
   "cell_type": "code",
   "execution_count": 310,
   "metadata": {
    "scrolled": true
   },
   "outputs": [
    {
     "name": "stdout",
     "output_type": "stream",
     "text": [
      "<_sre.SRE_Match object; span=(1, 2), match='a'>\n",
      "<_sre.SRE_Match object; span=(2, 3), match='b'>\n",
      "<_sre.SRE_Match object; span=(3, 4), match='c'>\n",
      "<_sre.SRE_Match object; span=(4, 5), match='d'>\n",
      "<_sre.SRE_Match object; span=(5, 6), match='e'>\n",
      "<_sre.SRE_Match object; span=(6, 7), match='f'>\n",
      "<_sre.SRE_Match object; span=(7, 8), match='g'>\n",
      "<_sre.SRE_Match object; span=(8, 9), match='h'>\n",
      "<_sre.SRE_Match object; span=(9, 10), match='i'>\n",
      "<_sre.SRE_Match object; span=(10, 11), match='j'>\n",
      "<_sre.SRE_Match object; span=(11, 12), match='k'>\n",
      "<_sre.SRE_Match object; span=(12, 13), match='l'>\n",
      "<_sre.SRE_Match object; span=(13, 14), match='m'>\n",
      "<_sre.SRE_Match object; span=(14, 15), match='n'>\n",
      "<_sre.SRE_Match object; span=(15, 16), match='o'>\n",
      "<_sre.SRE_Match object; span=(16, 17), match='p'>\n",
      "<_sre.SRE_Match object; span=(17, 18), match='q'>\n",
      "<_sre.SRE_Match object; span=(18, 19), match='u'>\n",
      "<_sre.SRE_Match object; span=(19, 20), match='r'>\n",
      "<_sre.SRE_Match object; span=(20, 21), match='t'>\n",
      "<_sre.SRE_Match object; span=(21, 22), match='u'>\n",
      "<_sre.SRE_Match object; span=(22, 23), match='v'>\n",
      "<_sre.SRE_Match object; span=(23, 24), match='w'>\n",
      "<_sre.SRE_Match object; span=(24, 25), match='x'>\n",
      "<_sre.SRE_Match object; span=(25, 26), match='y'>\n",
      "<_sre.SRE_Match object; span=(26, 27), match='z'>\n",
      "<_sre.SRE_Match object; span=(28, 29), match='A'>\n",
      "<_sre.SRE_Match object; span=(29, 30), match='B'>\n",
      "<_sre.SRE_Match object; span=(30, 31), match='C'>\n",
      "<_sre.SRE_Match object; span=(31, 32), match='D'>\n",
      "<_sre.SRE_Match object; span=(32, 33), match='E'>\n",
      "<_sre.SRE_Match object; span=(33, 34), match='F'>\n",
      "<_sre.SRE_Match object; span=(34, 35), match='G'>\n",
      "<_sre.SRE_Match object; span=(35, 36), match='H'>\n",
      "<_sre.SRE_Match object; span=(36, 37), match='I'>\n",
      "<_sre.SRE_Match object; span=(37, 38), match='J'>\n",
      "<_sre.SRE_Match object; span=(38, 39), match='K'>\n",
      "<_sre.SRE_Match object; span=(39, 40), match='L'>\n",
      "<_sre.SRE_Match object; span=(40, 41), match='M'>\n",
      "<_sre.SRE_Match object; span=(41, 42), match='N'>\n",
      "<_sre.SRE_Match object; span=(42, 43), match='O'>\n",
      "<_sre.SRE_Match object; span=(43, 44), match='P'>\n",
      "<_sre.SRE_Match object; span=(44, 45), match='Q'>\n",
      "<_sre.SRE_Match object; span=(45, 46), match='R'>\n",
      "<_sre.SRE_Match object; span=(46, 47), match='S'>\n",
      "<_sre.SRE_Match object; span=(47, 48), match='T'>\n",
      "<_sre.SRE_Match object; span=(48, 49), match='U'>\n",
      "<_sre.SRE_Match object; span=(49, 50), match='V'>\n",
      "<_sre.SRE_Match object; span=(50, 51), match='W'>\n",
      "<_sre.SRE_Match object; span=(51, 52), match='X'>\n",
      "<_sre.SRE_Match object; span=(52, 53), match='Y'>\n",
      "<_sre.SRE_Match object; span=(53, 54), match='Z'>\n",
      "<_sre.SRE_Match object; span=(55, 56), match='1'>\n",
      "<_sre.SRE_Match object; span=(56, 57), match='2'>\n",
      "<_sre.SRE_Match object; span=(57, 58), match='3'>\n",
      "<_sre.SRE_Match object; span=(58, 59), match='4'>\n",
      "<_sre.SRE_Match object; span=(59, 60), match='5'>\n",
      "<_sre.SRE_Match object; span=(60, 61), match='6'>\n",
      "<_sre.SRE_Match object; span=(61, 62), match='7'>\n",
      "<_sre.SRE_Match object; span=(62, 63), match='8'>\n",
      "<_sre.SRE_Match object; span=(63, 64), match='9'>\n",
      "<_sre.SRE_Match object; span=(64, 65), match='0'>\n",
      "<_sre.SRE_Match object; span=(66, 67), match='H'>\n",
      "<_sre.SRE_Match object; span=(67, 68), match='a'>\n",
      "<_sre.SRE_Match object; span=(69, 70), match='H'>\n",
      "<_sre.SRE_Match object; span=(70, 71), match='a'>\n",
      "<_sre.SRE_Match object; span=(71, 72), match='H'>\n",
      "<_sre.SRE_Match object; span=(72, 73), match='a'>\n",
      "<_sre.SRE_Match object; span=(74, 75), match='M'>\n",
      "<_sre.SRE_Match object; span=(75, 76), match='e'>\n",
      "<_sre.SRE_Match object; span=(76, 77), match='t'>\n",
      "<_sre.SRE_Match object; span=(77, 78), match='a'>\n",
      "<_sre.SRE_Match object; span=(78, 79), match='C'>\n",
      "<_sre.SRE_Match object; span=(79, 80), match='h'>\n",
      "<_sre.SRE_Match object; span=(80, 81), match='a'>\n",
      "<_sre.SRE_Match object; span=(81, 82), match='r'>\n",
      "<_sre.SRE_Match object; span=(82, 83), match='a'>\n",
      "<_sre.SRE_Match object; span=(83, 84), match='c'>\n",
      "<_sre.SRE_Match object; span=(84, 85), match='t'>\n",
      "<_sre.SRE_Match object; span=(85, 86), match='e'>\n",
      "<_sre.SRE_Match object; span=(86, 87), match='r'>\n",
      "<_sre.SRE_Match object; span=(87, 88), match='s'>\n",
      "<_sre.SRE_Match object; span=(89, 90), match='('>\n",
      "<_sre.SRE_Match object; span=(90, 91), match='N'>\n",
      "<_sre.SRE_Match object; span=(91, 92), match='e'>\n",
      "<_sre.SRE_Match object; span=(92, 93), match='e'>\n",
      "<_sre.SRE_Match object; span=(93, 94), match='d'>\n",
      "<_sre.SRE_Match object; span=(95, 96), match='t'>\n",
      "<_sre.SRE_Match object; span=(96, 97), match='o'>\n",
      "<_sre.SRE_Match object; span=(98, 99), match='b'>\n",
      "<_sre.SRE_Match object; span=(99, 100), match='e'>\n",
      "<_sre.SRE_Match object; span=(101, 102), match='e'>\n",
      "<_sre.SRE_Match object; span=(102, 103), match='s'>\n",
      "<_sre.SRE_Match object; span=(103, 104), match='c'>\n",
      "<_sre.SRE_Match object; span=(104, 105), match='a'>\n",
      "<_sre.SRE_Match object; span=(105, 106), match='p'>\n",
      "<_sre.SRE_Match object; span=(106, 107), match='e'>\n",
      "<_sre.SRE_Match object; span=(107, 108), match='d'>\n",
      "<_sre.SRE_Match object; span=(108, 109), match=')'>\n",
      "<_sre.SRE_Match object; span=(109, 110), match=':'>\n",
      "<_sre.SRE_Match object; span=(111, 112), match='.'>\n",
      "<_sre.SRE_Match object; span=(113, 114), match='^'>\n",
      "<_sre.SRE_Match object; span=(115, 116), match='$'>\n",
      "<_sre.SRE_Match object; span=(117, 118), match='*'>\n",
      "<_sre.SRE_Match object; span=(119, 120), match='+'>\n",
      "<_sre.SRE_Match object; span=(121, 122), match='?'>\n",
      "<_sre.SRE_Match object; span=(123, 124), match='{'>\n",
      "<_sre.SRE_Match object; span=(125, 126), match='}'>\n",
      "<_sre.SRE_Match object; span=(127, 128), match='['>\n",
      "<_sre.SRE_Match object; span=(129, 130), match=']'>\n",
      "<_sre.SRE_Match object; span=(131, 132), match='\\\\'>\n",
      "<_sre.SRE_Match object; span=(133, 134), match='|'>\n",
      "<_sre.SRE_Match object; span=(135, 136), match='('>\n",
      "<_sre.SRE_Match object; span=(137, 138), match=')'>\n",
      "<_sre.SRE_Match object; span=(139, 140), match='c'>\n",
      "<_sre.SRE_Match object; span=(140, 141), match='o'>\n",
      "<_sre.SRE_Match object; span=(141, 142), match='r'>\n",
      "<_sre.SRE_Match object; span=(142, 143), match='e'>\n",
      "<_sre.SRE_Match object; span=(143, 144), match='y'>\n",
      "<_sre.SRE_Match object; span=(144, 145), match='m'>\n",
      "<_sre.SRE_Match object; span=(145, 146), match='s'>\n",
      "<_sre.SRE_Match object; span=(146, 147), match='.'>\n",
      "<_sre.SRE_Match object; span=(147, 148), match='c'>\n",
      "<_sre.SRE_Match object; span=(148, 149), match='o'>\n",
      "<_sre.SRE_Match object; span=(149, 150), match='m'>\n",
      "<_sre.SRE_Match object; span=(151, 152), match='3'>\n",
      "<_sre.SRE_Match object; span=(152, 153), match='2'>\n",
      "<_sre.SRE_Match object; span=(153, 154), match='1'>\n",
      "<_sre.SRE_Match object; span=(154, 155), match='-'>\n",
      "<_sre.SRE_Match object; span=(155, 156), match='5'>\n",
      "<_sre.SRE_Match object; span=(156, 157), match='5'>\n",
      "<_sre.SRE_Match object; span=(157, 158), match='5'>\n",
      "<_sre.SRE_Match object; span=(158, 159), match='-'>\n",
      "<_sre.SRE_Match object; span=(159, 160), match='4'>\n",
      "<_sre.SRE_Match object; span=(160, 161), match='3'>\n",
      "<_sre.SRE_Match object; span=(161, 162), match='2'>\n",
      "<_sre.SRE_Match object; span=(162, 163), match='1'>\n",
      "<_sre.SRE_Match object; span=(164, 165), match='1'>\n",
      "<_sre.SRE_Match object; span=(165, 166), match='2'>\n",
      "<_sre.SRE_Match object; span=(166, 167), match='3'>\n",
      "<_sre.SRE_Match object; span=(167, 168), match='.'>\n",
      "<_sre.SRE_Match object; span=(168, 169), match='5'>\n",
      "<_sre.SRE_Match object; span=(169, 170), match='5'>\n",
      "<_sre.SRE_Match object; span=(170, 171), match='5'>\n",
      "<_sre.SRE_Match object; span=(171, 172), match='.'>\n",
      "<_sre.SRE_Match object; span=(172, 173), match='1'>\n",
      "<_sre.SRE_Match object; span=(173, 174), match='2'>\n",
      "<_sre.SRE_Match object; span=(174, 175), match='3'>\n",
      "<_sre.SRE_Match object; span=(175, 176), match='4'>\n",
      "<_sre.SRE_Match object; span=(177, 178), match='1'>\n",
      "<_sre.SRE_Match object; span=(178, 179), match='2'>\n",
      "<_sre.SRE_Match object; span=(179, 180), match='3'>\n",
      "<_sre.SRE_Match object; span=(180, 181), match='*'>\n",
      "<_sre.SRE_Match object; span=(181, 182), match='5'>\n",
      "<_sre.SRE_Match object; span=(182, 183), match='5'>\n",
      "<_sre.SRE_Match object; span=(183, 184), match='5'>\n",
      "<_sre.SRE_Match object; span=(184, 185), match='*'>\n",
      "<_sre.SRE_Match object; span=(185, 186), match='1'>\n",
      "<_sre.SRE_Match object; span=(186, 187), match='2'>\n",
      "<_sre.SRE_Match object; span=(187, 188), match='3'>\n",
      "<_sre.SRE_Match object; span=(188, 189), match='4'>\n",
      "<_sre.SRE_Match object; span=(190, 191), match='8'>\n",
      "<_sre.SRE_Match object; span=(191, 192), match='0'>\n",
      "<_sre.SRE_Match object; span=(192, 193), match='0'>\n",
      "<_sre.SRE_Match object; span=(193, 194), match='-'>\n",
      "<_sre.SRE_Match object; span=(194, 195), match='5'>\n",
      "<_sre.SRE_Match object; span=(195, 196), match='5'>\n",
      "<_sre.SRE_Match object; span=(196, 197), match='5'>\n",
      "<_sre.SRE_Match object; span=(197, 198), match='-'>\n",
      "<_sre.SRE_Match object; span=(198, 199), match='1'>\n",
      "<_sre.SRE_Match object; span=(199, 200), match='2'>\n",
      "<_sre.SRE_Match object; span=(200, 201), match='3'>\n",
      "<_sre.SRE_Match object; span=(201, 202), match='4'>\n",
      "<_sre.SRE_Match object; span=(203, 204), match='9'>\n",
      "<_sre.SRE_Match object; span=(204, 205), match='0'>\n",
      "<_sre.SRE_Match object; span=(205, 206), match='0'>\n",
      "<_sre.SRE_Match object; span=(206, 207), match='-'>\n",
      "<_sre.SRE_Match object; span=(207, 208), match='5'>\n",
      "<_sre.SRE_Match object; span=(208, 209), match='5'>\n",
      "<_sre.SRE_Match object; span=(209, 210), match='5'>\n",
      "<_sre.SRE_Match object; span=(210, 211), match='-'>\n",
      "<_sre.SRE_Match object; span=(211, 212), match='1'>\n",
      "<_sre.SRE_Match object; span=(212, 213), match='2'>\n",
      "<_sre.SRE_Match object; span=(213, 214), match='3'>\n",
      "<_sre.SRE_Match object; span=(214, 215), match='4'>\n",
      "<_sre.SRE_Match object; span=(216, 217), match='M'>\n",
      "<_sre.SRE_Match object; span=(217, 218), match='r'>\n",
      "<_sre.SRE_Match object; span=(218, 219), match='.'>\n",
      "<_sre.SRE_Match object; span=(220, 221), match='S'>\n",
      "<_sre.SRE_Match object; span=(221, 222), match='c'>\n",
      "<_sre.SRE_Match object; span=(222, 223), match='h'>\n",
      "<_sre.SRE_Match object; span=(223, 224), match='a'>\n",
      "<_sre.SRE_Match object; span=(224, 225), match='f'>\n",
      "<_sre.SRE_Match object; span=(225, 226), match='e'>\n",
      "<_sre.SRE_Match object; span=(226, 227), match='r'>\n",
      "<_sre.SRE_Match object; span=(228, 229), match='M'>\n",
      "<_sre.SRE_Match object; span=(229, 230), match='r'>\n",
      "<_sre.SRE_Match object; span=(231, 232), match='S'>\n",
      "<_sre.SRE_Match object; span=(232, 233), match='m'>\n",
      "<_sre.SRE_Match object; span=(233, 234), match='i'>\n",
      "<_sre.SRE_Match object; span=(234, 235), match='t'>\n",
      "<_sre.SRE_Match object; span=(235, 236), match='h'>\n",
      "<_sre.SRE_Match object; span=(237, 238), match='M'>\n",
      "<_sre.SRE_Match object; span=(238, 239), match='s'>\n",
      "<_sre.SRE_Match object; span=(240, 241), match='D'>\n",
      "<_sre.SRE_Match object; span=(241, 242), match='a'>\n",
      "<_sre.SRE_Match object; span=(242, 243), match='v'>\n",
      "<_sre.SRE_Match object; span=(243, 244), match='i'>\n",
      "<_sre.SRE_Match object; span=(244, 245), match='s'>\n",
      "<_sre.SRE_Match object; span=(246, 247), match='M'>\n",
      "<_sre.SRE_Match object; span=(247, 248), match='r'>\n",
      "<_sre.SRE_Match object; span=(248, 249), match='s'>\n",
      "<_sre.SRE_Match object; span=(249, 250), match='.'>\n",
      "<_sre.SRE_Match object; span=(251, 252), match='R'>\n",
      "<_sre.SRE_Match object; span=(252, 253), match='o'>\n",
      "<_sre.SRE_Match object; span=(253, 254), match='b'>\n",
      "<_sre.SRE_Match object; span=(254, 255), match='i'>\n",
      "<_sre.SRE_Match object; span=(255, 256), match='n'>\n",
      "<_sre.SRE_Match object; span=(256, 257), match='s'>\n",
      "<_sre.SRE_Match object; span=(257, 258), match='o'>\n",
      "<_sre.SRE_Match object; span=(258, 259), match='n'>\n",
      "<_sre.SRE_Match object; span=(260, 261), match='M'>\n",
      "<_sre.SRE_Match object; span=(261, 262), match='r'>\n",
      "<_sre.SRE_Match object; span=(262, 263), match='.'>\n",
      "<_sre.SRE_Match object; span=(264, 265), match='T'>\n",
      "<_sre.SRE_Match object; span=(265, 266), match='_'>\n",
      "<_sre.SRE_Match object; span=(267, 268), match='H'>\n",
      "<_sre.SRE_Match object; span=(268, 269), match='a'>\n",
      "<_sre.SRE_Match object; span=(273, 274), match='H'>\n",
      "<_sre.SRE_Match object; span=(274, 275), match='a'>\n"
     ]
    }
   ],
   "source": [
    "pattern=re.compile(r'\\S')\n",
    "matches=pattern.finditer(text_to_search )\n",
    "\n",
    "for match in matches:\n",
    "    print(match)"
   ]
  },
  {
   "cell_type": "markdown",
   "metadata": {},
   "source": [
    "\n",
    "## `\\b` --> **word boundry** --> white space "
   ]
  },
  {
   "cell_type": "code",
   "execution_count": null,
   "metadata": {},
   "outputs": [],
   "source": [
    "text_to_search ='''\n",
    "abcdefghijklmnopqurtuvwxyz\n",
    "ABCDEFGHIJKLMNOPQRSTUVWXYZ\n",
    "1234567890\n",
    "Ha HaHa\n",
    "MetaCharacters (Need to be escaped):\n",
    ". ^ $ * + ? { } [ ] \\ | ( )\n",
    "coreyms.com\n",
    "321-555-4321\n",
    "123.555.1234\n",
    "123*555*1234\n",
    "800-555-1234\n",
    "900-555-1234\n",
    "Mr. Schafer\n",
    "Mr Smith\n",
    "Ms Davis\n",
    "Mrs. Robinson\n",
    "Mr. T_\n",
    "Ha\tHaHa\n",
    "'''"
   ]
  },
  {
   "cell_type": "code",
   "execution_count": 175,
   "metadata": {
    "scrolled": true
   },
   "outputs": [
    {
     "name": "stdout",
     "output_type": "stream",
     "text": [
      "<_sre.SRE_Match object; span=(1, 1), match=''>\n",
      "<_sre.SRE_Match object; span=(27, 27), match=''>\n",
      "<_sre.SRE_Match object; span=(28, 28), match=''>\n",
      "<_sre.SRE_Match object; span=(54, 54), match=''>\n",
      "<_sre.SRE_Match object; span=(55, 55), match=''>\n",
      "<_sre.SRE_Match object; span=(65, 65), match=''>\n",
      "<_sre.SRE_Match object; span=(66, 66), match=''>\n",
      "<_sre.SRE_Match object; span=(68, 68), match=''>\n",
      "<_sre.SRE_Match object; span=(69, 69), match=''>\n",
      "<_sre.SRE_Match object; span=(73, 73), match=''>\n",
      "<_sre.SRE_Match object; span=(74, 74), match=''>\n",
      "<_sre.SRE_Match object; span=(88, 88), match=''>\n",
      "<_sre.SRE_Match object; span=(90, 90), match=''>\n",
      "<_sre.SRE_Match object; span=(94, 94), match=''>\n",
      "<_sre.SRE_Match object; span=(95, 95), match=''>\n",
      "<_sre.SRE_Match object; span=(97, 97), match=''>\n",
      "<_sre.SRE_Match object; span=(98, 98), match=''>\n",
      "<_sre.SRE_Match object; span=(100, 100), match=''>\n",
      "<_sre.SRE_Match object; span=(101, 101), match=''>\n",
      "<_sre.SRE_Match object; span=(108, 108), match=''>\n",
      "<_sre.SRE_Match object; span=(139, 139), match=''>\n",
      "<_sre.SRE_Match object; span=(146, 146), match=''>\n",
      "<_sre.SRE_Match object; span=(147, 147), match=''>\n",
      "<_sre.SRE_Match object; span=(150, 150), match=''>\n",
      "<_sre.SRE_Match object; span=(151, 151), match=''>\n",
      "<_sre.SRE_Match object; span=(154, 154), match=''>\n",
      "<_sre.SRE_Match object; span=(155, 155), match=''>\n",
      "<_sre.SRE_Match object; span=(158, 158), match=''>\n",
      "<_sre.SRE_Match object; span=(159, 159), match=''>\n",
      "<_sre.SRE_Match object; span=(163, 163), match=''>\n",
      "<_sre.SRE_Match object; span=(164, 164), match=''>\n",
      "<_sre.SRE_Match object; span=(167, 167), match=''>\n",
      "<_sre.SRE_Match object; span=(168, 168), match=''>\n",
      "<_sre.SRE_Match object; span=(171, 171), match=''>\n",
      "<_sre.SRE_Match object; span=(172, 172), match=''>\n",
      "<_sre.SRE_Match object; span=(176, 176), match=''>\n",
      "<_sre.SRE_Match object; span=(177, 177), match=''>\n",
      "<_sre.SRE_Match object; span=(180, 180), match=''>\n",
      "<_sre.SRE_Match object; span=(181, 181), match=''>\n",
      "<_sre.SRE_Match object; span=(184, 184), match=''>\n",
      "<_sre.SRE_Match object; span=(185, 185), match=''>\n",
      "<_sre.SRE_Match object; span=(189, 189), match=''>\n",
      "<_sre.SRE_Match object; span=(190, 190), match=''>\n",
      "<_sre.SRE_Match object; span=(193, 193), match=''>\n",
      "<_sre.SRE_Match object; span=(194, 194), match=''>\n",
      "<_sre.SRE_Match object; span=(197, 197), match=''>\n",
      "<_sre.SRE_Match object; span=(198, 198), match=''>\n",
      "<_sre.SRE_Match object; span=(202, 202), match=''>\n",
      "<_sre.SRE_Match object; span=(203, 203), match=''>\n",
      "<_sre.SRE_Match object; span=(206, 206), match=''>\n",
      "<_sre.SRE_Match object; span=(207, 207), match=''>\n",
      "<_sre.SRE_Match object; span=(210, 210), match=''>\n",
      "<_sre.SRE_Match object; span=(211, 211), match=''>\n",
      "<_sre.SRE_Match object; span=(215, 215), match=''>\n",
      "<_sre.SRE_Match object; span=(216, 216), match=''>\n",
      "<_sre.SRE_Match object; span=(218, 218), match=''>\n",
      "<_sre.SRE_Match object; span=(220, 220), match=''>\n",
      "<_sre.SRE_Match object; span=(227, 227), match=''>\n",
      "<_sre.SRE_Match object; span=(228, 228), match=''>\n",
      "<_sre.SRE_Match object; span=(230, 230), match=''>\n",
      "<_sre.SRE_Match object; span=(231, 231), match=''>\n",
      "<_sre.SRE_Match object; span=(236, 236), match=''>\n",
      "<_sre.SRE_Match object; span=(237, 237), match=''>\n",
      "<_sre.SRE_Match object; span=(239, 239), match=''>\n",
      "<_sre.SRE_Match object; span=(240, 240), match=''>\n",
      "<_sre.SRE_Match object; span=(245, 245), match=''>\n",
      "<_sre.SRE_Match object; span=(246, 246), match=''>\n",
      "<_sre.SRE_Match object; span=(249, 249), match=''>\n",
      "<_sre.SRE_Match object; span=(251, 251), match=''>\n",
      "<_sre.SRE_Match object; span=(259, 259), match=''>\n",
      "<_sre.SRE_Match object; span=(260, 260), match=''>\n",
      "<_sre.SRE_Match object; span=(262, 262), match=''>\n",
      "<_sre.SRE_Match object; span=(264, 264), match=''>\n",
      "<_sre.SRE_Match object; span=(265, 265), match=''>\n"
     ]
    }
   ],
   "source": [
    "pattern=re.compile(r'\\b')\n",
    "matches=pattern.finditer(text_to_search )\n",
    "\n",
    "for match in matches:\n",
    "    print(match)"
   ]
  },
  {
   "cell_type": "code",
   "execution_count": 51,
   "metadata": {},
   "outputs": [
    {
     "name": "stderr",
     "output_type": "stream",
     "text": [
      "<>:1: SyntaxWarning: invalid escape sequence '\\ '\n",
      "<>:1: SyntaxWarning: invalid escape sequence '\\ '\n",
      "C:\\Users\\Mohamed Yasser\\AppData\\Local\\Temp\\ipykernel_3276\\2010971411.py:1: SyntaxWarning: invalid escape sequence '\\ '\n",
      "  text_to_search ='''\n"
     ]
    }
   ],
   "source": [
    "text_to_search ='''\n",
    "abcdefghijklmnopqurtuvwxyz\n",
    "ABCDEFGHIJKLMNOPQRSTUVWXYZ\n",
    "1234567890\n",
    "Ha HaHa\n",
    "MO MO MOMOMO MO\n",
    "MetaCharacters (Need to be escaped):\n",
    ". ^ $ * + ? { } [ ] \\ | ( )\n",
    "coreyms.com\n",
    "321-555-4321\n",
    "123.555.1234\n",
    "123*555*1234\n",
    "800-555-1234\n",
    "900-555-1234\n",
    "Mr. Schafer\n",
    "Mr Smith\n",
    "Ms Davis\n",
    "Mrs. Robinson\n",
    "Mr. T_\n",
    "'''"
   ]
  },
  {
   "cell_type": "code",
   "execution_count": 53,
   "metadata": {},
   "outputs": [
    {
     "name": "stdout",
     "output_type": "stream",
     "text": [
      "<re.Match object; span=(74, 76), match='MO'>\n",
      "<re.Match object; span=(77, 79), match='MO'>\n",
      "<re.Match object; span=(80, 82), match='MO'>\n",
      "<re.Match object; span=(82, 84), match='MO'>\n",
      "<re.Match object; span=(84, 86), match='MO'>\n",
      "<re.Match object; span=(87, 89), match='MO'>\n"
     ]
    }
   ],
   "source": [
    "pattern = re.compile(r\"MO\")\n",
    "matches = pattern.finditer(text_to_search)\n",
    "\n",
    "for match in matches:\n",
    "    print(match)"
   ]
  },
  {
   "cell_type": "code",
   "execution_count": 54,
   "metadata": {},
   "outputs": [
    {
     "name": "stdout",
     "output_type": "stream",
     "text": [
      "<re.Match object; span=(74, 76), match='MO'>\n",
      "<re.Match object; span=(77, 79), match='MO'>\n",
      "<re.Match object; span=(80, 82), match='MO'>\n",
      "<re.Match object; span=(87, 89), match='MO'>\n"
     ]
    }
   ],
   "source": [
    "pattern=re.compile(r'\\bMO')\n",
    "matches=pattern.finditer(text_to_search)\n",
    "\n",
    "for match in matches:\n",
    "    print(match)"
   ]
  },
  {
   "cell_type": "code",
   "execution_count": 55,
   "metadata": {},
   "outputs": [
    {
     "name": "stdout",
     "output_type": "stream",
     "text": [
      "<re.Match object; span=(76, 79), match=' MO'>\n",
      "<re.Match object; span=(79, 82), match=' MO'>\n",
      "<re.Match object; span=(86, 89), match=' MO'>\n"
     ]
    }
   ],
   "source": [
    "pattern = re.compile(r\" MO\")\n",
    "matches = pattern.finditer(text_to_search)\n",
    "\n",
    "for match in matches:\n",
    "    print(match)"
   ]
  },
  {
   "cell_type": "code",
   "execution_count": 330,
   "metadata": {},
   "outputs": [
    {
     "name": "stdout",
     "output_type": "stream",
     "text": [
      "<_sre.SRE_Match object; span=(66, 68), match='Ha'>\n",
      "<_sre.SRE_Match object; span=(69, 71), match='Ha'>\n"
     ]
    }
   ],
   "source": [
    "pattern=re.compile(r'\\bHa')\n",
    "matches=pattern.finditer(text_to_search )\n",
    "\n",
    "for match in matches:\n",
    "    print(match)"
   ]
  },
  {
   "cell_type": "markdown",
   "metadata": {},
   "source": [
    "## switch it to Captital `\\B` "
   ]
  },
  {
   "cell_type": "code",
   "execution_count": 333,
   "metadata": {},
   "outputs": [
    {
     "name": "stdout",
     "output_type": "stream",
     "text": [
      "<_sre.SRE_Match object; span=(82, 84), match='MO'>\n",
      "<_sre.SRE_Match object; span=(84, 86), match='MO'>\n"
     ]
    }
   ],
   "source": [
    "pattern=re.compile(r'\\BMO')\n",
    "matches=pattern.finditer(text_to_search )\n",
    "\n",
    "for match in matches:\n",
    "    print(match)"
   ]
  },
  {
   "cell_type": "markdown",
   "metadata": {},
   "source": [
    "## `^` beginning of a starting "
   ]
  },
  {
   "cell_type": "code",
   "execution_count": 56,
   "metadata": {},
   "outputs": [],
   "source": [
    "text='Mohamed a sentence and then brig it to an end'"
   ]
  },
  {
   "cell_type": "code",
   "execution_count": 58,
   "metadata": {},
   "outputs": [
    {
     "name": "stdout",
     "output_type": "stream",
     "text": [
      "<re.Match object; span=(0, 7), match='Mohamed'>\n"
     ]
    }
   ],
   "source": [
    "pattern=re.compile('^Mohamed')\n",
    "matches=pattern.finditer(text )\n",
    "\n",
    "for match in matches:\n",
    "    print(match)"
   ]
  },
  {
   "cell_type": "code",
   "execution_count": 59,
   "metadata": {},
   "outputs": [],
   "source": [
    "pattern=re.compile(r'^mohamed')\n",
    "matches=pattern.finditer(text )\n",
    "\n",
    "for match in matches:\n",
    "    print(match)"
   ]
  },
  {
   "cell_type": "code",
   "execution_count": 60,
   "metadata": {},
   "outputs": [],
   "source": [
    "pattern=re.compile(r'^mo')\n",
    "matches=pattern.finditer(text )\n",
    "\n",
    "for match in matches:\n",
    "    print(match)"
   ]
  },
  {
   "cell_type": "code",
   "execution_count": 61,
   "metadata": {},
   "outputs": [
    {
     "name": "stdout",
     "output_type": "stream",
     "text": [
      "<re.Match object; span=(0, 2), match='Mo'>\n"
     ]
    }
   ],
   "source": [
    "pattern=re.compile(r'^Mo')\n",
    "matches=pattern.finditer(text )\n",
    "\n",
    "for match in matches:\n",
    "    print(match)"
   ]
  },
  {
   "cell_type": "code",
   "execution_count": 70,
   "metadata": {},
   "outputs": [],
   "source": [
    "text='Mohamed a sentence and then brig it to an Mohamd'"
   ]
  },
  {
   "cell_type": "markdown",
   "metadata": {},
   "source": [
    "## `$` ending of a starting "
   ]
  },
  {
   "cell_type": "code",
   "execution_count": 67,
   "metadata": {},
   "outputs": [
    {
     "name": "stdout",
     "output_type": "stream",
     "text": [
      "<re.Match object; span=(0, 7), match='Mohamed'>\n"
     ]
    }
   ],
   "source": [
    "pattern=re.compile(r'^Mohamed')\n",
    "matches=pattern.finditer(text )\n",
    "\n",
    "for match in matches:\n",
    "    print(match)"
   ]
  },
  {
   "cell_type": "code",
   "execution_count": 71,
   "metadata": {},
   "outputs": [
    {
     "name": "stdout",
     "output_type": "stream",
     "text": [
      "<re.Match object; span=(42, 48), match='Mohamd'>\n"
     ]
    }
   ],
   "source": [
    "pattern = re.compile(r\"Mohamd$\")\n",
    "matches = pattern.finditer(text)\n",
    "\n",
    "for match in matches:\n",
    "    print(match)"
   ]
  },
  {
   "cell_type": "markdown",
   "metadata": {},
   "source": [
    "### lets go back to the Text_to_speech  and we want to match the phone numbers as shown in the data below"
   ]
  },
  {
   "cell_type": "code",
   "execution_count": 72,
   "metadata": {},
   "outputs": [
    {
     "name": "stderr",
     "output_type": "stream",
     "text": [
      "<>:1: SyntaxWarning: invalid escape sequence '\\ '\n",
      "<>:1: SyntaxWarning: invalid escape sequence '\\ '\n",
      "C:\\Users\\Mohamed Yasser\\AppData\\Local\\Temp\\ipykernel_3276\\3848643365.py:1: SyntaxWarning: invalid escape sequence '\\ '\n",
      "  text_to_search ='''\n"
     ]
    }
   ],
   "source": [
    "text_to_search ='''\n",
    "abcdefghijklmnopqurtuvwxyz\n",
    "ABCDEFGHIJKLMNOPQRSTUVWXYZ\n",
    "1234567890\n",
    "Ha HaHa\n",
    "MetaCharacters (Need to be escaped):\n",
    ". ^ $ * + ? { } [ ] \\ | ( )\n",
    "coreyms.com\n",
    "321-555-4321\n",
    "123.547.1234\n",
    "123*963*1234\n",
    "800-257-1234\n",
    "900-195-1234\n",
    "Mr. Schafer\n",
    "Mr Smith\n",
    "Ms Davis\n",
    "Mrs. Robinson\n",
    "Mr. T\n",
    "'''"
   ]
  },
  {
   "cell_type": "markdown",
   "metadata": {},
   "source": [
    "## we can see in the phone numbers there is \n",
    "\n",
    "1-three digits in the first after that we have - or . or * \n",
    "\n",
    "2-after that we have three more digits after them we have - or . or *\n",
    "\n",
    "\n",
    "\n"
   ]
  },
  {
   "cell_type": "code",
   "execution_count": 73,
   "metadata": {},
   "outputs": [
    {
     "name": "stdout",
     "output_type": "stream",
     "text": [
      "<re.Match object; span=(55, 58), match='123'>\n",
      "<re.Match object; span=(58, 61), match='456'>\n",
      "<re.Match object; span=(61, 64), match='789'>\n",
      "<re.Match object; span=(151, 154), match='321'>\n",
      "<re.Match object; span=(155, 158), match='555'>\n",
      "<re.Match object; span=(159, 162), match='432'>\n",
      "<re.Match object; span=(164, 167), match='123'>\n",
      "<re.Match object; span=(168, 171), match='547'>\n",
      "<re.Match object; span=(172, 175), match='123'>\n",
      "<re.Match object; span=(177, 180), match='123'>\n",
      "<re.Match object; span=(181, 184), match='963'>\n",
      "<re.Match object; span=(185, 188), match='123'>\n",
      "<re.Match object; span=(190, 193), match='800'>\n",
      "<re.Match object; span=(194, 197), match='257'>\n",
      "<re.Match object; span=(198, 201), match='123'>\n",
      "<re.Match object; span=(203, 206), match='900'>\n",
      "<re.Match object; span=(207, 210), match='195'>\n",
      "<re.Match object; span=(211, 214), match='123'>\n"
     ]
    }
   ],
   "source": [
    "pattern=re.compile(r'\\d\\d\\d')\n",
    "matches=pattern.finditer(text_to_search )\n",
    "\n",
    "for match in matches:\n",
    "    print(match)"
   ]
  },
  {
   "cell_type": "code",
   "execution_count": 74,
   "metadata": {},
   "outputs": [
    {
     "name": "stdout",
     "output_type": "stream",
     "text": [
      "<re.Match object; span=(55, 59), match='1234'>\n",
      "<re.Match object; span=(59, 63), match='5678'>\n",
      "<re.Match object; span=(151, 155), match='321-'>\n",
      "<re.Match object; span=(155, 159), match='555-'>\n",
      "<re.Match object; span=(159, 163), match='4321'>\n",
      "<re.Match object; span=(164, 168), match='123.'>\n",
      "<re.Match object; span=(168, 172), match='547.'>\n",
      "<re.Match object; span=(172, 176), match='1234'>\n",
      "<re.Match object; span=(177, 181), match='123*'>\n",
      "<re.Match object; span=(181, 185), match='963*'>\n",
      "<re.Match object; span=(185, 189), match='1234'>\n",
      "<re.Match object; span=(190, 194), match='800-'>\n",
      "<re.Match object; span=(194, 198), match='257-'>\n",
      "<re.Match object; span=(198, 202), match='1234'>\n",
      "<re.Match object; span=(203, 207), match='900-'>\n",
      "<re.Match object; span=(207, 211), match='195-'>\n",
      "<re.Match object; span=(211, 215), match='1234'>\n"
     ]
    }
   ],
   "source": [
    "pattern=re.compile(r'\\d\\d\\d.')\n",
    "matches=pattern.finditer(text_to_search )\n",
    "\n",
    "for match in matches:\n",
    "    print(match)"
   ]
  },
  {
   "cell_type": "code",
   "execution_count": 75,
   "metadata": {},
   "outputs": [
    {
     "name": "stdout",
     "output_type": "stream",
     "text": [
      "<re.Match object; span=(55, 62), match='1234567'>\n",
      "<re.Match object; span=(151, 158), match='321-555'>\n",
      "<re.Match object; span=(164, 171), match='123.547'>\n",
      "<re.Match object; span=(177, 184), match='123*963'>\n",
      "<re.Match object; span=(190, 197), match='800-257'>\n",
      "<re.Match object; span=(203, 210), match='900-195'>\n"
     ]
    }
   ],
   "source": [
    "pattern=re.compile(r'\\d\\d\\d.\\d\\d\\d')\n",
    "matches=pattern.finditer(text_to_search )\n",
    "\n",
    "for match in matches:\n",
    "    print(match)"
   ]
  },
  {
   "cell_type": "code",
   "execution_count": 76,
   "metadata": {},
   "outputs": [
    {
     "name": "stdout",
     "output_type": "stream",
     "text": [
      "<re.Match object; span=(55, 63), match='12345678'>\n",
      "<re.Match object; span=(151, 159), match='321-555-'>\n",
      "<re.Match object; span=(164, 172), match='123.547.'>\n",
      "<re.Match object; span=(177, 185), match='123*963*'>\n",
      "<re.Match object; span=(190, 198), match='800-257-'>\n",
      "<re.Match object; span=(203, 211), match='900-195-'>\n"
     ]
    }
   ],
   "source": [
    "pattern=re.compile(r'\\d\\d\\d.\\d\\d\\d.')\n",
    "matches=pattern.finditer(text_to_search )\n",
    "\n",
    "for match in matches:\n",
    "    print(match)"
   ]
  },
  {
   "cell_type": "code",
   "execution_count": 77,
   "metadata": {},
   "outputs": [
    {
     "name": "stdout",
     "output_type": "stream",
     "text": [
      "<re.Match object; span=(151, 163), match='321-555-4321'>\n",
      "<re.Match object; span=(164, 176), match='123.547.1234'>\n",
      "<re.Match object; span=(177, 189), match='123*963*1234'>\n",
      "<re.Match object; span=(190, 202), match='800-257-1234'>\n",
      "<re.Match object; span=(203, 215), match='900-195-1234'>\n"
     ]
    }
   ],
   "source": [
    "pattern=re.compile(r'\\d\\d\\d.\\d\\d\\d.\\d\\d\\d\\d')\n",
    "matches=pattern.finditer(text_to_search )\n",
    "\n",
    "for match in matches:\n",
    "    print(match)"
   ]
  },
  {
   "cell_type": "code",
   "execution_count": 80,
   "metadata": {},
   "outputs": [
    {
     "name": "stdout",
     "output_type": "stream",
     "text": [
      "<re.Match object; span=(151, 162), match='321-555-432'>\n",
      "<re.Match object; span=(190, 201), match='800-257-123'>\n",
      "<re.Match object; span=(203, 214), match='900-195-123'>\n"
     ]
    }
   ],
   "source": [
    "pattern = re.compile(r\"\\d{3}[-]\\d{3}[-]\\d{3}\")\n",
    "matches = pattern.finditer(text_to_search)\n",
    "\n",
    "for match in matches:\n",
    "    print(match)"
   ]
  },
  {
   "cell_type": "code",
   "execution_count": 81,
   "metadata": {},
   "outputs": [],
   "source": [
    "text_to_search ='''\n",
    "Dave Martin\n",
    "615-555-7164\n",
    "173 Main St., Springfield RI 55924\n",
    "davemartin@bogusemail.com\n",
    "\n",
    "Charles Harris\n",
    "800-555-5669\n",
    "969 High St., Atlantis VA 34075\n",
    "charlesharris@bogusemail.com\n",
    "\n",
    "Eric Williams\n",
    "560-555-5153\n",
    "806 1st St., Faketown AK 86847\n",
    "laurawilliams@bogusemail.com\n",
    "\n",
    "Corey Jefferson\n",
    "900-555-9340\n",
    "826 Elm St., Epicburg NE 10671\n",
    "coreyjefferson@bogusemail.com\n",
    "\n",
    "Jennifer Martin-White\n",
    "714-555-7405\n",
    "212 Cedar St., Sunnydale CT 74983\n",
    "jenniferwhite@bogusemail.com\n",
    "\n",
    "Erick Davis\n",
    "800-555-6771\n",
    "519 Washington St., Olympus TN 32425\n",
    "tomdavis@bogusemail.com\n",
    "\n",
    "Neil Patterson\n",
    "783-555-4799\n",
    "625 Oak St., Dawnstar IL 61914\n",
    "neilpatterson@bogusemail.com\n",
    "\n",
    "Laura Jefferson\n",
    "516-555-4615\n",
    "890 Main St., Pythonville LA 29947\n",
    "laurajefferson@bogusemail.com\n",
    "\n",
    "Maria Johnson\n",
    "127-555-1867\n",
    "884 High St., Braavos‎ ME 43597\n",
    "mariajohnson@bogusemail.com\n",
    "\n",
    "Michael Arnold\n",
    "608-555-4938\n",
    "249 Elm St., Quahog OR 90938\n",
    "michaelarnold@bogusemail.com\n",
    "\n",
    "Michael Smith\n",
    "568-555-6051\n",
    "619 Park St., Winterfell VA 99000\n",
    "michaelsmith@bogusemail.com\n",
    "\n",
    "Erik Stuart\n",
    "292-555-1875\n",
    "220 Cedar St., Lakeview NY 87282\n",
    "robertstuart@bogusemail.com\n",
    "\n",
    "Laura Martin\n",
    "900-555-3205\n",
    "391 High St., Smalltown WY 28362\n",
    "lauramartin@bogusemail.com\n",
    "\n",
    "Barbara Martin\n",
    "614-555-1166\n",
    "121 Hill St., Braavos‎ UT 92474\n",
    "barbaramartin@bogusemail.com\n",
    "\n",
    "Linda Jackson\n",
    "530-555-2676\n",
    "433 Elm St., Westworld TX 61967\n",
    "lindajackson@bogusemail.com\n",
    "\n",
    "Eric Miller\n",
    "470-555-2750\n",
    "838 Main St., Balmora MT 56526\n",
    "stevemiller@bogusemail.com\n",
    "\n",
    "Dave Arnold\n",
    "800-555-6089\n",
    "732 High St., Valyria KY 97152\n",
    "davearnold@bogusemail.com\n",
    "\n",
    "Jennifer Jacobs\n",
    "880-555-8319\n",
    "217 High St., Old-town IA 82767\n",
    "jenniferjacobs@bogusemail.com\n",
    "\n",
    "Neil Wilson\n",
    "777-555-8378\n",
    "191 Main St., Mordor IL 72160\n",
    "neilwilson@bogusemail.com\n",
    "\n",
    "Kurt Jackson\n",
    "998-555-7385\n",
    "607 Washington St., Blackwater NH 97183\n",
    "kurtjackson@bogusemail.com\n",
    "\n",
    "Mary Jacobs\n",
    "800-555-7100\n",
    "478 Oak St., Bedrock IA 58176\n",
    "maryjacobs@bogusemail.com\n",
    "\n",
    "Michael White\n",
    "903-555-8277\n",
    "906 Elm St., Mordor TX 89212\n",
    "michaelwhite@bogusemail.com\n",
    "\n",
    "Jennifer Jenkins\n",
    "196-555-5674\n",
    "949 Main St., Smalltown SC 96962\n",
    "jenniferjenkins@bogusemail.com\n",
    "\n",
    "Sam Wright\n",
    "900-555-5118\n",
    "835 Pearl St., Smalltown ND 77737\n",
    "samwright@bogusemail.com\n",
    "\n",
    "John Davis\n",
    "905-555-1630\n",
    "451 Lake St., Bedrock GA 34615\n",
    "johndavis@bogusemail.com\n",
    "\n",
    "Eric Davis\n",
    "203-555-3475\n",
    "419 Lake St., Balmora OR 30826\n",
    "neildavis@bogusemail.com\n",
    "\n",
    "Laura Jackson\n",
    "884-555-8444\n",
    "443 Maple St., Quahog MS 29348\n",
    "laurajackson@bogusemail.com\n",
    "\n",
    "John Williams\n",
    "904-555-8559\n",
    "756 Hill St., Valyria KY 94854\n",
    "johnwilliams@bogusemail.com\n",
    "\n",
    "Michael Martin\n",
    "889-555-7393\n",
    "216 High St., Olympus NV 21888\n",
    "michaelmartin@bogusemail.com\n",
    "\n",
    "Maggie Brown\n",
    "195-555-2405\n",
    "806 Lake St., Lakeview MD 59348\n",
    "maggiebrown@bogusemail.com\n",
    "\n",
    "Erik Wilson\n",
    "321-555-9053\n",
    "354 Hill St., Mordor FL 74122\n",
    "kurtwilson@bogusemail.com\n",
    "\n",
    "Elizabeth Arnold\n",
    "133-555-1711\n",
    "805 Maple St., Winterfell NV 99431\n",
    "elizabetharnold@bogusemail.com\n",
    "\n",
    "Jane Martin\n",
    "900-555-5428\n",
    "418 Park St., Metropolis ID 16576\n",
    "janemartin@bogusemail.com\n",
    "\n",
    "Travis Johnson\n",
    "760-555-7147\n",
    "749 Washington St., Braavos‎ SD 25668\n",
    "travisjohnson@bogusemail.com\n",
    "\n",
    "Laura Jefferson\n",
    "391-555-6621\n",
    "122 High St., Metropolis ME 29540\n",
    "laurajefferson@bogusemail.com\n",
    "\n",
    "Tom Williams\n",
    "932-555-7724\n",
    "610 High St., Old-town FL 60758\n",
    "tomwilliams@bogusemail.com\n",
    "\n",
    "Jennifer Taylor\n",
    "609-555-7908\n",
    "332 Main St., Pythonville OH 78172\n",
    "jennifertaylor@bogusemail.com\n",
    "\n",
    "Erick Wright\n",
    "800-555-8810\n",
    "858 Hill St., Blackwater NC 79714\n",
    "jenniferwright@bogusemail.com\n",
    "\n",
    "Steve Doe\n",
    "149-555-7657\n",
    "441 Elm St., Atlantis MS 87195\n",
    "stevedoe@bogusemail.com\n",
    "\n",
    "Kurt Davis\n",
    "130-555-9709\n",
    "404 Oak St., Atlantis ND 85386\n",
    "kurtdavis@bogusemail.com\n",
    "\n",
    "Corey Harris\n",
    "143-555-9295\n",
    "286 Pearl St., Vice City TX 57112\n",
    "coreyharris@bogusemail.com\n",
    "\n",
    "Nicole Taylor\n",
    "903-555-9878\n",
    "465 Hill St., Old-town LA 64102\n",
    "nicoletaylor@bogusemail.com\n",
    "\n",
    "Elizabeth Davis\n",
    "574-555-3194\n",
    "151 Lake St., Eerie SD 17880\n",
    "elizabethdavis@bogusemail.com\n",
    "\n",
    "Maggie Jenkins\n",
    "496-555-7533\n",
    "504 Lake St., Gotham PA 46692\n",
    "maggiejenkins@bogusemail.com\n",
    "\n",
    "Linda Davis\n",
    "210-555-3757\n",
    "201 Pine St., Vice City AR 78455\n",
    "lindadavis@bogusemail.com\n",
    "\n",
    "Dave Moore\n",
    "900-555-9598\n",
    "251 Pine St., Old-town OK 29087\n",
    "davemoore@bogusemail.com\n",
    "\n",
    "Linda Jenkins\n",
    "866-555-9844\n",
    "117 High St., Bedrock NE 11899\n",
    "lindajenkins@bogusemail.com\n",
    "\n",
    "Eric White\n",
    "669-555-7159\n",
    "650 Oak St., Smalltown TN 43281\n",
    "samwhite@bogusemail.com\n",
    "\n",
    "Laura Robinson\n",
    "152-555-7417\n",
    "377 Pine St., Valyria NC 78036\n",
    "laurarobinson@bogusemail.com\n",
    "\n",
    "Charles Patterson\n",
    "893-555-9832\n",
    "416 Pearl St., Valyria AK 62260\n",
    "charlespatterson@bogusemail.com\n",
    "\n",
    "Joe Jackson\n",
    "217-555-7123\n",
    "683 Cedar St., South Park KS 66724\n",
    "joejackson@bogusemail.com\n",
    "\n",
    "Michael Johnson\n",
    "786-555-6544\n",
    "288 Hill St., Smalltown AZ 18586\n",
    "michaeljohnson@bogusemail.com\n",
    "\n",
    "Corey Miller\n",
    "780-555-2574\n",
    "286 High St., Springfield IA 16272\n",
    "coreymiller@bogusemail.com\n",
    "\n",
    "James Moore\n",
    "926-555-8735\n",
    "278 Main St., Gotham KY 89569\n",
    "jamesmoore@bogusemail.com\n",
    "\n",
    "Jennifer Stuart\n",
    "895-555-3539\n",
    "766 Hill St., King's Landing GA 54999\n",
    "jenniferstuart@bogusemail.com\n",
    "\n",
    "Charles Martin\n",
    "874-555-3949\n",
    "775 High St., Faketown PA 89260\n",
    "charlesmartin@bogusemail.com\n",
    "\n",
    "Eric Wilks\n",
    "800-555-2420\n",
    "885 Main St., Blackwater OH 61275\n",
    "joewilks@bogusemail.com\n",
    "\n",
    "Elizabeth Arnold\n",
    "936-555-6340\n",
    "528 Hill St., Atlantis NH 88289\n",
    "elizabetharnold@bogusemail.com\n",
    "\n",
    "John Miller\n",
    "372-555-9809\n",
    "117 Cedar St., Thundera NM 75205\n",
    "johnmiller@bogusemail.com\n",
    "\n",
    "Corey Jackson\n",
    "890-555-5618\n",
    "115 Oak St., Gotham UT 36433\n",
    "coreyjackson@bogusemail.com\n",
    "\n",
    "Sam Thomas\n",
    "670-555-3005\n",
    "743 Lake St., Springfield MS 25473\n",
    "samthomas@bogusemail.com\n",
    "\n",
    "Patricia Thomas\n",
    "509-555-5997\n",
    "381 Hill St., Blackwater CT 30958\n",
    "patriciathomas@bogusemail.com\n",
    "\n",
    "Jennifer Davis\n",
    "721-555-5632\n",
    "125 Main St., Smalltown MT 62155\n",
    "jenniferdavis@bogusemail.com\n",
    "\n",
    "Patricia Brown\n",
    "900-555-3567\n",
    "292 Hill St., Gotham WV 57680\n",
    "patriciabrown@bogusemail.com\n",
    "\n",
    "Barbara Williams\n",
    "147-555-6830\n",
    "514 Park St., Balmora NV 55462\n",
    "barbarawilliams@bogusemail.com\n",
    "\n",
    "James Taylor\n",
    "582-555-3426\n",
    "776 Hill St., Dawnstar MA 51312\n",
    "jamestaylor@bogusemail.com\n",
    "\n",
    "Eric Harris\n",
    "400-555-1706\n",
    "421 Elm St., Smalltown NV 72025\n",
    "barbaraharris@bogusemail.com\n",
    "\n",
    "Travis Anderson\n",
    "525-555-1793\n",
    "937 Cedar St., Thundera WA 78862\n",
    "travisanderson@bogusemail.com\n",
    "\n",
    "Sam Robinson\n",
    "317-555-6700\n",
    "417 Pine St., Lakeview MD 13147\n",
    "samrobinson@bogusemail.com\n",
    "\n",
    "Steve Robinson\n",
    "974-555-8301\n",
    "478 Park St., Springfield NM 92369\n",
    "steverobinson@bogusemail.com\n",
    "\n",
    "Mary Wilson\n",
    "800-555-3216\n",
    "708 Maple St., Braavos‎ UT 29551\n",
    "marywilson@bogusemail.com\n",
    "\n",
    "Sam Wilson\n",
    "746-555-4094\n",
    "557 Pearl St., Westworld KS 23225\n",
    "samwilson@bogusemail.com\n",
    "\n",
    "Charles Jones\n",
    "922-555-1773\n",
    "855 Hill St., Olympus HI 81427\n",
    "charlesjones@bogusemail.com\n",
    "\n",
    "Laura Brown\n",
    "711-555-4427\n",
    "980 Maple St., Smalltown MO 96421\n",
    "laurabrown@bogusemail.com\n",
    "\n",
    "Tom Harris\n",
    "355-555-1872\n",
    "676 Hill St., Blackwater AR 96698\n",
    "tomharris@bogusemail.com\n",
    "\n",
    "Patricia Taylor\n",
    "852-555-6521\n",
    "588 Pine St., Olympus FL 98412\n",
    "patriciataylor@bogusemail.com\n",
    "\n",
    "Barbara Williams\n",
    "691-555-5773\n",
    "351 Elm St., Sunnydale GA 26245\n",
    "barbarawilliams@bogusemail.com\n",
    "\n",
    "Maggie Johnson\n",
    "332-555-5441\n",
    "948 Cedar St., Quahog DE 56449\n",
    "maggiejohnson@bogusemail.com\n",
    "\n",
    "Kurt Miller\n",
    "900-555-7755\n",
    "381 Hill St., Quahog AL 97503\n",
    "kurtmiller@bogusemail.com\n",
    "\n",
    "Neil Stuart\n",
    "379-555-3685\n",
    "496 Cedar St., Sunnydale RI 49113\n",
    "neilstuart@bogusemail.com\n",
    "\n",
    "Linda Patterson\n",
    "127-555-9682\n",
    "736 Cedar St., Lakeview KY 47472\n",
    "lindapatterson@bogusemail.com\n",
    "\n",
    "Charles Davis\n",
    "789-555-7032\n",
    "678 Lake St., Mordor MN 11845\n",
    "charlesdavis@bogusemail.com\n",
    "\n",
    "Jennifer Jefferson\n",
    "783-555-5135\n",
    "289 Park St., Sunnydale WA 74526\n",
    "jenniferjefferson@bogusemail.com\n",
    "\n",
    "Erick Taylor\n",
    "315-555-6507\n",
    "245 Washington St., Bedrock IL 26941\n",
    "coreytaylor@bogusemail.com\n",
    "\n",
    "Robert Wilks\n",
    "481-555-5835\n",
    "573 Elm St., Sunnydale IL 47182\n",
    "robertwilks@bogusemail.com\n",
    "\n",
    "Travis Jackson\n",
    "365-555-8287\n",
    "851 Lake St., Metropolis PA 22772\n",
    "travisjackson@bogusemail.com\n",
    "\n",
    "Travis Jackson\n",
    "911-555-7535\n",
    "489 Oak St., Atlantis HI 73725\n",
    "travisjackson@bogusemail.com\n",
    "\n",
    "Laura Wilks\n",
    "681-555-2460\n",
    "371 Pearl St., Smalltown SC 47466\n",
    "laurawilks@bogusemail.com\n",
    "\n",
    "Neil Arnold\n",
    "274-555-9800\n",
    "504 Oak St., Faketown PA 73860\n",
    "neilarnold@bogusemail.com\n",
    "\n",
    "Linda Johnson\n",
    "800-555-1372\n",
    "667 High St., Balmora IN 82473\n",
    "lindajohnson@bogusemail.com\n",
    "\n",
    "Jennifer Wilson\n",
    "300-555-7821\n",
    "266 Pine St., Westworld DC 58720\n",
    "jenniferwilson@bogusemail.com\n",
    "\n",
    "Nicole White\n",
    "133-555-3889\n",
    "276 High St., Braavos‎ IL 57764\n",
    "nicolewhite@bogusemail.com\n",
    "\n",
    "Maria Arnold\n",
    "705-555-6863\n",
    "491 Elm St., Metropolis PA 31836\n",
    "mariaarnold@bogusemail.com\n",
    "\n",
    "Jennifer Davis\n",
    "215-555-9449\n",
    "859 Cedar St., Old-town MT 31169\n",
    "jenniferdavis@bogusemail.com\n",
    "\n",
    "Mary Patterson\n",
    "988-555-6112\n",
    "956 Park St., Valyria CT 81541\n",
    "marypatterson@bogusemail.com\n",
    "\n",
    "Jane Stuart\n",
    "623-555-3006\n",
    "983 Oak St., Old-town RI 15445\n",
    "janestuart@bogusemail.com\n",
    "\n",
    "Robert Davis\n",
    "192-555-4977\n",
    "789 Maple St., Mordor IN 22215\n",
    "robertdavis@bogusemail.com\n",
    "\n",
    "James Taylor\n",
    "178-555-4899\n",
    "439 Hill St., Olympus NV 39308\n",
    "jamestaylor@bogusemail.com\n",
    "\n",
    "Eric Stuart\n",
    "952-555-3089\n",
    "777 High St., King's Landing AZ 16547\n",
    "johnstuart@bogusemail.com\n",
    "\n",
    "Charles Miller\n",
    "900-555-6426\n",
    "207 Washington St., Blackwater MA 24886\n",
    "charlesmiller@bogusemail.com\n",
    "'''"
   ]
  },
  {
   "cell_type": "markdown",
   "metadata": {},
   "source": [
    "## lets match our phone numbers "
   ]
  },
  {
   "cell_type": "code",
   "execution_count": 200,
   "metadata": {
    "scrolled": true
   },
   "outputs": [
    {
     "name": "stdout",
     "output_type": "stream",
     "text": [
      "<_sre.SRE_Match object; span=(13, 25), match='615-555-7164'>\n",
      "<_sre.SRE_Match object; span=(103, 115), match='800-555-5669'>\n",
      "<_sre.SRE_Match object; span=(192, 204), match='560-555-5153'>\n",
      "<_sre.SRE_Match object; span=(282, 294), match='900-555-9340'>\n",
      "<_sre.SRE_Match object; span=(379, 391), match='714-555-7405'>\n",
      "<_sre.SRE_Match object; span=(468, 480), match='800-555-6771'>\n",
      "<_sre.SRE_Match object; span=(558, 570), match='783-555-4799'>\n",
      "<_sre.SRE_Match object; span=(648, 660), match='516-555-4615'>\n",
      "<_sre.SRE_Match object; span=(741, 753), match='127-555-1867'>\n",
      "<_sre.SRE_Match object; span=(830, 842), match='608-555-4938'>\n",
      "<_sre.SRE_Match object; span=(916, 928), match='568-555-6051'>\n",
      "<_sre.SRE_Match object; span=(1004, 1016), match='292-555-1875'>\n",
      "<_sre.SRE_Match object; span=(1092, 1104), match='900-555-3205'>\n",
      "<_sre.SRE_Match object; span=(1181, 1193), match='614-555-1166'>\n",
      "<_sre.SRE_Match object; span=(1270, 1282), match='530-555-2676'>\n",
      "<_sre.SRE_Match object; span=(1356, 1368), match='470-555-2750'>\n",
      "<_sre.SRE_Match object; span=(1440, 1452), match='800-555-6089'>\n",
      "<_sre.SRE_Match object; span=(1527, 1539), match='880-555-8319'>\n",
      "<_sre.SRE_Match object; span=(1615, 1627), match='777-555-8378'>\n",
      "<_sre.SRE_Match object; span=(1698, 1710), match='998-555-7385'>\n",
      "<_sre.SRE_Match object; span=(1791, 1803), match='800-555-7100'>\n",
      "<_sre.SRE_Match object; span=(1875, 1887), match='903-555-8277'>\n",
      "<_sre.SRE_Match object; span=(1963, 1975), match='196-555-5674'>\n",
      "<_sre.SRE_Match object; span=(2052, 2064), match='900-555-5118'>\n",
      "<_sre.SRE_Match object; span=(2136, 2148), match='905-555-1630'>\n",
      "<_sre.SRE_Match object; span=(2217, 2229), match='203-555-3475'>\n",
      "<_sre.SRE_Match object; span=(2301, 2313), match='884-555-8444'>\n",
      "<_sre.SRE_Match object; span=(2388, 2400), match='904-555-8559'>\n",
      "<_sre.SRE_Match object; span=(2476, 2488), match='889-555-7393'>\n",
      "<_sre.SRE_Match object; span=(2563, 2575), match='195-555-2405'>\n",
      "<_sre.SRE_Match object; span=(2648, 2660), match='321-555-9053'>\n",
      "<_sre.SRE_Match object; span=(2735, 2747), match='133-555-1711'>\n",
      "<_sre.SRE_Match object; span=(2827, 2839), match='900-555-5428'>\n",
      "<_sre.SRE_Match object; span=(2916, 2928), match='760-555-7147'>\n",
      "<_sre.SRE_Match object; span=(3013, 3025), match='391-555-6621'>\n",
      "<_sre.SRE_Match object; span=(3104, 3116), match='932-555-7724'>\n",
      "<_sre.SRE_Match object; span=(3193, 3205), match='609-555-7908'>\n",
      "<_sre.SRE_Match object; span=(3285, 3297), match='800-555-8810'>\n",
      "<_sre.SRE_Match object; span=(3373, 3385), match='149-555-7657'>\n",
      "<_sre.SRE_Match object; span=(3453, 3465), match='130-555-9709'>\n",
      "<_sre.SRE_Match object; span=(3536, 3548), match='143-555-9295'>\n",
      "<_sre.SRE_Match object; span=(3625, 3637), match='903-555-9878'>\n",
      "<_sre.SRE_Match object; span=(3715, 3727), match='574-555-3194'>\n",
      "<_sre.SRE_Match object; span=(3803, 3815), match='496-555-7533'>\n",
      "<_sre.SRE_Match object; span=(3888, 3900), match='210-555-3757'>\n",
      "<_sre.SRE_Match object; span=(3972, 3984), match='900-555-9598'>\n",
      "<_sre.SRE_Match object; span=(4057, 4069), match='866-555-9844'>\n",
      "<_sre.SRE_Match object; span=(4141, 4153), match='669-555-7159'>\n",
      "<_sre.SRE_Match object; span=(4226, 4238), match='152-555-7417'>\n",
      "<_sre.SRE_Match object; span=(4318, 4330), match='893-555-9832'>\n",
      "<_sre.SRE_Match object; span=(4408, 4420), match='217-555-7123'>\n",
      "<_sre.SRE_Match object; span=(4499, 4511), match='786-555-6544'>\n",
      "<_sre.SRE_Match object; span=(4589, 4601), match='780-555-2574'>\n",
      "<_sre.SRE_Match object; span=(4677, 4689), match='926-555-8735'>\n",
      "<_sre.SRE_Match object; span=(4763, 4775), match='895-555-3539'>\n",
      "<_sre.SRE_Match object; span=(4860, 4872), match='874-555-3949'>\n",
      "<_sre.SRE_Match object; span=(4946, 4958), match='800-555-2420'>\n",
      "<_sre.SRE_Match object; span=(5035, 5047), match='936-555-6340'>\n",
      "<_sre.SRE_Match object; span=(5124, 5136), match='372-555-9809'>\n",
      "<_sre.SRE_Match object; span=(5211, 5223), match='890-555-5618'>\n",
      "<_sre.SRE_Match object; span=(5293, 5305), match='670-555-3005'>\n",
      "<_sre.SRE_Match object; span=(5383, 5395), match='509-555-5997'>\n",
      "<_sre.SRE_Match object; span=(5476, 5488), match='721-555-5632'>\n",
      "<_sre.SRE_Match object; span=(5567, 5579), match='900-555-3567'>\n",
      "<_sre.SRE_Match object; span=(5657, 5669), match='147-555-6830'>\n",
      "<_sre.SRE_Match object; span=(5746, 5758), match='582-555-3426'>\n",
      "<_sre.SRE_Match object; span=(5831, 5843), match='400-555-1706'>\n",
      "<_sre.SRE_Match object; span=(5922, 5934), match='525-555-1793'>\n",
      "<_sre.SRE_Match object; span=(6012, 6024), match='317-555-6700'>\n",
      "<_sre.SRE_Match object; span=(6100, 6112), match='974-555-8301'>\n",
      "<_sre.SRE_Match object; span=(6190, 6202), match='800-555-3216'>\n",
      "<_sre.SRE_Match object; span=(6274, 6286), match='746-555-4094'>\n",
      "<_sre.SRE_Match object; span=(6361, 6373), match='922-555-1773'>\n",
      "<_sre.SRE_Match object; span=(6446, 6458), match='711-555-4427'>\n",
      "<_sre.SRE_Match object; span=(6531, 6543), match='355-555-1872'>\n",
      "<_sre.SRE_Match object; span=(6620, 6632), match='852-555-6521'>\n",
      "<_sre.SRE_Match object; span=(6712, 6724), match='691-555-5773'>\n",
      "<_sre.SRE_Match object; span=(6804, 6816), match='332-555-5441'>\n",
      "<_sre.SRE_Match object; span=(6890, 6902), match='900-555-7755'>\n",
      "<_sre.SRE_Match object; span=(6972, 6984), match='379-555-3685'>\n",
      "<_sre.SRE_Match object; span=(7062, 7074), match='127-555-9682'>\n",
      "<_sre.SRE_Match object; span=(7153, 7165), match='789-555-7032'>\n",
      "<_sre.SRE_Match object; span=(7244, 7256), match='783-555-5135'>\n",
      "<_sre.SRE_Match object; span=(7337, 7349), match='315-555-6507'>\n",
      "<_sre.SRE_Match object; span=(7428, 7440), match='481-555-5835'>\n",
      "<_sre.SRE_Match object; span=(7516, 7528), match='365-555-8287'>\n",
      "<_sre.SRE_Match object; span=(7608, 7620), match='911-555-7535'>\n",
      "<_sre.SRE_Match object; span=(7694, 7706), match='681-555-2460'>\n",
      "<_sre.SRE_Match object; span=(7780, 7792), match='274-555-9800'>\n",
      "<_sre.SRE_Match object; span=(7865, 7877), match='800-555-1372'>\n",
      "<_sre.SRE_Match object; span=(7954, 7966), match='300-555-7821'>\n",
      "<_sre.SRE_Match object; span=(8044, 8056), match='133-555-3889'>\n",
      "<_sre.SRE_Match object; span=(8130, 8142), match='705-555-6863'>\n",
      "<_sre.SRE_Match object; span=(8219, 8231), match='215-555-9449'>\n",
      "<_sre.SRE_Match object; span=(8310, 8322), match='988-555-6112'>\n",
      "<_sre.SRE_Match object; span=(8396, 8408), match='623-555-3006'>\n",
      "<_sre.SRE_Match object; span=(8480, 8492), match='192-555-4977'>\n",
      "<_sre.SRE_Match object; span=(8565, 8577), match='178-555-4899'>\n",
      "<_sre.SRE_Match object; span=(8649, 8661), match='952-555-3089'>\n",
      "<_sre.SRE_Match object; span=(8742, 8754), match='900-555-6426'>\n"
     ]
    }
   ],
   "source": [
    "pattern=re.compile(r'\\d\\d\\d.\\d\\d\\d.\\d\\d\\d\\d')\n",
    "matches=pattern.finditer(text_to_search )\n",
    "\n",
    "for match in matches:\n",
    "    print(match)"
   ]
  },
  {
   "cell_type": "code",
   "execution_count": null,
   "metadata": {},
   "outputs": [],
   "source": [
    "pattern=re.compile(r'\\d\\d\\d.\\d\\d\\d.\\d\\d\\d\\d')\n",
    "matches=pattern.finditer(text_to_search )\n",
    "\n",
    "for match in matches:\n",
    "    print(match)"
   ]
  },
  {
   "cell_type": "markdown",
   "metadata": {},
   "source": [
    "## lets say we have three types of separators and we want only two of them the regualar method `.` will get you all the types of separators "
   ]
  },
  {
   "cell_type": "code",
   "execution_count": 218,
   "metadata": {},
   "outputs": [],
   "source": [
    "text_to_search='''\n",
    "615-555-7164 \n",
    "\n",
    "615.555.7164 \n",
    "\n",
    "615*555*7164\n",
    "'''"
   ]
  },
  {
   "cell_type": "code",
   "execution_count": 220,
   "metadata": {},
   "outputs": [
    {
     "name": "stdout",
     "output_type": "stream",
     "text": [
      "<_sre.SRE_Match object; span=(1, 13), match='615-555-7164'>\n",
      "<_sre.SRE_Match object; span=(16, 28), match='615.555.7164'>\n",
      "<_sre.SRE_Match object; span=(31, 43), match='615*555*7164'>\n"
     ]
    }
   ],
   "source": [
    "pattern=re.compile(r'\\d\\d\\d.\\d\\d\\d.\\d\\d\\d\\d')\n",
    "matches=pattern.finditer(text_to_search )\n",
    "\n",
    "for match in matches:\n",
    "    print(match)"
   ]
  },
  {
   "cell_type": "markdown",
   "metadata": {},
   "source": []
  },
  {
   "cell_type": "markdown",
   "metadata": {},
   "source": [
    "### what if we want to match only a dash or dot or both we use `[]` if we want to match `*` and `-` we need to write this `[*-]`\n"
   ]
  },
  {
   "cell_type": "code",
   "execution_count": 83,
   "metadata": {},
   "outputs": [],
   "source": [
    "text_to_search='''\n",
    "615-555-7164 \n",
    "\n",
    "615.555.7164 \n",
    "\n",
    "615*555*7164\n",
    "'''"
   ]
  },
  {
   "cell_type": "code",
   "execution_count": 84,
   "metadata": {},
   "outputs": [
    {
     "name": "stdout",
     "output_type": "stream",
     "text": [
      "<re.Match object; span=(1, 13), match='615-555-7164'>\n",
      "<re.Match object; span=(31, 43), match='615*555*7164'>\n"
     ]
    }
   ],
   "source": [
    "\n",
    "pattern=re.compile(r'\\d\\d\\d[-*]\\d\\d\\d[-*]\\d\\d\\d\\d')\n",
    "matches=pattern.finditer(text_to_search )\n",
    "\n",
    "for match in matches:\n",
    "    print(match)"
   ]
  },
  {
   "cell_type": "code",
   "execution_count": 355,
   "metadata": {},
   "outputs": [
    {
     "name": "stdout",
     "output_type": "stream",
     "text": [
      "<_sre.SRE_Match object; span=(1, 13), match='615-555-7164'>\n",
      "<_sre.SRE_Match object; span=(16, 28), match='615.555.7164'>\n"
     ]
    }
   ],
   "source": [
    "pattern = re.compile(r'\\d\\d\\d[-.]\\d\\d\\d[-.]\\d\\d\\d\\d')\n",
    "matches = pattern.finditer(text_to_search )\n",
    "\n",
    "for match in matches:\n",
    "    print(match)"
   ]
  },
  {
   "cell_type": "code",
   "execution_count": 358,
   "metadata": {},
   "outputs": [
    {
     "name": "stdout",
     "output_type": "stream",
     "text": [
      "<_sre.SRE_Match object; span=(1, 13), match='615-555-7164'>\n"
     ]
    }
   ],
   "source": [
    "\n",
    "pattern=re.compile(r'\\d\\d\\d[-.]\\d\\d\\d[-*]\\d\\d\\d\\d')\n",
    "matches=pattern.finditer(text_to_search )\n",
    "\n",
    "for match in matches:\n",
    "    print(match)"
   ]
  },
  {
   "cell_type": "markdown",
   "metadata": {},
   "source": [
    "## what if we have want to match a numbers starts with `800` or `900`"
   ]
  },
  {
   "cell_type": "code",
   "execution_count": 224,
   "metadata": {},
   "outputs": [],
   "source": [
    "text_to_search='''\n",
    "615-555-7164 \n",
    "\n",
    "615.555.7164 \n",
    "\n",
    "800.547.7164 \n",
    "\n",
    "900.235.7164 \n",
    "\n",
    "800*147*7164\n",
    "'''"
   ]
  },
  {
   "cell_type": "markdown",
   "metadata": {},
   "source": [
    "first the digit starting will be 8 or 9 \n",
    "\n",
    "Second the other two digits becuase we have three digits will be 0 and 0\n",
    "\n",
    "this can be done `[89]00` instead of `\\d\\d\\d`"
   ]
  },
  {
   "cell_type": "code",
   "execution_count": 85,
   "metadata": {},
   "outputs": [],
   "source": [
    "\n",
    "pattern=re.compile(r'[89]00[-.]\\d\\d\\d[-.]\\d\\d\\d\\d')\n",
    "matches=pattern.finditer(text_to_search )\n",
    "\n",
    "for match in matches:\n",
    "    print(match)"
   ]
  },
  {
   "cell_type": "code",
   "execution_count": 86,
   "metadata": {},
   "outputs": [],
   "source": [
    "We ='5'\n",
    "orange='2'\n",
    "vodafone='0'\n",
    "ets='1'"
   ]
  },
  {
   "cell_type": "code",
   "execution_count": 87,
   "metadata": {},
   "outputs": [],
   "source": [
    "text_to_search='''\n",
    "10-681-70386 \n",
    "\n",
    "12-457-36587 \n",
    "\n",
    "11-147-36975 \n",
    "\n",
    "15-579-39574 \n",
    "\n",
    "15-127-96587 \n",
    "\n",
    "10-234-12547 \n",
    "'''"
   ]
  },
  {
   "cell_type": "code",
   "execution_count": 88,
   "metadata": {},
   "outputs": [
    {
     "name": "stdout",
     "output_type": "stream",
     "text": [
      "<re.Match object; span=(46, 58), match='15-579-39574'>\n",
      "<re.Match object; span=(61, 73), match='15-127-96587'>\n"
     ]
    }
   ],
   "source": [
    "\n",
    "pattern=re.compile(r'1[5][-.]\\d\\d\\d[-.]\\d\\d\\d\\d\\d')\n",
    "matches=pattern.finditer(text_to_search )\n",
    "\n",
    "for match in matches:\n",
    "    print(match)"
   ]
  },
  {
   "cell_type": "code",
   "execution_count": 90,
   "metadata": {},
   "outputs": [
    {
     "name": "stderr",
     "output_type": "stream",
     "text": [
      "<>:1: SyntaxWarning: invalid escape sequence '\\ '\n",
      "<>:1: SyntaxWarning: invalid escape sequence '\\ '\n",
      "C:\\Users\\Mohamed Yasser\\AppData\\Local\\Temp\\ipykernel_3276\\3805605336.py:1: SyntaxWarning: invalid escape sequence '\\ '\n",
      "  text_to_search ='''\n"
     ]
    }
   ],
   "source": [
    "text_to_search ='''\n",
    "abcdefghijklmnopqurtuvwxyz\n",
    "ABCDEFGHIJKLMNOPQRSTUVWXYZ\n",
    "1234567890\n",
    "Ha HaHa\n",
    "MetaCharacters (Need to be escaped):\n",
    ". ^ $ * + ? { } [ ] \\ | ( )\n",
    "coreyms.com\n",
    "321-555-4321\n",
    "123.555.1234\n",
    "123*555*1234\n",
    "800-555-1234\n",
    "900-555-1234\n",
    "Mr. Schafer\n",
    "Mr Smith\n",
    "Ms Davis\n",
    "Mrs. Robinson\n",
    "Mr. T\n",
    "'''"
   ]
  },
  {
   "cell_type": "markdown",
   "metadata": {},
   "source": [
    "## what if we want to match numbers with ranges between 1 and 5 for example"
   ]
  },
  {
   "cell_type": "code",
   "execution_count": 91,
   "metadata": {
    "scrolled": true
   },
   "outputs": [
    {
     "name": "stdout",
     "output_type": "stream",
     "text": [
      "<re.Match object; span=(55, 56), match='1'>\n",
      "<re.Match object; span=(56, 57), match='2'>\n",
      "<re.Match object; span=(57, 58), match='3'>\n",
      "<re.Match object; span=(58, 59), match='4'>\n",
      "<re.Match object; span=(59, 60), match='5'>\n",
      "<re.Match object; span=(151, 152), match='3'>\n",
      "<re.Match object; span=(152, 153), match='2'>\n",
      "<re.Match object; span=(153, 154), match='1'>\n",
      "<re.Match object; span=(155, 156), match='5'>\n",
      "<re.Match object; span=(156, 157), match='5'>\n",
      "<re.Match object; span=(157, 158), match='5'>\n",
      "<re.Match object; span=(159, 160), match='4'>\n",
      "<re.Match object; span=(160, 161), match='3'>\n",
      "<re.Match object; span=(161, 162), match='2'>\n",
      "<re.Match object; span=(162, 163), match='1'>\n",
      "<re.Match object; span=(164, 165), match='1'>\n",
      "<re.Match object; span=(165, 166), match='2'>\n",
      "<re.Match object; span=(166, 167), match='3'>\n",
      "<re.Match object; span=(168, 169), match='5'>\n",
      "<re.Match object; span=(169, 170), match='5'>\n",
      "<re.Match object; span=(170, 171), match='5'>\n",
      "<re.Match object; span=(172, 173), match='1'>\n",
      "<re.Match object; span=(173, 174), match='2'>\n",
      "<re.Match object; span=(174, 175), match='3'>\n",
      "<re.Match object; span=(175, 176), match='4'>\n",
      "<re.Match object; span=(177, 178), match='1'>\n",
      "<re.Match object; span=(178, 179), match='2'>\n",
      "<re.Match object; span=(179, 180), match='3'>\n",
      "<re.Match object; span=(181, 182), match='5'>\n",
      "<re.Match object; span=(182, 183), match='5'>\n",
      "<re.Match object; span=(183, 184), match='5'>\n",
      "<re.Match object; span=(185, 186), match='1'>\n",
      "<re.Match object; span=(186, 187), match='2'>\n",
      "<re.Match object; span=(187, 188), match='3'>\n",
      "<re.Match object; span=(188, 189), match='4'>\n",
      "<re.Match object; span=(194, 195), match='5'>\n",
      "<re.Match object; span=(195, 196), match='5'>\n",
      "<re.Match object; span=(196, 197), match='5'>\n",
      "<re.Match object; span=(198, 199), match='1'>\n",
      "<re.Match object; span=(199, 200), match='2'>\n",
      "<re.Match object; span=(200, 201), match='3'>\n",
      "<re.Match object; span=(201, 202), match='4'>\n",
      "<re.Match object; span=(207, 208), match='5'>\n",
      "<re.Match object; span=(208, 209), match='5'>\n",
      "<re.Match object; span=(209, 210), match='5'>\n",
      "<re.Match object; span=(211, 212), match='1'>\n",
      "<re.Match object; span=(212, 213), match='2'>\n",
      "<re.Match object; span=(213, 214), match='3'>\n",
      "<re.Match object; span=(214, 215), match='4'>\n"
     ]
    }
   ],
   "source": [
    "pattern=re.compile(r'[1-5]')\n",
    "matches=pattern.finditer(text_to_search )\n",
    "\n",
    "for match in matches:\n",
    "    print(match)"
   ]
  },
  {
   "cell_type": "code",
   "execution_count": 231,
   "metadata": {
    "scrolled": true
   },
   "outputs": [
    {
     "name": "stdout",
     "output_type": "stream",
     "text": [
      "<_sre.SRE_Match object; span=(1, 2), match='a'>\n",
      "<_sre.SRE_Match object; span=(2, 3), match='b'>\n",
      "<_sre.SRE_Match object; span=(3, 4), match='c'>\n",
      "<_sre.SRE_Match object; span=(4, 5), match='d'>\n",
      "<_sre.SRE_Match object; span=(5, 6), match='e'>\n",
      "<_sre.SRE_Match object; span=(6, 7), match='f'>\n",
      "<_sre.SRE_Match object; span=(7, 8), match='g'>\n",
      "<_sre.SRE_Match object; span=(8, 9), match='h'>\n",
      "<_sre.SRE_Match object; span=(9, 10), match='i'>\n",
      "<_sre.SRE_Match object; span=(10, 11), match='j'>\n",
      "<_sre.SRE_Match object; span=(11, 12), match='k'>\n",
      "<_sre.SRE_Match object; span=(12, 13), match='l'>\n",
      "<_sre.SRE_Match object; span=(13, 14), match='m'>\n",
      "<_sre.SRE_Match object; span=(14, 15), match='n'>\n",
      "<_sre.SRE_Match object; span=(15, 16), match='o'>\n",
      "<_sre.SRE_Match object; span=(16, 17), match='p'>\n",
      "<_sre.SRE_Match object; span=(17, 18), match='q'>\n",
      "<_sre.SRE_Match object; span=(18, 19), match='u'>\n",
      "<_sre.SRE_Match object; span=(19, 20), match='r'>\n",
      "<_sre.SRE_Match object; span=(20, 21), match='t'>\n",
      "<_sre.SRE_Match object; span=(21, 22), match='u'>\n",
      "<_sre.SRE_Match object; span=(22, 23), match='v'>\n",
      "<_sre.SRE_Match object; span=(23, 24), match='w'>\n",
      "<_sre.SRE_Match object; span=(24, 25), match='x'>\n",
      "<_sre.SRE_Match object; span=(25, 26), match='y'>\n",
      "<_sre.SRE_Match object; span=(26, 27), match='z'>\n",
      "<_sre.SRE_Match object; span=(67, 68), match='a'>\n",
      "<_sre.SRE_Match object; span=(70, 71), match='a'>\n",
      "<_sre.SRE_Match object; span=(72, 73), match='a'>\n",
      "<_sre.SRE_Match object; span=(75, 76), match='e'>\n",
      "<_sre.SRE_Match object; span=(76, 77), match='t'>\n",
      "<_sre.SRE_Match object; span=(77, 78), match='a'>\n",
      "<_sre.SRE_Match object; span=(79, 80), match='h'>\n",
      "<_sre.SRE_Match object; span=(80, 81), match='a'>\n",
      "<_sre.SRE_Match object; span=(81, 82), match='r'>\n",
      "<_sre.SRE_Match object; span=(82, 83), match='a'>\n",
      "<_sre.SRE_Match object; span=(83, 84), match='c'>\n",
      "<_sre.SRE_Match object; span=(84, 85), match='t'>\n",
      "<_sre.SRE_Match object; span=(85, 86), match='e'>\n",
      "<_sre.SRE_Match object; span=(86, 87), match='r'>\n",
      "<_sre.SRE_Match object; span=(87, 88), match='s'>\n",
      "<_sre.SRE_Match object; span=(91, 92), match='e'>\n",
      "<_sre.SRE_Match object; span=(92, 93), match='e'>\n",
      "<_sre.SRE_Match object; span=(93, 94), match='d'>\n",
      "<_sre.SRE_Match object; span=(95, 96), match='t'>\n",
      "<_sre.SRE_Match object; span=(96, 97), match='o'>\n",
      "<_sre.SRE_Match object; span=(98, 99), match='b'>\n",
      "<_sre.SRE_Match object; span=(99, 100), match='e'>\n",
      "<_sre.SRE_Match object; span=(101, 102), match='e'>\n",
      "<_sre.SRE_Match object; span=(102, 103), match='s'>\n",
      "<_sre.SRE_Match object; span=(103, 104), match='c'>\n",
      "<_sre.SRE_Match object; span=(104, 105), match='a'>\n",
      "<_sre.SRE_Match object; span=(105, 106), match='p'>\n",
      "<_sre.SRE_Match object; span=(106, 107), match='e'>\n",
      "<_sre.SRE_Match object; span=(107, 108), match='d'>\n",
      "<_sre.SRE_Match object; span=(139, 140), match='c'>\n",
      "<_sre.SRE_Match object; span=(140, 141), match='o'>\n",
      "<_sre.SRE_Match object; span=(141, 142), match='r'>\n",
      "<_sre.SRE_Match object; span=(142, 143), match='e'>\n",
      "<_sre.SRE_Match object; span=(143, 144), match='y'>\n",
      "<_sre.SRE_Match object; span=(144, 145), match='m'>\n",
      "<_sre.SRE_Match object; span=(145, 146), match='s'>\n",
      "<_sre.SRE_Match object; span=(147, 148), match='c'>\n",
      "<_sre.SRE_Match object; span=(148, 149), match='o'>\n",
      "<_sre.SRE_Match object; span=(149, 150), match='m'>\n",
      "<_sre.SRE_Match object; span=(217, 218), match='r'>\n",
      "<_sre.SRE_Match object; span=(221, 222), match='c'>\n",
      "<_sre.SRE_Match object; span=(222, 223), match='h'>\n",
      "<_sre.SRE_Match object; span=(223, 224), match='a'>\n",
      "<_sre.SRE_Match object; span=(224, 225), match='f'>\n",
      "<_sre.SRE_Match object; span=(225, 226), match='e'>\n",
      "<_sre.SRE_Match object; span=(226, 227), match='r'>\n",
      "<_sre.SRE_Match object; span=(229, 230), match='r'>\n",
      "<_sre.SRE_Match object; span=(232, 233), match='m'>\n",
      "<_sre.SRE_Match object; span=(233, 234), match='i'>\n",
      "<_sre.SRE_Match object; span=(234, 235), match='t'>\n",
      "<_sre.SRE_Match object; span=(235, 236), match='h'>\n",
      "<_sre.SRE_Match object; span=(238, 239), match='s'>\n",
      "<_sre.SRE_Match object; span=(241, 242), match='a'>\n",
      "<_sre.SRE_Match object; span=(242, 243), match='v'>\n",
      "<_sre.SRE_Match object; span=(243, 244), match='i'>\n",
      "<_sre.SRE_Match object; span=(244, 245), match='s'>\n",
      "<_sre.SRE_Match object; span=(247, 248), match='r'>\n",
      "<_sre.SRE_Match object; span=(248, 249), match='s'>\n",
      "<_sre.SRE_Match object; span=(252, 253), match='o'>\n",
      "<_sre.SRE_Match object; span=(253, 254), match='b'>\n",
      "<_sre.SRE_Match object; span=(254, 255), match='i'>\n",
      "<_sre.SRE_Match object; span=(255, 256), match='n'>\n",
      "<_sre.SRE_Match object; span=(256, 257), match='s'>\n",
      "<_sre.SRE_Match object; span=(257, 258), match='o'>\n",
      "<_sre.SRE_Match object; span=(258, 259), match='n'>\n",
      "<_sre.SRE_Match object; span=(261, 262), match='r'>\n"
     ]
    }
   ],
   "source": [
    "\n",
    "pattern=re.compile(r'[a-z]')\n",
    "matches=pattern.finditer(text_to_search )\n",
    "\n",
    "for match in matches:\n",
    "    print(match)"
   ]
  },
  {
   "cell_type": "code",
   "execution_count": 92,
   "metadata": {},
   "outputs": [
    {
     "name": "stdout",
     "output_type": "stream",
     "text": [
      "<re.Match object; span=(1, 2), match='a'>\n",
      "<re.Match object; span=(2, 3), match='b'>\n",
      "<re.Match object; span=(3, 4), match='c'>\n",
      "<re.Match object; span=(4, 5), match='d'>\n",
      "<re.Match object; span=(5, 6), match='e'>\n",
      "<re.Match object; span=(6, 7), match='f'>\n",
      "<re.Match object; span=(7, 8), match='g'>\n",
      "<re.Match object; span=(8, 9), match='h'>\n",
      "<re.Match object; span=(9, 10), match='i'>\n",
      "<re.Match object; span=(10, 11), match='j'>\n",
      "<re.Match object; span=(11, 12), match='k'>\n",
      "<re.Match object; span=(12, 13), match='l'>\n",
      "<re.Match object; span=(13, 14), match='m'>\n",
      "<re.Match object; span=(14, 15), match='n'>\n",
      "<re.Match object; span=(15, 16), match='o'>\n",
      "<re.Match object; span=(16, 17), match='p'>\n",
      "<re.Match object; span=(17, 18), match='q'>\n",
      "<re.Match object; span=(18, 19), match='u'>\n",
      "<re.Match object; span=(19, 20), match='r'>\n",
      "<re.Match object; span=(20, 21), match='t'>\n",
      "<re.Match object; span=(21, 22), match='u'>\n",
      "<re.Match object; span=(22, 23), match='v'>\n",
      "<re.Match object; span=(23, 24), match='w'>\n",
      "<re.Match object; span=(24, 25), match='x'>\n",
      "<re.Match object; span=(25, 26), match='y'>\n",
      "<re.Match object; span=(26, 27), match='z'>\n",
      "<re.Match object; span=(28, 29), match='A'>\n",
      "<re.Match object; span=(29, 30), match='B'>\n",
      "<re.Match object; span=(30, 31), match='C'>\n",
      "<re.Match object; span=(31, 32), match='D'>\n",
      "<re.Match object; span=(32, 33), match='E'>\n",
      "<re.Match object; span=(33, 34), match='F'>\n",
      "<re.Match object; span=(34, 35), match='G'>\n",
      "<re.Match object; span=(35, 36), match='H'>\n",
      "<re.Match object; span=(36, 37), match='I'>\n",
      "<re.Match object; span=(37, 38), match='J'>\n",
      "<re.Match object; span=(38, 39), match='K'>\n",
      "<re.Match object; span=(39, 40), match='L'>\n",
      "<re.Match object; span=(40, 41), match='M'>\n",
      "<re.Match object; span=(41, 42), match='N'>\n",
      "<re.Match object; span=(42, 43), match='O'>\n",
      "<re.Match object; span=(43, 44), match='P'>\n",
      "<re.Match object; span=(44, 45), match='Q'>\n",
      "<re.Match object; span=(45, 46), match='R'>\n",
      "<re.Match object; span=(46, 47), match='S'>\n",
      "<re.Match object; span=(47, 48), match='T'>\n",
      "<re.Match object; span=(48, 49), match='U'>\n",
      "<re.Match object; span=(49, 50), match='V'>\n",
      "<re.Match object; span=(50, 51), match='W'>\n",
      "<re.Match object; span=(51, 52), match='X'>\n",
      "<re.Match object; span=(52, 53), match='Y'>\n",
      "<re.Match object; span=(53, 54), match='Z'>\n",
      "<re.Match object; span=(55, 56), match='1'>\n",
      "<re.Match object; span=(56, 57), match='2'>\n",
      "<re.Match object; span=(57, 58), match='3'>\n",
      "<re.Match object; span=(58, 59), match='4'>\n",
      "<re.Match object; span=(59, 60), match='5'>\n",
      "<re.Match object; span=(60, 61), match='6'>\n",
      "<re.Match object; span=(61, 62), match='7'>\n",
      "<re.Match object; span=(62, 63), match='8'>\n",
      "<re.Match object; span=(63, 64), match='9'>\n",
      "<re.Match object; span=(64, 65), match='0'>\n",
      "<re.Match object; span=(66, 67), match='H'>\n",
      "<re.Match object; span=(67, 68), match='a'>\n",
      "<re.Match object; span=(69, 70), match='H'>\n",
      "<re.Match object; span=(70, 71), match='a'>\n",
      "<re.Match object; span=(71, 72), match='H'>\n",
      "<re.Match object; span=(72, 73), match='a'>\n",
      "<re.Match object; span=(74, 75), match='M'>\n",
      "<re.Match object; span=(75, 76), match='e'>\n",
      "<re.Match object; span=(76, 77), match='t'>\n",
      "<re.Match object; span=(77, 78), match='a'>\n",
      "<re.Match object; span=(78, 79), match='C'>\n",
      "<re.Match object; span=(79, 80), match='h'>\n",
      "<re.Match object; span=(80, 81), match='a'>\n",
      "<re.Match object; span=(81, 82), match='r'>\n",
      "<re.Match object; span=(82, 83), match='a'>\n",
      "<re.Match object; span=(83, 84), match='c'>\n",
      "<re.Match object; span=(84, 85), match='t'>\n",
      "<re.Match object; span=(85, 86), match='e'>\n",
      "<re.Match object; span=(86, 87), match='r'>\n",
      "<re.Match object; span=(87, 88), match='s'>\n",
      "<re.Match object; span=(90, 91), match='N'>\n",
      "<re.Match object; span=(91, 92), match='e'>\n",
      "<re.Match object; span=(92, 93), match='e'>\n",
      "<re.Match object; span=(93, 94), match='d'>\n",
      "<re.Match object; span=(95, 96), match='t'>\n",
      "<re.Match object; span=(96, 97), match='o'>\n",
      "<re.Match object; span=(98, 99), match='b'>\n",
      "<re.Match object; span=(99, 100), match='e'>\n",
      "<re.Match object; span=(101, 102), match='e'>\n",
      "<re.Match object; span=(102, 103), match='s'>\n",
      "<re.Match object; span=(103, 104), match='c'>\n",
      "<re.Match object; span=(104, 105), match='a'>\n",
      "<re.Match object; span=(105, 106), match='p'>\n",
      "<re.Match object; span=(106, 107), match='e'>\n",
      "<re.Match object; span=(107, 108), match='d'>\n",
      "<re.Match object; span=(139, 140), match='c'>\n",
      "<re.Match object; span=(140, 141), match='o'>\n",
      "<re.Match object; span=(141, 142), match='r'>\n",
      "<re.Match object; span=(142, 143), match='e'>\n",
      "<re.Match object; span=(143, 144), match='y'>\n",
      "<re.Match object; span=(144, 145), match='m'>\n",
      "<re.Match object; span=(145, 146), match='s'>\n",
      "<re.Match object; span=(147, 148), match='c'>\n",
      "<re.Match object; span=(148, 149), match='o'>\n",
      "<re.Match object; span=(149, 150), match='m'>\n",
      "<re.Match object; span=(151, 152), match='3'>\n",
      "<re.Match object; span=(152, 153), match='2'>\n",
      "<re.Match object; span=(153, 154), match='1'>\n",
      "<re.Match object; span=(155, 156), match='5'>\n",
      "<re.Match object; span=(156, 157), match='5'>\n",
      "<re.Match object; span=(157, 158), match='5'>\n",
      "<re.Match object; span=(159, 160), match='4'>\n",
      "<re.Match object; span=(160, 161), match='3'>\n",
      "<re.Match object; span=(161, 162), match='2'>\n",
      "<re.Match object; span=(162, 163), match='1'>\n",
      "<re.Match object; span=(164, 165), match='1'>\n",
      "<re.Match object; span=(165, 166), match='2'>\n",
      "<re.Match object; span=(166, 167), match='3'>\n",
      "<re.Match object; span=(168, 169), match='5'>\n",
      "<re.Match object; span=(169, 170), match='5'>\n",
      "<re.Match object; span=(170, 171), match='5'>\n",
      "<re.Match object; span=(172, 173), match='1'>\n",
      "<re.Match object; span=(173, 174), match='2'>\n",
      "<re.Match object; span=(174, 175), match='3'>\n",
      "<re.Match object; span=(175, 176), match='4'>\n",
      "<re.Match object; span=(177, 178), match='1'>\n",
      "<re.Match object; span=(178, 179), match='2'>\n",
      "<re.Match object; span=(179, 180), match='3'>\n",
      "<re.Match object; span=(181, 182), match='5'>\n",
      "<re.Match object; span=(182, 183), match='5'>\n",
      "<re.Match object; span=(183, 184), match='5'>\n",
      "<re.Match object; span=(185, 186), match='1'>\n",
      "<re.Match object; span=(186, 187), match='2'>\n",
      "<re.Match object; span=(187, 188), match='3'>\n",
      "<re.Match object; span=(188, 189), match='4'>\n",
      "<re.Match object; span=(190, 191), match='8'>\n",
      "<re.Match object; span=(191, 192), match='0'>\n",
      "<re.Match object; span=(192, 193), match='0'>\n",
      "<re.Match object; span=(194, 195), match='5'>\n",
      "<re.Match object; span=(195, 196), match='5'>\n",
      "<re.Match object; span=(196, 197), match='5'>\n",
      "<re.Match object; span=(198, 199), match='1'>\n",
      "<re.Match object; span=(199, 200), match='2'>\n",
      "<re.Match object; span=(200, 201), match='3'>\n",
      "<re.Match object; span=(201, 202), match='4'>\n",
      "<re.Match object; span=(203, 204), match='9'>\n",
      "<re.Match object; span=(204, 205), match='0'>\n",
      "<re.Match object; span=(205, 206), match='0'>\n",
      "<re.Match object; span=(207, 208), match='5'>\n",
      "<re.Match object; span=(208, 209), match='5'>\n",
      "<re.Match object; span=(209, 210), match='5'>\n",
      "<re.Match object; span=(211, 212), match='1'>\n",
      "<re.Match object; span=(212, 213), match='2'>\n",
      "<re.Match object; span=(213, 214), match='3'>\n",
      "<re.Match object; span=(214, 215), match='4'>\n",
      "<re.Match object; span=(216, 217), match='M'>\n",
      "<re.Match object; span=(217, 218), match='r'>\n",
      "<re.Match object; span=(220, 221), match='S'>\n",
      "<re.Match object; span=(221, 222), match='c'>\n",
      "<re.Match object; span=(222, 223), match='h'>\n",
      "<re.Match object; span=(223, 224), match='a'>\n",
      "<re.Match object; span=(224, 225), match='f'>\n",
      "<re.Match object; span=(225, 226), match='e'>\n",
      "<re.Match object; span=(226, 227), match='r'>\n",
      "<re.Match object; span=(228, 229), match='M'>\n",
      "<re.Match object; span=(229, 230), match='r'>\n",
      "<re.Match object; span=(231, 232), match='S'>\n",
      "<re.Match object; span=(232, 233), match='m'>\n",
      "<re.Match object; span=(233, 234), match='i'>\n",
      "<re.Match object; span=(234, 235), match='t'>\n",
      "<re.Match object; span=(235, 236), match='h'>\n",
      "<re.Match object; span=(237, 238), match='M'>\n",
      "<re.Match object; span=(238, 239), match='s'>\n",
      "<re.Match object; span=(240, 241), match='D'>\n",
      "<re.Match object; span=(241, 242), match='a'>\n",
      "<re.Match object; span=(242, 243), match='v'>\n",
      "<re.Match object; span=(243, 244), match='i'>\n",
      "<re.Match object; span=(244, 245), match='s'>\n",
      "<re.Match object; span=(246, 247), match='M'>\n",
      "<re.Match object; span=(247, 248), match='r'>\n",
      "<re.Match object; span=(248, 249), match='s'>\n",
      "<re.Match object; span=(251, 252), match='R'>\n",
      "<re.Match object; span=(252, 253), match='o'>\n",
      "<re.Match object; span=(253, 254), match='b'>\n",
      "<re.Match object; span=(254, 255), match='i'>\n",
      "<re.Match object; span=(255, 256), match='n'>\n",
      "<re.Match object; span=(256, 257), match='s'>\n",
      "<re.Match object; span=(257, 258), match='o'>\n",
      "<re.Match object; span=(258, 259), match='n'>\n",
      "<re.Match object; span=(260, 261), match='M'>\n",
      "<re.Match object; span=(261, 262), match='r'>\n",
      "<re.Match object; span=(264, 265), match='T'>\n"
     ]
    }
   ],
   "source": [
    "pattern = re.compile(r'[a-zA-Z0-9]')\n",
    "matches = pattern.finditer(text_to_search )\n",
    "\n",
    "for match in matches:\n",
    "    print(match)"
   ]
  },
  {
   "cell_type": "markdown",
   "metadata": {},
   "source": [
    "## lets say we want to find any thing not a lower case or upper case litter we can make this by `[^a-zA-Z]`\n",
    "\n",
    "#### donot confuse yourself with `^starting` "
   ]
  },
  {
   "cell_type": "code",
   "execution_count": null,
   "metadata": {},
   "outputs": [],
   "source": [
    "text_to_search ='''\n",
    "abcdefghijklmnopqurtuvwxyz\n",
    "ABCDEFGHIJKLMNOPQRSTUVWXYZ\n",
    "1234567890\n",
    "Ha HaHa\n",
    "MetaCharacters (Need to be escaped):\n",
    ". ^ $ * + ? { } [ ] \\ | ( )\n",
    "coreyms.com\n",
    "321-555-4321\n",
    "123.555.1234\n",
    "123*555*1234\n",
    "800-555-1234\n",
    "900-555-1234\n",
    "Mr. Schafer\n",
    "Mr Smith\n",
    "Ms Davis\n",
    "Mrs. Robinson\n",
    "Mr. T\n",
    "'''"
   ]
  },
  {
   "cell_type": "code",
   "execution_count": 233,
   "metadata": {},
   "outputs": [
    {
     "name": "stdout",
     "output_type": "stream",
     "text": [
      "<_sre.SRE_Match object; span=(0, 1), match='\\n'>\n",
      "<_sre.SRE_Match object; span=(27, 28), match='\\n'>\n",
      "<_sre.SRE_Match object; span=(54, 55), match='\\n'>\n",
      "<_sre.SRE_Match object; span=(55, 56), match='1'>\n",
      "<_sre.SRE_Match object; span=(56, 57), match='2'>\n",
      "<_sre.SRE_Match object; span=(57, 58), match='3'>\n",
      "<_sre.SRE_Match object; span=(58, 59), match='4'>\n",
      "<_sre.SRE_Match object; span=(59, 60), match='5'>\n",
      "<_sre.SRE_Match object; span=(60, 61), match='6'>\n",
      "<_sre.SRE_Match object; span=(61, 62), match='7'>\n",
      "<_sre.SRE_Match object; span=(62, 63), match='8'>\n",
      "<_sre.SRE_Match object; span=(63, 64), match='9'>\n",
      "<_sre.SRE_Match object; span=(64, 65), match='0'>\n",
      "<_sre.SRE_Match object; span=(65, 66), match='\\n'>\n",
      "<_sre.SRE_Match object; span=(68, 69), match=' '>\n",
      "<_sre.SRE_Match object; span=(73, 74), match='\\n'>\n",
      "<_sre.SRE_Match object; span=(88, 89), match=' '>\n",
      "<_sre.SRE_Match object; span=(89, 90), match='('>\n",
      "<_sre.SRE_Match object; span=(94, 95), match=' '>\n",
      "<_sre.SRE_Match object; span=(97, 98), match=' '>\n",
      "<_sre.SRE_Match object; span=(100, 101), match=' '>\n",
      "<_sre.SRE_Match object; span=(108, 109), match=')'>\n",
      "<_sre.SRE_Match object; span=(109, 110), match=':'>\n",
      "<_sre.SRE_Match object; span=(110, 111), match='\\n'>\n",
      "<_sre.SRE_Match object; span=(111, 112), match='.'>\n",
      "<_sre.SRE_Match object; span=(112, 113), match=' '>\n",
      "<_sre.SRE_Match object; span=(113, 114), match='^'>\n",
      "<_sre.SRE_Match object; span=(114, 115), match=' '>\n",
      "<_sre.SRE_Match object; span=(115, 116), match='$'>\n",
      "<_sre.SRE_Match object; span=(116, 117), match=' '>\n",
      "<_sre.SRE_Match object; span=(117, 118), match='*'>\n",
      "<_sre.SRE_Match object; span=(118, 119), match=' '>\n",
      "<_sre.SRE_Match object; span=(119, 120), match='+'>\n",
      "<_sre.SRE_Match object; span=(120, 121), match=' '>\n",
      "<_sre.SRE_Match object; span=(121, 122), match='?'>\n",
      "<_sre.SRE_Match object; span=(122, 123), match=' '>\n",
      "<_sre.SRE_Match object; span=(123, 124), match='{'>\n",
      "<_sre.SRE_Match object; span=(124, 125), match=' '>\n",
      "<_sre.SRE_Match object; span=(125, 126), match='}'>\n",
      "<_sre.SRE_Match object; span=(126, 127), match=' '>\n",
      "<_sre.SRE_Match object; span=(127, 128), match='['>\n",
      "<_sre.SRE_Match object; span=(128, 129), match=' '>\n",
      "<_sre.SRE_Match object; span=(129, 130), match=']'>\n",
      "<_sre.SRE_Match object; span=(130, 131), match=' '>\n",
      "<_sre.SRE_Match object; span=(131, 132), match='\\\\'>\n",
      "<_sre.SRE_Match object; span=(132, 133), match=' '>\n",
      "<_sre.SRE_Match object; span=(133, 134), match='|'>\n",
      "<_sre.SRE_Match object; span=(134, 135), match=' '>\n",
      "<_sre.SRE_Match object; span=(135, 136), match='('>\n",
      "<_sre.SRE_Match object; span=(136, 137), match=' '>\n",
      "<_sre.SRE_Match object; span=(137, 138), match=')'>\n",
      "<_sre.SRE_Match object; span=(138, 139), match='\\n'>\n",
      "<_sre.SRE_Match object; span=(146, 147), match='.'>\n",
      "<_sre.SRE_Match object; span=(150, 151), match='\\n'>\n",
      "<_sre.SRE_Match object; span=(151, 152), match='3'>\n",
      "<_sre.SRE_Match object; span=(152, 153), match='2'>\n",
      "<_sre.SRE_Match object; span=(153, 154), match='1'>\n",
      "<_sre.SRE_Match object; span=(154, 155), match='-'>\n",
      "<_sre.SRE_Match object; span=(155, 156), match='5'>\n",
      "<_sre.SRE_Match object; span=(156, 157), match='5'>\n",
      "<_sre.SRE_Match object; span=(157, 158), match='5'>\n",
      "<_sre.SRE_Match object; span=(158, 159), match='-'>\n",
      "<_sre.SRE_Match object; span=(159, 160), match='4'>\n",
      "<_sre.SRE_Match object; span=(160, 161), match='3'>\n",
      "<_sre.SRE_Match object; span=(161, 162), match='2'>\n",
      "<_sre.SRE_Match object; span=(162, 163), match='1'>\n",
      "<_sre.SRE_Match object; span=(163, 164), match='\\n'>\n",
      "<_sre.SRE_Match object; span=(164, 165), match='1'>\n",
      "<_sre.SRE_Match object; span=(165, 166), match='2'>\n",
      "<_sre.SRE_Match object; span=(166, 167), match='3'>\n",
      "<_sre.SRE_Match object; span=(167, 168), match='.'>\n",
      "<_sre.SRE_Match object; span=(168, 169), match='5'>\n",
      "<_sre.SRE_Match object; span=(169, 170), match='5'>\n",
      "<_sre.SRE_Match object; span=(170, 171), match='5'>\n",
      "<_sre.SRE_Match object; span=(171, 172), match='.'>\n",
      "<_sre.SRE_Match object; span=(172, 173), match='1'>\n",
      "<_sre.SRE_Match object; span=(173, 174), match='2'>\n",
      "<_sre.SRE_Match object; span=(174, 175), match='3'>\n",
      "<_sre.SRE_Match object; span=(175, 176), match='4'>\n",
      "<_sre.SRE_Match object; span=(176, 177), match='\\n'>\n",
      "<_sre.SRE_Match object; span=(177, 178), match='1'>\n",
      "<_sre.SRE_Match object; span=(178, 179), match='2'>\n",
      "<_sre.SRE_Match object; span=(179, 180), match='3'>\n",
      "<_sre.SRE_Match object; span=(180, 181), match='*'>\n",
      "<_sre.SRE_Match object; span=(181, 182), match='5'>\n",
      "<_sre.SRE_Match object; span=(182, 183), match='5'>\n",
      "<_sre.SRE_Match object; span=(183, 184), match='5'>\n",
      "<_sre.SRE_Match object; span=(184, 185), match='*'>\n",
      "<_sre.SRE_Match object; span=(185, 186), match='1'>\n",
      "<_sre.SRE_Match object; span=(186, 187), match='2'>\n",
      "<_sre.SRE_Match object; span=(187, 188), match='3'>\n",
      "<_sre.SRE_Match object; span=(188, 189), match='4'>\n",
      "<_sre.SRE_Match object; span=(189, 190), match='\\n'>\n",
      "<_sre.SRE_Match object; span=(190, 191), match='8'>\n",
      "<_sre.SRE_Match object; span=(191, 192), match='0'>\n",
      "<_sre.SRE_Match object; span=(192, 193), match='0'>\n",
      "<_sre.SRE_Match object; span=(193, 194), match='-'>\n",
      "<_sre.SRE_Match object; span=(194, 195), match='5'>\n",
      "<_sre.SRE_Match object; span=(195, 196), match='5'>\n",
      "<_sre.SRE_Match object; span=(196, 197), match='5'>\n",
      "<_sre.SRE_Match object; span=(197, 198), match='-'>\n",
      "<_sre.SRE_Match object; span=(198, 199), match='1'>\n",
      "<_sre.SRE_Match object; span=(199, 200), match='2'>\n",
      "<_sre.SRE_Match object; span=(200, 201), match='3'>\n",
      "<_sre.SRE_Match object; span=(201, 202), match='4'>\n",
      "<_sre.SRE_Match object; span=(202, 203), match='\\n'>\n",
      "<_sre.SRE_Match object; span=(203, 204), match='9'>\n",
      "<_sre.SRE_Match object; span=(204, 205), match='0'>\n",
      "<_sre.SRE_Match object; span=(205, 206), match='0'>\n",
      "<_sre.SRE_Match object; span=(206, 207), match='-'>\n",
      "<_sre.SRE_Match object; span=(207, 208), match='5'>\n",
      "<_sre.SRE_Match object; span=(208, 209), match='5'>\n",
      "<_sre.SRE_Match object; span=(209, 210), match='5'>\n",
      "<_sre.SRE_Match object; span=(210, 211), match='-'>\n",
      "<_sre.SRE_Match object; span=(211, 212), match='1'>\n",
      "<_sre.SRE_Match object; span=(212, 213), match='2'>\n",
      "<_sre.SRE_Match object; span=(213, 214), match='3'>\n",
      "<_sre.SRE_Match object; span=(214, 215), match='4'>\n",
      "<_sre.SRE_Match object; span=(215, 216), match='\\n'>\n",
      "<_sre.SRE_Match object; span=(218, 219), match='.'>\n",
      "<_sre.SRE_Match object; span=(219, 220), match=' '>\n",
      "<_sre.SRE_Match object; span=(227, 228), match='\\n'>\n",
      "<_sre.SRE_Match object; span=(230, 231), match=' '>\n",
      "<_sre.SRE_Match object; span=(236, 237), match='\\n'>\n",
      "<_sre.SRE_Match object; span=(239, 240), match=' '>\n",
      "<_sre.SRE_Match object; span=(245, 246), match='\\n'>\n",
      "<_sre.SRE_Match object; span=(249, 250), match='.'>\n",
      "<_sre.SRE_Match object; span=(250, 251), match=' '>\n",
      "<_sre.SRE_Match object; span=(259, 260), match='\\n'>\n",
      "<_sre.SRE_Match object; span=(262, 263), match='.'>\n",
      "<_sre.SRE_Match object; span=(263, 264), match=' '>\n",
      "<_sre.SRE_Match object; span=(265, 266), match='\\n'>\n"
     ]
    }
   ],
   "source": [
    "pattern=re.compile(r'[^a-zA-Z]')\n",
    "matches=pattern.finditer(text_to_search )\n",
    "\n",
    "for match in matches:\n",
    "    print(match)"
   ]
  },
  {
   "cell_type": "code",
   "execution_count": 93,
   "metadata": {},
   "outputs": [],
   "source": [
    "text='Mohamed Yasser  Mohamed Yasser '"
   ]
  },
  {
   "cell_type": "code",
   "execution_count": 95,
   "metadata": {},
   "outputs": [
    {
     "name": "stdout",
     "output_type": "stream",
     "text": [
      "<re.Match object; span=(0, 2), match='Mo'>\n"
     ]
    }
   ],
   "source": [
    "pattern = re.compile(r'^Mo')\n",
    "matches = pattern.finditer(text )\n",
    "\n",
    "for match in matches:\n",
    "    print(match)"
   ]
  },
  {
   "cell_type": "code",
   "execution_count": 96,
   "metadata": {},
   "outputs": [],
   "source": [
    "text='''\n",
    "\n",
    "cat\n",
    "mat\n",
    "pat\n",
    "bat\n",
    "'''"
   ]
  },
  {
   "cell_type": "code",
   "execution_count": 97,
   "metadata": {},
   "outputs": [
    {
     "name": "stdout",
     "output_type": "stream",
     "text": [
      "<re.Match object; span=(2, 5), match='cat'>\n",
      "<re.Match object; span=(6, 9), match='mat'>\n",
      "<re.Match object; span=(10, 13), match='pat'>\n",
      "<re.Match object; span=(14, 17), match='bat'>\n"
     ]
    }
   ],
   "source": [
    "pattern = re.compile(r\"\\wat\")\n",
    "matches = pattern.finditer(text)\n",
    "\n",
    "for match in matches:\n",
    "    print(match)"
   ]
  },
  {
   "cell_type": "code",
   "execution_count": 98,
   "metadata": {},
   "outputs": [
    {
     "name": "stdout",
     "output_type": "stream",
     "text": [
      "<re.Match object; span=(2, 5), match='cat'>\n",
      "<re.Match object; span=(6, 9), match='mat'>\n",
      "<re.Match object; span=(10, 13), match='pat'>\n"
     ]
    }
   ],
   "source": [
    "pattern = re.compile(r'[^b]at')\n",
    "matches = pattern.finditer(text )\n",
    "\n",
    "for match in matches:\n",
    "    print(match)"
   ]
  },
  {
   "cell_type": "markdown",
   "metadata": {},
   "source": [
    "## lets match any charcater with a separator "
   ]
  },
  {
   "cell_type": "markdown",
   "metadata": {},
   "source": [
    "### \\d{3} --> means we are matching a three digits instead \\d\\d\\d\n",
    "### \\d{4} --> means we are matching a four digits instead \\d\\d\\d\\d"
   ]
  },
  {
   "cell_type": "code",
   "execution_count": 100,
   "metadata": {},
   "outputs": [
    {
     "name": "stderr",
     "output_type": "stream",
     "text": [
      "<>:1: SyntaxWarning: invalid escape sequence '\\ '\n",
      "<>:1: SyntaxWarning: invalid escape sequence '\\ '\n",
      "C:\\Users\\Mohamed Yasser\\AppData\\Local\\Temp\\ipykernel_3276\\7624663.py:1: SyntaxWarning: invalid escape sequence '\\ '\n",
      "  text_to_search ='''\n"
     ]
    }
   ],
   "source": [
    "text_to_search ='''\n",
    "abcdefghijklmnopqurtuvwxyz\n",
    "ABCDEFGHIJKLMNOPQRSTUVWXYZ\n",
    "1234567890\n",
    "Ha HaHa\n",
    "MetaCharacters (Need to be escaped):\n",
    ". ^ $ * + ? { } [ ] \\ | ( )\n",
    "coreyms.com\n",
    "321-555-4321\n",
    "123.555.1234\n",
    "123*555*1234\n",
    "800-555-1234\n",
    "900-555\\1234\n",
    "Mr. Schafer\n",
    "Mr Smith\n",
    "Ms Davis\n",
    "Mrs. Robinson\n",
    "Mr. T\n",
    "'''"
   ]
  },
  {
   "cell_type": "code",
   "execution_count": 102,
   "metadata": {},
   "outputs": [
    {
     "name": "stdout",
     "output_type": "stream",
     "text": [
      "<re.Match object; span=(151, 163), match='321-555-4321'>\n",
      "<re.Match object; span=(177, 189), match='123*555*1234'>\n",
      "<re.Match object; span=(190, 202), match='800-555-1234'>\n"
     ]
    }
   ],
   "source": [
    "pattern = re.compile(r\"\\d{3}[-*.]\\d{3}[-*]\\d{4}\")\n",
    "matches = pattern.finditer(text_to_search )\n",
    "\n",
    "for match in matches:\n",
    "    print(match)"
   ]
  },
  {
   "cell_type": "code",
   "execution_count": 103,
   "metadata": {},
   "outputs": [],
   "source": [
    "text ='''\n",
    "Mr. Schafer\n",
    "Mr Smith\n",
    "Ms Davis\n",
    "Mrs. Robinson\n",
    "Mr dunfy\n",
    "Mr. T\n",
    "'''"
   ]
  },
  {
   "cell_type": "code",
   "execution_count": 104,
   "metadata": {},
   "outputs": [
    {
     "name": "stdout",
     "output_type": "stream",
     "text": [
      "<re.Match object; span=(213, 216), match='Mr.'>\n",
      "<re.Match object; span=(257, 260), match='Mr.'>\n"
     ]
    }
   ],
   "source": [
    "pattern=re.compile(r'Mr\\.')\n",
    "matches=pattern.finditer(text_to_search )\n",
    "\n",
    "for match in matches:\n",
    "    print(match)"
   ]
  },
  {
   "cell_type": "markdown",
   "metadata": {},
   "source": [
    "## Observations :- it detects only the Mr that have a dot after it only"
   ]
  },
  {
   "cell_type": "markdown",
   "metadata": {},
   "source": [
    "## we need to say that the dot (peroid) after the Mr is optional this can be done by inserting after `Mr\\.` a `?` "
   ]
  },
  {
   "cell_type": "code",
   "execution_count": 105,
   "metadata": {},
   "outputs": [
    {
     "name": "stdout",
     "output_type": "stream",
     "text": [
      "<re.Match object; span=(213, 216), match='Mr.'>\n",
      "<re.Match object; span=(225, 227), match='Mr'>\n",
      "<re.Match object; span=(243, 245), match='Mr'>\n",
      "<re.Match object; span=(257, 260), match='Mr.'>\n"
     ]
    }
   ],
   "source": [
    "pattern=re.compile(r'Mr\\.?')\n",
    "matches=pattern.finditer(text_to_search )\n",
    "\n",
    "for match in matches:\n",
    "    print(match)"
   ]
  },
  {
   "cell_type": "markdown",
   "metadata": {},
   "source": [
    "## lets say we want to match only the records that have after the dot or space the upper case letter such as \n",
    "\n",
    "Mr Smith\n"
   ]
  },
  {
   "cell_type": "code",
   "execution_count": 106,
   "metadata": {},
   "outputs": [],
   "source": [
    "text ='''\n",
    "Mr. Schafer\n",
    "Mr Smith\n",
    "Ms Davis\n",
    "Mrs. Robinson\n",
    "Mr dunfy\n",
    "Mr. T\n",
    "'''"
   ]
  },
  {
   "cell_type": "code",
   "execution_count": 270,
   "metadata": {},
   "outputs": [
    {
     "name": "stdout",
     "output_type": "stream",
     "text": [
      "<_sre.SRE_Match object; span=(216, 221), match='Mr. S'>\n",
      "<_sre.SRE_Match object; span=(228, 232), match='Mr S'>\n",
      "<_sre.SRE_Match object; span=(260, 265), match='Mr. T'>\n"
     ]
    }
   ],
   "source": [
    "pattern = re.compile(r'Mr\\.?\\s[A-Z]')\n",
    "matches = pattern.finditer(text_to_search )\n",
    "\n",
    "for match in matches:\n",
    "    print(match)"
   ]
  },
  {
   "cell_type": "code",
   "execution_count": 108,
   "metadata": {},
   "outputs": [
    {
     "name": "stdout",
     "output_type": "stream",
     "text": [
      "<re.Match object; span=(234, 238), match='Ms D'>\n"
     ]
    }
   ],
   "source": [
    "pattern=re.compile(r'Ms\\.?\\s[A-Z]')\n",
    "matches=pattern.finditer(text_to_search )\n",
    "\n",
    "for match in matches:\n",
    "    print(match)"
   ]
  },
  {
   "cell_type": "markdown",
   "metadata": {},
   "source": [
    "`\\w` indicates a word charachter \n",
    "\n",
    "`+` indicates we have one or more words chars after"
   ]
  },
  {
   "cell_type": "code",
   "execution_count": 110,
   "metadata": {},
   "outputs": [
    {
     "name": "stdout",
     "output_type": "stream",
     "text": [
      "<re.Match object; span=(213, 224), match='Mr. Schafer'>\n",
      "<re.Match object; span=(225, 233), match='Mr Smith'>\n",
      "<re.Match object; span=(257, 262), match='Mr. T'>\n"
     ]
    }
   ],
   "source": [
    "pattern = re.compile(r'Mr\\.?\\s[A-Z]\\w*')\n",
    "matches = pattern.finditer(text_to_search )\n",
    "\n",
    "for match in matches:\n",
    "    print(match)"
   ]
  },
  {
   "cell_type": "code",
   "execution_count": 111,
   "metadata": {},
   "outputs": [
    {
     "name": "stdout",
     "output_type": "stream",
     "text": [
      "<re.Match object; span=(213, 224), match='Mr. Schafer'>\n",
      "<re.Match object; span=(225, 233), match='Mr Smith'>\n"
     ]
    }
   ],
   "source": [
    "pattern = re.compile(r\"Mr\\.?\\s[A-Z]\\w+\")\n",
    "matches = pattern.finditer(text_to_search)\n",
    "\n",
    "for match in matches:\n",
    "    print(match)"
   ]
  },
  {
   "cell_type": "markdown",
   "metadata": {},
   "source": [
    "`*` indicates we have **zero** or **more** words chars after\n",
    "\n",
    "`+` indicates we have **one** or **more** words chars after\n",
    "\n",
    "`?` indicates we have **zero** or **one**"
   ]
  },
  {
   "cell_type": "code",
   "execution_count": 112,
   "metadata": {},
   "outputs": [],
   "source": [
    "text ='''\n",
    "Mr. Schafer\n",
    "Mr Smith\n",
    "Ms Davis\n",
    "Mrs. Robinson\n",
    "Mr dunfy\n",
    "Mr. T\n",
    "'''"
   ]
  },
  {
   "cell_type": "code",
   "execution_count": 113,
   "metadata": {},
   "outputs": [
    {
     "name": "stdout",
     "output_type": "stream",
     "text": [
      "<re.Match object; span=(213, 224), match='Mr. Schafer'>\n",
      "<re.Match object; span=(225, 233), match='Mr Smith'>\n",
      "<re.Match object; span=(257, 262), match='Mr. T'>\n"
     ]
    }
   ],
   "source": [
    "pattern = re.compile(r'Mr\\.?\\s[A-Z]\\w*')\n",
    "matches = pattern.finditer(text_to_search )\n",
    "\n",
    "for match in matches:\n",
    "    print(match)"
   ]
  },
  {
   "cell_type": "code",
   "execution_count": 114,
   "metadata": {},
   "outputs": [],
   "source": [
    "text='Mohamed.yasser@deeptensor.website ahmed_mohamed_2020@gmail.com'"
   ]
  },
  {
   "cell_type": "code",
   "execution_count": 115,
   "metadata": {},
   "outputs": [
    {
     "name": "stderr",
     "output_type": "stream",
     "text": [
      "<>:1: SyntaxWarning: invalid escape sequence '\\.'\n",
      "<>:1: SyntaxWarning: invalid escape sequence '\\.'\n",
      "C:\\Users\\Mohamed Yasser\\AppData\\Local\\Temp\\ipykernel_3276\\3421818650.py:1: SyntaxWarning: invalid escape sequence '\\.'\n",
      "  re.search('[a-z0-9._]+@[a-z0-9.]+\\.[a-z]+',text)\n"
     ]
    },
    {
     "data": {
      "text/plain": [
       "<re.Match object; span=(1, 33), match='ohamed.yasser@deeptensor.website'>"
      ]
     },
     "execution_count": 115,
     "metadata": {},
     "output_type": "execute_result"
    }
   ],
   "source": [
    "re.search('[a-z0-9._]+@[a-z0-9.]+\\.[a-z]+',text)"
   ]
  },
  {
   "cell_type": "markdown",
   "metadata": {},
   "source": [
    "## didnot find the M capital in `Mohamed` litter becuase i didnot mention in the filter"
   ]
  },
  {
   "cell_type": "code",
   "execution_count": 116,
   "metadata": {},
   "outputs": [
    {
     "name": "stderr",
     "output_type": "stream",
     "text": [
      "<>:1: SyntaxWarning: invalid escape sequence '\\.'\n",
      "<>:1: SyntaxWarning: invalid escape sequence '\\.'\n",
      "C:\\Users\\Mohamed Yasser\\AppData\\Local\\Temp\\ipykernel_3276\\2018005278.py:1: SyntaxWarning: invalid escape sequence '\\.'\n",
      "  re.findall('[a-z0-9._]+@[a-z09.]+\\.[a-z]+',text)\n"
     ]
    },
    {
     "data": {
      "text/plain": [
       "['ohamed.yasser@deeptensor.website', 'ahmed_mohamed_2020@gmail.com']"
      ]
     },
     "execution_count": 116,
     "metadata": {},
     "output_type": "execute_result"
    }
   ],
   "source": [
    "re.findall('[a-z0-9._]+@[a-z09.]+\\.[a-z]+',text)"
   ]
  },
  {
   "cell_type": "markdown",
   "metadata": {},
   "source": [
    "## lets mention it in the filter by adding `[A-Z]`"
   ]
  },
  {
   "cell_type": "code",
   "execution_count": 117,
   "metadata": {},
   "outputs": [
    {
     "name": "stderr",
     "output_type": "stream",
     "text": [
      "<>:1: SyntaxWarning: invalid escape sequence '\\.'\n",
      "<>:1: SyntaxWarning: invalid escape sequence '\\.'\n",
      "C:\\Users\\Mohamed Yasser\\AppData\\Local\\Temp\\ipykernel_3276\\1569986641.py:1: SyntaxWarning: invalid escape sequence '\\.'\n",
      "  re.search('[a-zA-Z0-9._]+@[a-z0-9.]+\\.[a-z]+',text)\n"
     ]
    },
    {
     "data": {
      "text/plain": [
       "<re.Match object; span=(0, 33), match='Mohamed.yasser@deeptensor.website'>"
      ]
     },
     "execution_count": 117,
     "metadata": {},
     "output_type": "execute_result"
    }
   ],
   "source": [
    "re.search('[a-zA-Z0-9._]+@[a-z0-9.]+\\.[a-z]+',text)"
   ]
  },
  {
   "cell_type": "code",
   "execution_count": 118,
   "metadata": {},
   "outputs": [
    {
     "name": "stderr",
     "output_type": "stream",
     "text": [
      "<>:1: SyntaxWarning: invalid escape sequence '\\.'\n",
      "<>:1: SyntaxWarning: invalid escape sequence '\\.'\n",
      "C:\\Users\\Mohamed Yasser\\AppData\\Local\\Temp\\ipykernel_3276\\1832078959.py:1: SyntaxWarning: invalid escape sequence '\\.'\n",
      "  re.findall('[a-zA-Z0-9._]+@[a-z0-9.]+\\.[a-z]+',text)\n"
     ]
    },
    {
     "data": {
      "text/plain": [
       "['Mohamed.yasser@deeptensor.website', 'ahmed_mohamed_2020@gmail.com']"
      ]
     },
     "execution_count": 118,
     "metadata": {},
     "output_type": "execute_result"
    }
   ],
   "source": [
    "re.findall('[a-zA-Z0-9._]+@[a-z0-9.]+\\.[a-z]+',text)"
   ]
  },
  {
   "cell_type": "markdown",
   "metadata": {},
   "source": [
    "## when i put `\\.` it means that i need to filter out the actual `.`"
   ]
  },
  {
   "cell_type": "code",
   "execution_count": 121,
   "metadata": {},
   "outputs": [
    {
     "data": {
      "text/plain": [
       "['Mohamed.elhajabdou123@deeptensor.website', 'ahmed_mohamed_2020@gmail.com']"
      ]
     },
     "execution_count": 121,
     "metadata": {},
     "output_type": "execute_result"
    }
   ],
   "source": [
    "re.findall('[a-zA-Z0-9._]+@[a-z0-9.]+\\.[a-z]+',text)"
   ]
  },
  {
   "cell_type": "markdown",
   "metadata": {},
   "source": [
    "## when i put `.` without `\\`  it means that i need at least one litter "
   ]
  },
  {
   "cell_type": "code",
   "execution_count": 122,
   "metadata": {},
   "outputs": [],
   "source": [
    "text = \"Mohamed.yasser@deeptensor.55\""
   ]
  },
  {
   "cell_type": "code",
   "execution_count": 123,
   "metadata": {},
   "outputs": [
    {
     "data": {
      "text/plain": [
       "['ohamed.yasser@deeptensor']"
      ]
     },
     "execution_count": 123,
     "metadata": {},
     "output_type": "execute_result"
    }
   ],
   "source": [
    "re.findall('[a-z0-9._]+@[a-z0-9.]+.[a-z]+',text)"
   ]
  },
  {
   "cell_type": "code",
   "execution_count": 124,
   "metadata": {},
   "outputs": [],
   "source": [
    "text='Mohamed.yasser@deeptensor.s'"
   ]
  },
  {
   "cell_type": "code",
   "execution_count": 125,
   "metadata": {},
   "outputs": [
    {
     "data": {
      "text/plain": [
       "['ohamed.yasser@deeptensor.s']"
      ]
     },
     "execution_count": 125,
     "metadata": {},
     "output_type": "execute_result"
    }
   ],
   "source": [
    "re.findall('[a-z0-9._]+@[a-z0-9.]+.[a-z]+',text)"
   ]
  },
  {
   "cell_type": "markdown",
   "metadata": {},
   "source": [
    "### Excercis"
   ]
  },
  {
   "cell_type": "code",
   "execution_count": 127,
   "metadata": {},
   "outputs": [
    {
     "name": "stderr",
     "output_type": "stream",
     "text": [
      "<>:9: SyntaxWarning: invalid escape sequence '\\/'\n",
      "<>:9: SyntaxWarning: invalid escape sequence '\\/'\n",
      "C:\\Users\\Mohamed Yasser\\AppData\\Local\\Temp\\ipykernel_3276\\1518966753.py:9: SyntaxWarning: invalid escape sequence '\\/'\n",
      "  pattern = \"https:\\/\\/twitter.com\\/[a-z_\\d0-9]+\"\n"
     ]
    },
    {
     "data": {
      "text/plain": [
       "['https://twitter.com/elonmusk',\n",
       " 'https://twitter.com/teslarati',\n",
       " 'https://twitter.com/dummy_tesla',\n",
       " 'https://twitter.com/dummy_2_tesla']"
      ]
     },
     "execution_count": 127,
     "metadata": {},
     "output_type": "execute_result"
    }
   ],
   "source": [
    "text = \"\"\"\n",
    "Follow our leader Elon musk on twitter here: https://twitter.com/elonmusk, more information \n",
    "on Tesla's products can be found at https://www.tesla.com/. Also here are leading influencers \n",
    "for tesla related news,\n",
    "https://twitter.com/teslarati\n",
    "https://twitter.com/dummy_tesla\n",
    "https://twitter.com/dummy_2_tesla\n",
    "\"\"\"\n",
    "pattern = \"https:\\/\\/twitter.com\\/[a-z_\\d0-9]+\"\n",
    "\n",
    "re.findall(pattern, text)"
   ]
  },
  {
   "cell_type": "code",
   "execution_count": 128,
   "metadata": {},
   "outputs": [
    {
     "name": "stderr",
     "output_type": "stream",
     "text": [
      "<>:6: SyntaxWarning: invalid escape sequence '\\$'\n",
      "<>:6: SyntaxWarning: invalid escape sequence '\\$'\n",
      "C:\\Users\\Mohamed Yasser\\AppData\\Local\\Temp\\ipykernel_3276\\1609572407.py:6: SyntaxWarning: invalid escape sequence '\\$'\n",
      "  pattern = \"FY2021 [SQ1-9]+ was \\$\\d.+\"\n"
     ]
    },
    {
     "data": {
      "text/plain": [
       "['FY2021 Q1 was $4.85 billion.', 'FY2021 S1 was $8 billion.']"
      ]
     },
     "execution_count": 128,
     "metadata": {},
     "output_type": "execute_result"
    }
   ],
   "source": [
    "text = \"\"\"\n",
    "Tesla's gross cost of operating lease vehicles in FY2021 Q1 was $4.85 billion.\n",
    "BMW's gross cost of operating vehicles in FY2021 S1 was $8 billion.\n",
    "\"\"\"\n",
    "\n",
    "pattern = \"FY2021 [SQ1-9]+ was \\$\\d.+\"\n",
    "matches = re.findall(pattern, text)\n",
    "matches"
   ]
  },
  {
   "cell_type": "code",
   "execution_count": null,
   "metadata": {},
   "outputs": [],
   "source": []
  }
 ],
 "metadata": {
  "kernelspec": {
   "display_name": "Python 3 (ipykernel)",
   "language": "python",
   "name": "python3"
  },
  "language_info": {
   "codemirror_mode": {
    "name": "ipython",
    "version": 3
   },
   "file_extension": ".py",
   "mimetype": "text/x-python",
   "name": "python",
   "nbconvert_exporter": "python",
   "pygments_lexer": "ipython3",
   "version": "3.12.2"
  }
 },
 "nbformat": 4,
 "nbformat_minor": 2
}
